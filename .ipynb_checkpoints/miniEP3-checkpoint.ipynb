{
 "cells": [
  {
   "cell_type": "markdown",
   "metadata": {},
   "source": [
    "# MiniEP3 - Aproximação de Integrais usando Médias e Amostragem Uniforme, com a biblioteca *pthreads*\n",
    "\n",
    "## Entrega do miniEP3\n",
    "\n",
    "Preencha o nome dos 5 membros do seu grupo na tabela abaixo:\n",
    "\n",
    "| Nome | NUSP |\n",
    "|------|------|\n",
    "| Ariel Serranoni Soares da Silva| 7658024 |\n",
    "\n",
    "\n",
    "**Apenas um dos membros** deverá entregar um **arquivo .tar**, até o dia **29 de Abril**, com:\n",
    "\n",
    "1. **Este arquivo** `.ipynb`, com as soluções do miniEP3 **feitas pelo grupo**\n",
    "    \n",
    "    - Os gráficos e análises devem poder ser produzidos\n",
    "    \n",
    "    \n",
    "2. O **código C escrito** (arquivo `monte_carlo.c`)\n",
    "\n",
    "    - Deve compilar e executar **sem erros**\n",
    "    \n",
    "    \n",
    "    \n",
    "3. Os arquivos `Makefile`, e `Project.toml`\n",
    "4. Um **arquivo .csv** com os resultados das medições feitas neste miniEP\n",
    "\n",
    "    - Entregue os dados de cada repetição, sem processamento (não calcule a média e CI)\n",
    "\n",
    "## Configuração do Ambiente\n",
    "\n",
    "Como no miniEP1&2, a primeira tarefa é instalar e configurar o ambiente.\n",
    "\n",
    "### Compilador C\n",
    "\n",
    "Neste miniEP também vamos usar a linguagem C e a biblioteca *pthreads*. Vocês vão precisar de acesso a um sistema Linux com o compilador GCC e a biblioteca *pthreads*. Caso não consiga instalar o GCC ou tenha dificuldades para acessar um sistema Linux, entre em contato pelo fórum do *Edisciplinas*.\n",
    "\n",
    "### Julia, Jupyter, IJulia\n",
    "\n",
    "Pule essa etapa se já configurou o ambiente Julia no miniEP1&2.\n",
    "Para fazer o miniEP, vocês vão precisar:\n",
    "\n",
    "- [Instalar o Jupyter Notebook](https://jupyter.readthedocs.io/en/latest/install.html)\n",
    "- Instalar Julia 1.3:\n",
    "    - [Baixando o binário](https://julialang.org/downloads/)\n",
    "    - **ou** [usando seu gerenciador de pacotes](https://julialang.org/downloads/platform/)\n",
    "- Instalar o pacote *IJulia*:\n",
    "    - Inicie o interpretador Julia\n",
    "    - Digite `] add IJulia` e pressione `<ENTER>`\n",
    "    \n",
    "Depois disso, vocês vão conseguir iniciar o arquivo `.ipynb` do miniEP.\n",
    "\n",
    "### Pacotes Julia para o miniEP\n",
    "\n",
    "Os pacotes necessários para o miniEP estão listados no arquivo `Project.toml`, mas vocês podem instalar e atualizar os pacotes rodando a célula abaixo:"
   ]
  },
  {
   "cell_type": "code",
   "execution_count": 1,
   "metadata": {},
   "outputs": [
    {
     "name": "stderr",
     "output_type": "stream",
     "text": [
      "\u001b[32m\u001b[1m   Updating\u001b[22m\u001b[39m registry at `~/.julia/registries/General`\n"
     ]
    },
    {
     "name": "stdout",
     "output_type": "stream",
     "text": [
      "\u001b[?25l    "
     ]
    },
    {
     "name": "stderr",
     "output_type": "stream",
     "text": [
      "\u001b[32m\u001b[1m   Updating\u001b[22m\u001b[39m git-repo `https://github.com/JuliaRegistries/General.git`\n"
     ]
    },
    {
     "name": "stdout",
     "output_type": "stream",
     "text": [
      "\u001b[2K\u001b[?25h[1mFetching:\u001b[22m\u001b[39m [========================================>]  100.0 %%             ]  65.7 %             ]  66.7 %=====================================>   ]  91.1 %\u001b[36m\u001b[1mFetching:\u001b[22m\u001b[39m [=====================================>   ]  91.3 %"
     ]
    },
    {
     "name": "stderr",
     "output_type": "stream",
     "text": [
      "\u001b[32m\u001b[1m  Installed\u001b[22m\u001b[39m Compat ───────── v3.9.0\n",
      "\u001b[32m\u001b[1m  Installed\u001b[22m\u001b[39m PlotUtils ────── v1.0.2\n",
      "\u001b[32m\u001b[1m  Installed\u001b[22m\u001b[39m ArrayInterface ─ v2.8.6\n",
      "\u001b[32m\u001b[1m  Installed\u001b[22m\u001b[39m FillArrays ───── v0.8.8\n",
      "\u001b[32m\u001b[1m  Installed\u001b[22m\u001b[39m DataStructures ─ v0.17.15\n",
      "\u001b[32m\u001b[1m  Installed\u001b[22m\u001b[39m Optim ────────── v0.21.0\n",
      "\u001b[32m\u001b[1m   Updating\u001b[22m\u001b[39m `/mnt/c/Users/Ariel/Desktop/miniEP3/Project.toml`\n",
      "\u001b[90m [no changes]\u001b[39m\n",
      "\u001b[32m\u001b[1m   Updating\u001b[22m\u001b[39m `/mnt/c/Users/Ariel/Desktop/miniEP3/Manifest.toml`\n",
      " \u001b[90m [4fba245c]\u001b[39m\u001b[93m ↑ ArrayInterface v2.8.5 ⇒ v2.8.6\u001b[39m\n",
      " \u001b[90m [34da2185]\u001b[39m\u001b[93m ↑ Compat v3.8.0 ⇒ v3.9.0\u001b[39m\n",
      " \u001b[90m [864edb3b]\u001b[39m\u001b[93m ↑ DataStructures v0.17.14 ⇒ v0.17.15\u001b[39m\n",
      " \u001b[90m [1a297f60]\u001b[39m\u001b[93m ↑ FillArrays v0.8.7 ⇒ v0.8.8\u001b[39m\n",
      " \u001b[90m [429524aa]\u001b[39m\u001b[93m ↑ Optim v0.20.6 ⇒ v0.21.0\u001b[39m\n",
      " \u001b[90m [995b91a9]\u001b[39m\u001b[93m ↑ PlotUtils v1.0.0 ⇒ v1.0.2\u001b[39m\n"
     ]
    }
   ],
   "source": [
    "] up"
   ]
  },
  {
   "cell_type": "markdown",
   "metadata": {},
   "source": [
    "Verifique o status dos pacotes, e se há algum problema, com o comando:"
   ]
  },
  {
   "cell_type": "code",
   "execution_count": 2,
   "metadata": {},
   "outputs": [
    {
     "name": "stdout",
     "output_type": "stream",
     "text": [
      "\u001b[32m\u001b[1mStatus\u001b[22m\u001b[39m `/mnt/c/Users/Ariel/Desktop/miniEP3/Project.toml`\n",
      " \u001b[90m [336ed68f]\u001b[39m\u001b[37m CSV v0.6.1\u001b[39m\n",
      " \u001b[90m [a93c6f00]\u001b[39m\u001b[37m DataFrames v0.20.2\u001b[39m\n",
      " \u001b[90m [31c24e10]\u001b[39m\u001b[37m Distributions v0.23.2\u001b[39m\n",
      " \u001b[90m [7073ff75]\u001b[39m\u001b[37m IJulia v1.21.2\u001b[39m\n",
      " \u001b[90m [8314cec4]\u001b[39m\u001b[37m PGFPlotsX v1.2.6\u001b[39m\n",
      " \u001b[90m [1a8c2f83]\u001b[39m\u001b[37m Query v0.12.2\u001b[39m\n",
      " \u001b[90m [f3b207a7]\u001b[39m\u001b[37m StatsPlots v0.14.5\u001b[39m\n"
     ]
    }
   ],
   "source": [
    "] st"
   ]
  },
  {
   "cell_type": "markdown",
   "metadata": {},
   "source": [
    "## Integração por Método de Monte Carlo\n",
    "\n",
    "O objetivo deste miniEP é promover o estudo de programação paralela usando a biblioteca *pthreads*. Vamos utilizar uma versão sequencial em C do código em Julia do miniEP1&2. A tarefa deste miniEP será completar a implementação em C, escrever um programa paralelo usando a biblioteca *pthreads*, e analisar o desempenho do programa escrito com diferentes números de threads.\n",
    "\n",
    "Lembrando o que vimos no miniEP1&2, a intuição por trás do método de Monte Carlo é que a integral de uma função $f$ pode ser estimada pela média do valor de $f$ num conjunto suficientemente grande de pontos obtidos a partir de uma distribuição uniforme. Mais formalmente, para um conjunto de pontos $x_1,\\dots,x_N$ uniformemente amostrados num intervalo $[a,b]$, a integral de $f$ no intervalo $[a,b]$ pode ser aproximada por:\n",
    "\n",
    "$$\n",
    "\\int_{a}^{b} f(x)dx \\approx \\mathbb{E}\\left[\\left(b - a\\right)\\dfrac{1}{N}\\sum\\limits_{i = 1}^{N}{f(x_i)}\\right] \n",
    "$$\n",
    "\n",
    "Para uma representação gráfica da intuição, e para a prova dessa aproximação, veja [esta página](https://www.scratchapixel.com/lessons/mathematics-physics-for-computer-graphics/monte-carlo-methods-in-practice/monte-carlo-integration).\n",
    "\n",
    "A Integração por Método de Monte Carlo é um problema [embaraçosamente paralelo](https://en.wikipedia.org/wiki/Embarrassingly_parallel), isto é, podemos executar todas as iterações envolvidas **em paralelo**, sem nos preocupar com conflitos de acesso à memória. Apesar disso, vamos ver neste miniEP que não basta apenas aumentar a quantidade de recursos computacionais para ganhar desempenho.\n",
    "\n",
    "### Função Alvo\n",
    "\n",
    "Vamos estimar a integral da seguinte função:\n",
    "\n",
    "$$\n",
    "f_1(x) = \\dfrac{2}{\\sqrt{1 - x ^ 2}}\n",
    "$$\n",
    "\n",
    "A integral da função $f_1$, é [dada por](https://en.wikipedia.org/wiki/List_of_definite_integrals#Definite_integrals_involving_rational_or_irrational_expressions):\n",
    "\n",
    "$$\n",
    "\\int_{0}^{1}{f_1(x)dx} = \\int_{0}^{1}{\\dfrac{2}{\\sqrt{1 - x ^ 2}}dx} = \\pi\n",
    "$$\n",
    "\n",
    "## Exercício 1: Implementação Sequencial em C\n",
    "\n",
    "Lembre-se do código em Julia:"
   ]
  },
  {
   "cell_type": "code",
   "execution_count": 3,
   "metadata": {},
   "outputs": [
    {
     "name": "stderr",
     "output_type": "stream",
     "text": [
      "┌ Info: Precompiling Distributions [31c24e10-a181-5473-b8eb-7969acd0382f]\n",
      "└ @ Base loading.jl:1260\n"
     ]
    },
    {
     "data": {
      "text/plain": [
       "monte_carlo_integrate (generic function with 2 methods)"
      ]
     },
     "execution_count": 3,
     "metadata": {},
     "output_type": "execute_result"
    }
   ],
   "source": [
    "using Distributions\n",
    "\n",
    "function monte_carlo_integrate(f, interval, samples = 100)\n",
    "    xs = rand(Uniform(interval[1], interval[2]), samples)\n",
    "    \n",
    "    # Using for loops:\n",
    "    # accumulator = 0\n",
    "    #\n",
    "    # for x in xs\n",
    "    #     accumulator += f(x)\n",
    "    # end\n",
    "    #\n",
    "    # return accumulator / samples\n",
    "    \n",
    "    # Using vectorized function application:\n",
    "    return sum(f.(xs)) / samples\n",
    "end"
   ]
  },
  {
   "cell_type": "markdown",
   "metadata": {},
   "source": [
    "O primeiro exercício consiste em completar a implementação sequencial em C, fornecida no arquivo `monte_carlo.c`. Baseiem-se na versão Julia, e usem seus editores de código preferidos para modificar e escrever código em C. Se vocês ainda não têm preferência de editor de código, procurem experimentar editores como o Emacs e o Vim. São programas antigos e com uma curva de aprendizado um pouco íngreme, mas são muito poderosos e os esforços se pagam com juros. Esta pode ser uma chance de aprender a usá-los.\n",
    "\n",
    "Vocês devem escrever a função de assinatura:\n",
    "\n",
    "```C\n",
    "long double monte_carlo_integrate(long double (*f)(long double), long double *samples, int size)\n",
    "```\n",
    "\n",
    "Na assinatura acima, o parâmetro `f` é um ponteiro para uma função que recebe um `long double` e devolve um `long double`, `samples` é um ponteiro para um vetor de `long double` onde vamos guardar os valores de `f` que queremos avaliar, e `size` é o tamanho de `samples`.\n",
    "\n",
    "A primeira parte do exercício é ler e compreender o funcionamento do código em C fornecido no enunciado. É um exercício interessante para ver como uma linguagem de alto nível, como Julia, abstrai camadas conceituais e facilita a prototipagem de código complexo ao custo de esconder detalhes de implementação.\n",
    "\n",
    "### Exercício 1a)"
   ]
  },
  {
   "cell_type": "markdown",
   "metadata": {},
   "source": [
    "Vocês podem compilar e executar o programa `monte_carlo.c` através deste notebook acessando o *modo shell* do interpretador Julia com a tecla `;`:"
   ]
  },
  {
   "cell_type": "code",
   "execution_count": 4,
   "metadata": {},
   "outputs": [
    {
     "name": "stdout",
     "output_type": "stream",
     "text": [
      "gcc monte_carlo.c -o monte_carlo -Wall -lpthread -lm -DDEBUG=1\n"
     ]
    }
   ],
   "source": [
    "; make debug"
   ]
  },
  {
   "cell_type": "markdown",
   "metadata": {},
   "source": [
    "Depois, podemos rodar o programa compilado com:"
   ]
  },
  {
   "cell_type": "code",
   "execution_count": 5,
   "metadata": {},
   "outputs": [
    {
     "name": "stdout",
     "output_type": "stream",
     "text": [
      "usage: ./monte_carlo SAMPLES FUNCTION_ID N_THREADS\n"
     ]
    }
   ],
   "source": [
    "; ./monte_carlo"
   ]
  },
  {
   "cell_type": "markdown",
   "metadata": {},
   "source": [
    "Seguindo as instruções de uso, temos:"
   ]
  },
  {
   "cell_type": "code",
   "execution_count": 29,
   "metadata": {},
   "outputs": [
    {
     "name": "stdout",
     "output_type": "stream",
     "text": [
      "Running on: [debug mode]\n",
      "Samples: [100000000]\n",
      "Function id: [0]\n",
      "Threads: [1]\n",
      "Array size on memory: [1.60GB]\n",
      "Running sequential version\n",
      "3.1420388305387568, [10.734375, clock], [11.618801, clock_gettime], [11.618798, gettimeofday]\n"
     ]
    }
   ],
   "source": [
    "; ./monte_carlo 100000000 0 1"
   ]
  },
  {
   "cell_type": "markdown",
   "metadata": {},
   "source": [
    "Como compilamos no modo *debug*, veremos muitas mensagens extras, que coloquei no programa pra ajudar na implementação. Para compilar no modo normal, use o comando `make` sem argumentos. Note que o programa ainda não faz nada além de alocar memória, e que isso já leva algum tempo.\n",
    "\n",
    "Note que escolhi deixar a alocação de memória e o cálculo das amostra a avaliar fora da função `monte_carlo_integrate` na versão C. A geração das amostras aleatórias foi feita com a função `rand()` e com uma função que mapeia um intervalo a outro.\n",
    "\n",
    "\n",
    "Descreva abaixo como o tempo de execução é calculado e impresso pelo programa `monte_carlo`. Por que vocês acham que eu escolhi colocar as medições de tempo onde coloquei?"
   ]
  },
  {
   "cell_type": "markdown",
   "metadata": {},
   "source": [
    "**RESPOSTA - Exercício 1**\n",
    "    Vamos analisar cada um dos números que aparecem na última linha da saída do nosso programa:\n",
    "    \n",
    "    - Claro, o primeiro número é a estimativa para o valor da integral ($\\pi$) calculada pelo programa.\n",
    "    - O segundo número é uma medição de tempo baseada no número de ciclos do clock: Em dois momentos na execução do programa chamamos a função clock(), da biblioteca time.h. Essa função retorna o número de ciclos que ocorreram desde o início da execução do programa até a chamada da função. Ao calcular a diferença entre o numero de clock que aconteceram até o início da estimação e até o final, obtemos o número de clocks que ocorreram durante a estimação. Depois este número é dividido pela constante CLOCKS_PER_SEC e o resultado é o número de segundos que a estimação demorou.\n",
    "\n",
    "    - O terceiro número é uma outra medição de tempo, dessa vez baseada na função clock_gettime, também da biblioteca time.h. A\n",
    "chamada dessa função com o argumento CLOCK_MONOTONIC faz com que ela retorne o tempo que se passou desde um \"momento\" (não identificado) fixado no passado. Essa função retorna um objeto do tipo timespec, com \"atributos'' tv_sec e tv_nsec representando o tempo em segundos e a parte 'fracionária' do tempo em na . Ao olharmos para os cálculos feitos\n",
    " usando esses objetos vemos que ... Esse procedimento faz um papel semelhante a um cronômetro\n",
    "             \n",
    "     - Finalmente , último número é uma terceira medição de tempo, baseada na função gettimeofday, da biblioteca sys/time.h.\n",
    "     A chamada dessa função retorna o horário marcado pelo sistema operacional no momento da chamada na forna de um objeto do\n",
    "     tipo timeval. Objetos deste tipo tem dois atributos, semelhantes só que em micro segundos. \n",
    "\n",
    "    \n",
    "    \n",
    "    Aparentemente, as medições de tempo estão foram posicionadas no código de modo a contar apenas o tempo para calcular\n",
    "    a estimativa. Dessa forma, alocações de memória e etc são deixadas de fora do cálculo do tempo.\n",
    "    \n",
    "**Referências**:\n",
    "    -https://linux.die.net/man/3/clock_gettime\n",
    "    -https://www.tutorialspoint.com/c_standard_library/c_function_clock.htm\n",
    "    -http://man7.org/linux/man-pages/man2/gettimeofday.2.html"
   ]
  },
  {
   "cell_type": "markdown",
   "metadata": {},
   "source": [
    "### Exercício 1b)\n",
    "\n",
    "Agora, a sua tarefa é implementar a função `monte_carlo_integrate`.\n",
    "\n",
    "Quando terminar, rode as células abaixo. A saída deve conter a estimativa para o valor de $\\pi$ e o tempo de execução, produzidos pelo programa `monte_carlo`. Escolha um número de amostras adequado à quantidade de memória disponível em seu computador.\n",
    "\n",
    "Lembre-se de **entregar também o arquivo .c** com suas modificações."
   ]
  },
  {
   "cell_type": "code",
   "execution_count": 7,
   "metadata": {
    "scrolled": true
   },
   "outputs": [
    {
     "name": "stdout",
     "output_type": "stream",
     "text": [
      "gcc monte_carlo.c -o monte_carlo -Wall -lpthread -lm -DDEBUG=1\n"
     ]
    }
   ],
   "source": [
    "; make debug"
   ]
  },
  {
   "cell_type": "code",
   "execution_count": 13,
   "metadata": {
    "scrolled": true
   },
   "outputs": [
    {
     "name": "stdout",
     "output_type": "stream",
     "text": [
      "Running on: [debug mode]\n",
      "Samples: [1000000]\n",
      "Function id: [0]\n",
      "Threads: [1]\n",
      "Array size on memory: [0.02GB]\n",
      "Running sequential version\n",
      "3.1408810800891489, [0.078125, clock], [0.076287, clock_gettime], [0.076286, gettimeofday]\n"
     ]
    }
   ],
   "source": [
    "; ./monte_carlo 1000000 0 1"
   ]
  },
  {
   "cell_type": "markdown",
   "metadata": {},
   "source": [
    "## Exercício 2: Implementação Paralela com *pthreads*\n",
    "\n",
    "Este exercício é mais complexo. Vocês devem escrever a função de assinatura:\n",
    "\n",
    "```C\n",
    "void *monte_carlo_integrate_thread(void *args)\n",
    "```\n",
    "\n",
    "Na assinatura acima, o parâmetro `args` é um ponteiro para uma estrutura de dados contendo dados para cada thread. Para implementar essa estrutura de dados, vocês devem decidir quais informações cada thread deve receber. Algumas ideias:\n",
    "\n",
    "- Um ponteiro para a função a ser avaliada\n",
    "- Um ponteiro para o vetor de amostras gerado\n",
    "- Um inteiro com o id da thread\n",
    "\n",
    "De acordo com a sua estratégia de implementação paralela, vocês vão precisar incluir informações diferentes. Algo de importante está faltando na lista acima. Como as threads poderiam armazenar seus resultados?\n",
    "\n",
    "Precisamos escolher uma dentre as várias formas de implementar esse algoritmo paralelo. Pensei em algumas possibilidades:\n",
    "\n",
    "1. Método \"Criando threads dinamicamente\":\n",
    "  - Lançar $n$ threads, cada uma com $1$ (ou $m$?) unidades de trabalho a fazer\n",
    "  - Usar variáveis de condição ou joins para sinalizar fim de trabalho\n",
    "  - Lançar novas threads conforme threads terminarem\n",
    "  - Usar join para finalizar\n",
    "2. Método \"Divisão Dinâmica do Trabalho\":\n",
    "  - Lançar $n$ threads, cada uma com $1$ (ou $m$?) unidades de trabalho a fazer\n",
    "  - Cada thread busca por trabalho disponível a fazer quando acabar o trabalho dado\n",
    "  - Usar join para finalizar\n",
    "3. Método \"Divisão Estática do Trabalho\":\n",
    "  - Lançar $n$ threads, cada uma com $1/n$ unidades de trabalho a fazer\n",
    "  - Usar join para finalizar\n",
    "  \n",
    "Usando seus conhecimentos sobre *pthreads* e sobre a execução de programas em geral, responda e explique:\n",
    "\n",
    "1. Qual desses métodos é o mais difícil de implementar? E o mais fácil?\n",
    "2. Qual método atingiria o menor tempo de execução?"
   ]
  },
  {
   "cell_type": "markdown",
   "metadata": {},
   "source": []
  },
  {
   "cell_type": "markdown",
   "metadata": {},
   "source": [
    "Escolha um desses, ou um quarto método que preferir, para fazer a implementação paralela do miniEP3. Vocês vão precisar implementar toda a estrutura de suporte à execução das threads.\n",
    "\n",
    "Quando terminar, rode as células abaixo. A saída deve conter a estimativa para o valor de $\\pi$ e o tempo de execução, produzidos pelo programa `monte_carlo`. Escolha um número de amostras e de threads adequado à quantidade de memória e aos núcleos de processamento disponíveis em seu computador.\n",
    "\n",
    "Lembre-se de **entregar também o arquivo .c** com suas modificações."
   ]
  },
  {
   "cell_type": "code",
   "execution_count": 10,
   "metadata": {
    "scrolled": false
   },
   "outputs": [
    {
     "name": "stdout",
     "output_type": "stream",
     "text": [
      "gcc monte_carlo.c -o monte_carlo -Wall -lpthread -lm -DDEBUG=1\n"
     ]
    }
   ],
   "source": [
    "; make debug"
   ]
  },
  {
   "cell_type": "code",
   "execution_count": 16,
   "metadata": {
    "scrolled": true
   },
   "outputs": [
    {
     "name": "stdout",
     "output_type": "stream",
     "text": [
      "Running on: [debug mode]\n",
      "Samples: [10000000]\n",
      "Function id: [0]\n",
      "Threads: [10]\n",
      "Array size on memory: [0.16GB]\n",
      "Running parallel version\n",
      "3.1411047253613114, [5.562500, clock], [4.744939, clock_gettime], [4.744938, gettimeofday]\n"
     ]
    }
   ],
   "source": [
    "; ./monte_carlo 10000000 0 10"
   ]
  },
  {
   "cell_type": "markdown",
   "metadata": {},
   "source": [
    "## Exercício 3: Análise de Desempenho\n",
    "\n",
    "Agora, vamos medir o desempenho do programa que vocês implementaram neste trabalho. Vamos usar funções em Julia, adaptadas do miniEP1&2, e gerar gráficos do tempo de execução e da estimativa da integral para diferentes números de threads.\n",
    "\n",
    "### Funções Úteis\n",
    "\n",
    "A função abaixo recebe parâmetros `size`, com tamanho da amostra, `f`, com a id da função a estimar, e `threads`, com o número de threads do programa paralelo. A função executa o programa `monte_carlo` com os parâmetros dados e devolve um `DataFrame` com os resultados."
   ]
  },
  {
   "cell_type": "code",
   "execution_count": 28,
   "metadata": {},
   "outputs": [
    {
     "data": {
      "text/plain": [
       "measure_monte_carlo (generic function with 1 method)"
      ]
     },
     "execution_count": 28,
     "metadata": {},
     "output_type": "execute_result"
    }
   ],
   "source": [
    "using DataFrames, Query, StatsPlots, Statistics\n",
    "\n",
    "function measure_monte_carlo(size, f, threads)\n",
    "    results = parse.(Float64,\n",
    "        split(chomp(read(`./monte_carlo $size $f $threads`, String)), \", \"))\n",
    "        \n",
    "    return DataFrame(size = size,\n",
    "        f = f,\n",
    "        threads = threads,\n",
    "        estimate = results[1],\n",
    "        duration = results[2])\n",
    "end"
   ]
  },
  {
   "cell_type": "markdown",
   "metadata": {},
   "source": [
    "A função `run_experiments` recebe os mesmos parâmetros `size`, `f`, e `threads`, e um parâmetro adicional `repetitions`, com o número de repetições de cada experimento com um dado número de `threads`. A função devolve um `DataFrame` com todos os experimentos."
   ]
  },
  {
   "cell_type": "code",
   "execution_count": 17,
   "metadata": {},
   "outputs": [
    {
     "data": {
      "text/plain": [
       "run_experiments (generic function with 1 method)"
      ]
     },
     "execution_count": 17,
     "metadata": {},
     "output_type": "execute_result"
    }
   ],
   "source": [
    "function run_experiments(size, f, threads, repetitions)\n",
    "    run(`make`)\n",
    "    \n",
    "    results = DataFrame(size = Int[],\n",
    "        f = Int[],\n",
    "        threads = Int[],\n",
    "        estimate = Float64[],\n",
    "        duration = Float64[])  \n",
    "    \n",
    "    for t in threads\n",
    "        for r in 1:repetitions\n",
    "            append!(results,\n",
    "                measure_monte_carlo(size, f, t))    \n",
    "        end\n",
    "    end\n",
    "    \n",
    "    return results\n",
    "end"
   ]
  },
  {
   "cell_type": "markdown",
   "metadata": {},
   "source": [
    "A função `parse_results` recebe um `DataFrame` de resultados, produzido pela função `run_experiments`, e um parâmetro `target_integral`, com o valor da integral a estimar. A função devolve um `DataFrame` com a média e o intervalo de confiança da média a 95% das estimativas e dos tempos de execução, agrupados por número de threads."
   ]
  },
  {
   "cell_type": "code",
   "execution_count": 18,
   "metadata": {},
   "outputs": [
    {
     "data": {
      "text/plain": [
       "parse_results (generic function with 1 method)"
      ]
     },
     "execution_count": 18,
     "metadata": {},
     "output_type": "execute_result"
    }
   ],
   "source": [
    "function parse_results(results, target_integral)\n",
    "    parsed_results = results |>\n",
    "                    @groupby(_.threads) |>\n",
    "                    @map({threads = key(_),\n",
    "                          mean_estimate = mean(_.estimate),\n",
    "                          ci_estimate = 1.96 * std(_.estimate),\n",
    "                          mean_duration = mean(_.duration),\n",
    "                          ci_duration = 1.96 * std(_.duration),\n",
    "                          target = target_integral}) |>\n",
    "                    DataFrame\n",
    "    \n",
    "    return parsed_results\n",
    "end"
   ]
  },
  {
   "cell_type": "markdown",
   "metadata": {},
   "source": [
    "### Exercício 3a)\n",
    "\n",
    "Realize os experimentos em sua máquina rodando a célula abaixo. Ajuste os valores para a sua máquina. **Não faça menos de 5 repetições**."
   ]
  },
  {
   "cell_type": "code",
   "execution_count": 27,
   "metadata": {},
   "outputs": [
    {
     "name": "stdout",
     "output_type": "stream",
     "text": [
      "gcc monte_carlo.c -o monte_carlo -Wall -lpthread -lm\n",
      "[1, 2, 4, 8, 16, 32]"
     ]
    }
   ],
   "source": [
    "size = 2000\n",
    "f = 0\n",
    "threads = [2 ^ x for x in 0:5]\n",
    "repetitions = 5\n",
    "\n",
    "results = run_experiments(size, f, threads, repetitions)\n",
    "parsed_results = parse_results(results, pi)"
   ]
  },
  {
   "cell_type": "markdown",
   "metadata": {},
   "source": [
    "Agora, escreva uma função **em Julia** chamada `save_csv_results`, que recebe um `DataFrame` e um nome de arquivo, e escreve o `DataFrame` em disco, no formato `.csv`, com o nome passado no argumento.\n",
    "\n",
    "Utilize a biblioteca [CSV](https://juliadata.github.io/CSV.jl/stable/), já instalada no ambiente deste notebook."
   ]
  },
  {
   "cell_type": "code",
   "execution_count": 20,
   "metadata": {},
   "outputs": [
    {
     "name": "stderr",
     "output_type": "stream",
     "text": [
      "┌ Info: Precompiling CSV [336ed68f-0bac-5ca0-87d4-7b16caf5d00b]\n",
      "└ @ Base loading.jl:1260\n"
     ]
    },
    {
     "data": {
      "text/plain": [
       "save_csv_results (generic function with 1 method)"
      ]
     },
     "execution_count": 20,
     "metadata": {},
     "output_type": "execute_result"
    }
   ],
   "source": [
    "using CSV\n",
    "function save_csv_results(data_frame)\n",
    "    CSV.write(\"./data_frame.csv\",data_frame,delim='\\t')\n",
    "end"
   ]
  },
  {
   "cell_type": "markdown",
   "metadata": {},
   "source": [
    "Escreva uma função **em Julia** chamada `read_csv_results`, que recebe um nome de arquivo e lê o arquivo correspondente, devolvendo um `DataFrame`."
   ]
  },
  {
   "cell_type": "code",
   "execution_count": 21,
   "metadata": {},
   "outputs": [
    {
     "data": {
      "text/plain": [
       "read_csv_results (generic function with 1 method)"
      ]
     },
     "execution_count": 21,
     "metadata": {},
     "output_type": "execute_result"
    }
   ],
   "source": [
    "using CSV\n",
    "function read_csv_results()\n",
    "    df=CSV.read(\"./data_frame.csv\")\n",
    "    return df\n",
    "end"
   ]
  },
  {
   "cell_type": "markdown",
   "metadata": {},
   "source": [
    "Salve o DataFrame `results` em disco. **Vocês devem entregar o .csv também**."
   ]
  },
  {
   "cell_type": "markdown",
   "metadata": {},
   "source": [
    "### Exercício 3b)\n",
    "\n",
    "Como vocês já se familiarizaram um pouco com funções para geração de gráficos no miniEP1&2, explique o que faz a função `plot_results` abaixo. Ela é uma generalização das funções usadas no miniEP anterior. Para ajudar, você pode modificar e usar as chamadas de função no **Exercício 3c)**."
   ]
  },
  {
   "cell_type": "code",
   "execution_count": 22,
   "metadata": {},
   "outputs": [
    {
     "data": {
      "text/plain": [
       "\"./data_frame.csv\""
      ]
     },
     "execution_count": 22,
     "metadata": {},
     "output_type": "execute_result"
    }
   ],
   "source": [
    "save_csv_results(parsed_results)"
   ]
  },
  {
   "cell_type": "markdown",
   "metadata": {},
   "source": []
  },
  {
   "cell_type": "code",
   "execution_count": 23,
   "metadata": {},
   "outputs": [
    {
     "name": "stderr",
     "output_type": "stream",
     "text": [
      "┌ Info: Precompiling PGFPlotsX [8314cec4-20b6-5062-9cdb-752b83310925]\n",
      "└ @ Base loading.jl:1260\n"
     ]
    },
    {
     "data": {
      "text/plain": [
       "plot_results (generic function with 1 method)"
      ]
     },
     "execution_count": 23,
     "metadata": {},
     "output_type": "execute_result"
    }
   ],
   "source": [
    "pgfplotsx()\n",
    "\n",
    "function plot_results(x, y, target_label, series_label; hline = [], yerror = [], max_thread_power = 10)      \n",
    "    if yerror != []\n",
    "        p = scatter(x,\n",
    "            y,\n",
    "            xaxis = :log2,\n",
    "            xlabel = \"Threads\",\n",
    "            xticks = [2 ^ x for x in 0:max_thread_power],\n",
    "            yerror = yerror,\n",
    "            alpha = 0.6,\n",
    "            labels = series_label,\n",
    "            legend = :topright)\n",
    "    else\n",
    "        p = scatter(x,\n",
    "            y,\n",
    "            xaxis = :log2,\n",
    "            xlabel = \"Threads\",\n",
    "            xticks = [2 ^ x for x in 0:max_thread_power],\n",
    "            alpha = 0.6,\n",
    "            labels = series_label,\n",
    "            legend = :topright)\n",
    "    end\n",
    "    \n",
    "    if hline != []\n",
    "        plot!(x,\n",
    "            hline,\n",
    "            xaxis = :log2,\n",
    "            xlabel = \"Threads\",\n",
    "            xticks = [2 ^ x for x in 0:max_thread_power],\n",
    "            labels = target_label,                             \n",
    "            line = :dash,                    \n",
    "            width = 2.0)\n",
    "    end\n",
    "    \n",
    "    return p\n",
    "end"
   ]
  },
  {
   "cell_type": "markdown",
   "metadata": {},
   "source": [
    "### Exercício 3c)\n",
    "\n",
    "1. Rode as células na seção abaixo e gere os gráficos. **Entregue o notebook com os gráficos gerados**.\n",
    "2. Descreva o comportamento do tempo de execução conforme aumentamos o número de threads, em termos da média e do intervalo de confiança. Nos próximos EPs, vamos aprender a fazer uma *regressão linear* que explique os dados observados usando *coeficientes*.\n",
    "3. Por que você acha que o tempo de execução aumenta conforme aumentamos as threads? Era isso que você esperava?\n",
    "\n",
    "Responda na célula abaixo:"
   ]
  },
  {
   "cell_type": "markdown",
   "metadata": {},
   "source": []
  },
  {
   "cell_type": "markdown",
   "metadata": {},
   "source": [
    "#### Gerando Gráficos"
   ]
  },
  {
   "cell_type": "code",
   "execution_count": 24,
   "metadata": {},
   "outputs": [
    {
     "data": {
      "image/svg+xml": [
       "<?xml version=\"1.0\" encoding=\"UTF-8\"?>\n",
       "<svg xmlns=\"http://www.w3.org/2000/svg\" xmlns:xlink=\"http://www.w3.org/1999/xlink\" width=\"416.719pt\" height=\"274.643pt\" viewBox=\"0 0 416.719 274.643\" version=\"1.1\">\n",
       "<defs>\n",
       "<g>\n",
       "<symbol overflow=\"visible\" id=\"glyph-1588310830543944-0-0\">\n",
       "<path style=\"stroke:none;\" d=\"\"/>\n",
       "</symbol>\n",
       "<symbol overflow=\"visible\" id=\"glyph-1588310830543944-0-1\">\n",
       "<path style=\"stroke:none;\" d=\"M 2.25 -1.625 C 2.375 -1.75 2.703125 -2.015625 2.84375 -2.125 C 3.328125 -2.578125 3.796875 -3.015625 3.796875 -3.734375 C 3.796875 -4.6875 3 -5.296875 2.015625 -5.296875 C 1.046875 -5.296875 0.421875 -4.578125 0.421875 -3.859375 C 0.421875 -3.46875 0.734375 -3.421875 0.84375 -3.421875 C 1.015625 -3.421875 1.265625 -3.53125 1.265625 -3.84375 C 1.265625 -4.25 0.859375 -4.25 0.765625 -4.25 C 1 -4.84375 1.53125 -5.03125 1.921875 -5.03125 C 2.65625 -5.03125 3.046875 -4.40625 3.046875 -3.734375 C 3.046875 -2.90625 2.46875 -2.296875 1.515625 -1.34375 L 0.515625 -0.296875 C 0.421875 -0.21875 0.421875 -0.203125 0.421875 0 L 3.5625 0 L 3.796875 -1.421875 L 3.546875 -1.421875 C 3.53125 -1.265625 3.46875 -0.875 3.375 -0.71875 C 3.328125 -0.65625 2.71875 -0.65625 2.59375 -0.65625 L 1.171875 -0.65625 Z M 2.25 -1.625 \"/>\n",
       "</symbol>\n",
       "<symbol overflow=\"visible\" id=\"glyph-1588310830543944-0-2\">\n",
       "<path style=\"stroke:none;\" d=\"M 3.890625 -2.546875 C 3.890625 -3.390625 3.8125 -3.90625 3.546875 -4.421875 C 3.203125 -5.125 2.546875 -5.296875 2.109375 -5.296875 C 1.109375 -5.296875 0.734375 -4.546875 0.625 -4.328125 C 0.34375 -3.75 0.328125 -2.953125 0.328125 -2.546875 C 0.328125 -2.015625 0.34375 -1.21875 0.734375 -0.578125 C 1.09375 0.015625 1.6875 0.171875 2.109375 0.171875 C 2.5 0.171875 3.171875 0.046875 3.578125 -0.734375 C 3.875 -1.3125 3.890625 -2.03125 3.890625 -2.546875 Z M 2.109375 -0.0625 C 1.84375 -0.0625 1.296875 -0.1875 1.125 -1.015625 C 1.03125 -1.46875 1.03125 -2.21875 1.03125 -2.640625 C 1.03125 -3.1875 1.03125 -3.75 1.125 -4.1875 C 1.296875 -5 1.90625 -5.078125 2.109375 -5.078125 C 2.375 -5.078125 2.9375 -4.9375 3.09375 -4.21875 C 3.1875 -3.78125 3.1875 -3.171875 3.1875 -2.640625 C 3.1875 -2.171875 3.1875 -1.453125 3.09375 -1 C 2.921875 -0.171875 2.375 -0.0625 2.109375 -0.0625 Z M 2.109375 -0.0625 \"/>\n",
       "</symbol>\n",
       "<symbol overflow=\"visible\" id=\"glyph-1588310830543944-0-3\">\n",
       "<path style=\"stroke:none;\" d=\"M 2.015625 -2.65625 C 2.640625 -2.65625 3.046875 -2.203125 3.046875 -1.359375 C 3.046875 -0.359375 2.484375 -0.078125 2.0625 -0.078125 C 1.625 -0.078125 1.015625 -0.234375 0.734375 -0.65625 C 1.03125 -0.65625 1.234375 -0.84375 1.234375 -1.09375 C 1.234375 -1.359375 1.046875 -1.53125 0.78125 -1.53125 C 0.578125 -1.53125 0.34375 -1.40625 0.34375 -1.078125 C 0.34375 -0.328125 1.15625 0.171875 2.078125 0.171875 C 3.125 0.171875 3.875 -0.5625 3.875 -1.359375 C 3.875 -2.03125 3.34375 -2.625 2.53125 -2.8125 C 3.15625 -3.03125 3.640625 -3.5625 3.640625 -4.203125 C 3.640625 -4.84375 2.921875 -5.296875 2.09375 -5.296875 C 1.234375 -5.296875 0.59375 -4.84375 0.59375 -4.234375 C 0.59375 -3.9375 0.78125 -3.8125 1 -3.8125 C 1.25 -3.8125 1.40625 -3.984375 1.40625 -4.21875 C 1.40625 -4.515625 1.140625 -4.625 0.96875 -4.625 C 1.3125 -5.0625 1.921875 -5.09375 2.0625 -5.09375 C 2.265625 -5.09375 2.875 -5.03125 2.875 -4.203125 C 2.875 -3.65625 2.640625 -3.3125 2.53125 -3.1875 C 2.296875 -2.9375 2.109375 -2.921875 1.625 -2.890625 C 1.46875 -2.890625 1.40625 -2.875 1.40625 -2.765625 C 1.40625 -2.65625 1.484375 -2.65625 1.625 -2.65625 Z M 2.015625 -2.65625 \"/>\n",
       "</symbol>\n",
       "<symbol overflow=\"visible\" id=\"glyph-1588310830543944-0-4\">\n",
       "<path style=\"stroke:none;\" d=\"M 1.09375 -2.640625 C 1.09375 -3.296875 1.15625 -3.875 1.4375 -4.359375 C 1.6875 -4.765625 2.09375 -5.09375 2.59375 -5.09375 C 2.75 -5.09375 3.109375 -5.0625 3.296875 -4.796875 C 2.9375 -4.765625 2.90625 -4.5 2.90625 -4.421875 C 2.90625 -4.171875 3.09375 -4.046875 3.28125 -4.046875 C 3.421875 -4.046875 3.65625 -4.125 3.65625 -4.4375 C 3.65625 -4.90625 3.296875 -5.296875 2.578125 -5.296875 C 1.46875 -5.296875 0.34375 -4.25 0.34375 -2.53125 C 0.34375 -0.359375 1.359375 0.171875 2.125 0.171875 C 2.515625 0.171875 2.921875 0.0625 3.28125 -0.28125 C 3.609375 -0.59375 3.875 -0.921875 3.875 -1.625 C 3.875 -2.65625 3.078125 -3.390625 2.203125 -3.390625 C 1.625 -3.390625 1.28125 -3.03125 1.09375 -2.640625 Z M 2.125 -0.078125 C 1.703125 -0.078125 1.4375 -0.359375 1.328125 -0.59375 C 1.140625 -0.953125 1.125 -1.484375 1.125 -1.796875 C 1.125 -2.578125 1.546875 -3.171875 2.171875 -3.171875 C 2.5625 -3.171875 2.8125 -2.96875 2.953125 -2.6875 C 3.125 -2.390625 3.125 -2.03125 3.125 -1.625 C 3.125 -1.21875 3.125 -0.875 2.96875 -0.578125 C 2.75 -0.21875 2.484375 -0.078125 2.125 -0.078125 Z M 2.125 -0.078125 \"/>\n",
       "</symbol>\n",
       "<symbol overflow=\"visible\" id=\"glyph-1588310830543944-0-5\">\n",
       "<path style=\"stroke:none;\" d=\"M 3.125 -2.34375 C 3.125 -0.40625 2.203125 -0.078125 1.734375 -0.078125 C 1.5625 -0.078125 1.15625 -0.09375 0.9375 -0.34375 C 1.296875 -0.375 1.3125 -0.640625 1.3125 -0.71875 C 1.3125 -0.953125 1.125 -1.09375 0.9375 -1.09375 C 0.796875 -1.09375 0.5625 -1 0.5625 -0.703125 C 0.5625 -0.15625 1.015625 0.171875 1.75 0.171875 C 2.84375 0.171875 3.875 -0.921875 3.875 -2.625 C 3.875 -4.6875 2.953125 -5.296875 2.140625 -5.296875 C 1.1875 -5.296875 0.34375 -4.5625 0.34375 -3.515625 C 0.34375 -2.5 1.125 -1.75 2.03125 -1.75 C 2.59375 -1.75 2.9375 -2.109375 3.125 -2.515625 Z M 2.0625 -1.96875 C 1.6875 -1.96875 1.453125 -2.140625 1.28125 -2.4375 C 1.09375 -2.71875 1.09375 -3.109375 1.09375 -3.515625 C 1.09375 -3.984375 1.09375 -4.3125 1.3125 -4.640625 C 1.515625 -4.9375 1.765625 -5.09375 2.140625 -5.09375 C 2.671875 -5.09375 2.90625 -4.5625 2.9375 -4.53125 C 3.09375 -4.140625 3.109375 -3.515625 3.109375 -3.359375 C 3.109375 -2.71875 2.765625 -1.96875 2.0625 -1.96875 Z M 2.0625 -1.96875 \"/>\n",
       "</symbol>\n",
       "<symbol overflow=\"visible\" id=\"glyph-1588310830543944-0-6\">\n",
       "<path style=\"stroke:none;\" d=\"M 2.5 -5.078125 C 2.5 -5.296875 2.484375 -5.296875 2.265625 -5.296875 C 1.9375 -4.984375 1.515625 -4.796875 0.765625 -4.796875 L 0.765625 -4.53125 C 0.984375 -4.53125 1.40625 -4.53125 1.875 -4.734375 L 1.875 -0.65625 C 1.875 -0.359375 1.84375 -0.265625 1.09375 -0.265625 L 0.8125 -0.265625 L 0.8125 0 C 1.140625 -0.03125 1.828125 -0.03125 2.1875 -0.03125 C 2.546875 -0.03125 3.234375 -0.03125 3.5625 0 L 3.5625 -0.265625 L 3.28125 -0.265625 C 2.53125 -0.265625 2.5 -0.359375 2.5 -0.65625 Z M 2.5 -5.078125 \"/>\n",
       "</symbol>\n",
       "<symbol overflow=\"visible\" id=\"glyph-1588310830543944-1-0\">\n",
       "<path style=\"stroke:none;\" d=\"\"/>\n",
       "</symbol>\n",
       "<symbol overflow=\"visible\" id=\"glyph-1588310830543944-1-1\">\n",
       "<path style=\"stroke:none;\" d=\"M 3.296875 -1.90625 C 3.296875 -2.34375 3.296875 -3.984375 1.828125 -3.984375 C 0.359375 -3.984375 0.359375 -2.34375 0.359375 -1.90625 C 0.359375 -1.484375 0.359375 0.125 1.828125 0.125 C 3.296875 0.125 3.296875 -1.484375 3.296875 -1.90625 Z M 1.828125 -0.0625 C 1.578125 -0.0625 1.171875 -0.1875 1.015625 -0.6875 C 0.921875 -1.03125 0.921875 -1.609375 0.921875 -1.984375 C 0.921875 -2.390625 0.921875 -2.84375 1.015625 -3.171875 C 1.15625 -3.703125 1.609375 -3.78125 1.828125 -3.78125 C 2.09375 -3.78125 2.5 -3.65625 2.625 -3.203125 C 2.71875 -2.890625 2.71875 -2.453125 2.71875 -1.984375 C 2.71875 -1.609375 2.71875 -1 2.625 -0.671875 C 2.453125 -0.140625 2.015625 -0.0625 1.828125 -0.0625 Z M 1.828125 -0.0625 \"/>\n",
       "</symbol>\n",
       "<symbol overflow=\"visible\" id=\"glyph-1588310830543944-1-2\">\n",
       "<path style=\"stroke:none;\" d=\"M 2.140625 -3.796875 C 2.140625 -3.984375 2.125 -3.984375 1.9375 -3.984375 C 1.546875 -3.59375 0.9375 -3.59375 0.71875 -3.59375 L 0.71875 -3.359375 C 0.875 -3.359375 1.28125 -3.359375 1.640625 -3.53125 L 1.640625 -0.515625 C 1.640625 -0.3125 1.640625 -0.234375 1.015625 -0.234375 L 0.765625 -0.234375 L 0.765625 0 C 1.09375 -0.03125 1.5625 -0.03125 1.890625 -0.03125 C 2.21875 -0.03125 2.6875 -0.03125 3.015625 0 L 3.015625 -0.234375 L 2.765625 -0.234375 C 2.140625 -0.234375 2.140625 -0.3125 2.140625 -0.515625 Z M 2.140625 -3.796875 \"/>\n",
       "</symbol>\n",
       "<symbol overflow=\"visible\" id=\"glyph-1588310830543944-1-3\">\n",
       "<path style=\"stroke:none;\" d=\"M 3.21875 -1.125 L 3 -1.125 C 2.984375 -1.03125 2.921875 -0.640625 2.84375 -0.578125 C 2.796875 -0.53125 2.3125 -0.53125 2.21875 -0.53125 L 1.109375 -0.53125 L 1.875 -1.15625 C 2.078125 -1.328125 2.609375 -1.703125 2.796875 -1.890625 C 2.96875 -2.0625 3.21875 -2.375 3.21875 -2.796875 C 3.21875 -3.546875 2.546875 -3.984375 1.734375 -3.984375 C 0.96875 -3.984375 0.4375 -3.46875 0.4375 -2.90625 C 0.4375 -2.609375 0.6875 -2.5625 0.75 -2.5625 C 0.90625 -2.5625 1.078125 -2.671875 1.078125 -2.890625 C 1.078125 -3.015625 1 -3.21875 0.734375 -3.21875 C 0.875 -3.515625 1.234375 -3.75 1.65625 -3.75 C 2.28125 -3.75 2.609375 -3.28125 2.609375 -2.796875 C 2.609375 -2.375 2.328125 -1.9375 1.921875 -1.546875 L 0.5 -0.25 C 0.4375 -0.1875 0.4375 -0.1875 0.4375 0 L 3.03125 0 Z M 3.21875 -1.125 \"/>\n",
       "</symbol>\n",
       "<symbol overflow=\"visible\" id=\"glyph-1588310830543944-1-4\">\n",
       "<path style=\"stroke:none;\" d=\"M 1.765625 -1.984375 C 2.265625 -1.984375 2.609375 -1.640625 2.609375 -1.03125 C 2.609375 -0.375 2.21875 -0.09375 1.78125 -0.09375 C 1.609375 -0.09375 1 -0.125 0.734375 -0.46875 C 0.96875 -0.5 1.0625 -0.65625 1.0625 -0.8125 C 1.0625 -1.015625 0.921875 -1.15625 0.71875 -1.15625 C 0.5625 -1.15625 0.375 -1.046875 0.375 -0.796875 C 0.375 -0.203125 1.03125 0.125 1.796875 0.125 C 2.6875 0.125 3.265625 -0.4375 3.265625 -1.03125 C 3.265625 -1.46875 2.9375 -1.9375 2.21875 -2.109375 C 2.703125 -2.265625 3.078125 -2.65625 3.078125 -3.140625 C 3.078125 -3.625 2.515625 -3.984375 1.796875 -3.984375 C 1.09375 -3.984375 0.5625 -3.65625 0.5625 -3.171875 C 0.5625 -2.90625 0.765625 -2.84375 0.890625 -2.84375 C 1.046875 -2.84375 1.203125 -2.9375 1.203125 -3.15625 C 1.203125 -3.34375 1.078125 -3.453125 0.90625 -3.46875 C 1.1875 -3.78125 1.734375 -3.78125 1.796875 -3.78125 C 2.09375 -3.78125 2.484375 -3.640625 2.484375 -3.140625 C 2.484375 -2.8125 2.296875 -2.234375 1.6875 -2.203125 C 1.578125 -2.203125 1.421875 -2.1875 1.375 -2.1875 C 1.3125 -2.171875 1.25 -2.171875 1.25 -2.078125 C 1.25 -1.984375 1.3125 -1.984375 1.40625 -1.984375 Z M 1.765625 -1.984375 \"/>\n",
       "</symbol>\n",
       "<symbol overflow=\"visible\" id=\"glyph-1588310830543944-1-5\">\n",
       "<path style=\"stroke:none;\" d=\"M 3.375 -0.984375 L 3.375 -1.21875 L 2.671875 -1.21875 L 2.671875 -3.859375 C 2.671875 -4 2.671875 -4.046875 2.53125 -4.046875 C 2.421875 -4.046875 2.40625 -4.015625 2.359375 -3.953125 L 0.28125 -1.21875 L 0.28125 -0.984375 L 2.140625 -0.984375 L 2.140625 -0.5 C 2.140625 -0.3125 2.140625 -0.234375 1.640625 -0.234375 L 1.453125 -0.234375 L 1.453125 0 C 1.578125 0 2.140625 -0.03125 2.40625 -0.03125 C 2.671875 -0.03125 3.234375 0 3.34375 0 L 3.34375 -0.234375 L 3.171875 -0.234375 C 2.671875 -0.234375 2.671875 -0.3125 2.671875 -0.5 L 2.671875 -0.984375 Z M 2.171875 -3.390625 L 2.171875 -1.21875 L 0.53125 -1.21875 Z M 2.171875 -3.390625 \"/>\n",
       "</symbol>\n",
       "<symbol overflow=\"visible\" id=\"glyph-1588310830543944-1-6\">\n",
       "<path style=\"stroke:none;\" d=\"M 1.015625 -3.328125 C 1.21875 -3.265625 1.421875 -3.25 1.625 -3.25 C 1.765625 -3.25 2.09375 -3.25 2.46875 -3.453125 C 2.578125 -3.515625 2.9375 -3.765625 2.9375 -3.890625 C 2.9375 -3.96875 2.890625 -3.984375 2.859375 -3.984375 C 2.84375 -3.984375 2.84375 -3.984375 2.765625 -3.953125 C 2.5625 -3.875 2.25 -3.78125 1.859375 -3.78125 C 1.5625 -3.78125 1.25 -3.84375 0.96875 -3.9375 C 0.921875 -3.96875 0.890625 -3.984375 0.875 -3.984375 C 0.78125 -3.984375 0.78125 -3.90625 0.78125 -3.8125 L 0.78125 -2.015625 C 0.78125 -1.921875 0.78125 -1.84375 0.890625 -1.84375 C 0.953125 -1.84375 0.96875 -1.875 1 -1.921875 C 1.15625 -2.109375 1.421875 -2.3125 1.890625 -2.3125 C 2.625 -2.3125 2.625 -1.421875 2.625 -1.234375 C 2.625 -1 2.609375 -0.65625 2.40625 -0.40625 C 2.21875 -0.1875 1.9375 -0.09375 1.6875 -0.09375 C 1.28125 -0.09375 0.859375 -0.3125 0.71875 -0.671875 C 1.015625 -0.671875 1.046875 -0.90625 1.046875 -0.96875 C 1.046875 -1.140625 0.921875 -1.28125 0.734375 -1.28125 C 0.6875 -1.28125 0.4375 -1.25 0.4375 -0.953125 C 0.4375 -0.40625 0.953125 0.125 1.703125 0.125 C 2.53125 0.125 3.21875 -0.453125 3.21875 -1.203125 C 3.21875 -1.890625 2.671875 -2.5 1.890625 -2.5 C 1.515625 -2.5 1.203125 -2.375 1.015625 -2.21875 Z M 1.015625 -3.328125 \"/>\n",
       "</symbol>\n",
       "<symbol overflow=\"visible\" id=\"glyph-1588310830543944-2-0\">\n",
       "<path style=\"stroke:none;\" d=\"\"/>\n",
       "</symbol>\n",
       "<symbol overflow=\"visible\" id=\"glyph-1588310830543944-2-1\">\n",
       "<path style=\"stroke:none;\" d=\"M 1.625 -0.4375 C 1.625 -0.703125 1.390625 -0.890625 1.171875 -0.890625 C 0.921875 -0.890625 0.734375 -0.671875 0.734375 -0.453125 C 0.734375 -0.171875 0.953125 0 1.171875 0 C 1.421875 0 1.625 -0.203125 1.625 -0.4375 Z M 1.625 -0.4375 \"/>\n",
       "</symbol>\n",
       "<symbol overflow=\"visible\" id=\"glyph-1588310830543944-3-0\">\n",
       "<path style=\"stroke:none;\" d=\"\"/>\n",
       "</symbol>\n",
       "<symbol overflow=\"visible\" id=\"glyph-1588310830543944-3-1\">\n",
       "<path style=\"stroke:none;\" d=\"M 7.34375 -4.984375 L 7.15625 -7.421875 L 0.578125 -7.421875 L 0.390625 -4.984375 L 0.625 -4.984375 C 0.78125 -6.71875 0.875 -7.109375 2.609375 -7.109375 C 2.796875 -7.109375 3.109375 -7.109375 3.203125 -7.09375 C 3.421875 -7.046875 3.421875 -6.921875 3.421875 -6.671875 L 3.421875 -0.84375 C 3.421875 -0.46875 3.421875 -0.3125 2.359375 -0.3125 L 1.953125 -0.3125 L 1.953125 0 C 2.3125 -0.015625 3.4375 -0.015625 3.859375 -0.015625 C 4.296875 -0.015625 5.4375 -0.015625 5.78125 0 L 5.78125 -0.3125 L 5.390625 -0.3125 C 4.3125 -0.3125 4.3125 -0.46875 4.3125 -0.84375 L 4.3125 -6.671875 C 4.3125 -6.9375 4.34375 -7.046875 4.515625 -7.09375 C 4.59375 -7.109375 4.921875 -7.109375 5.125 -7.109375 C 6.859375 -7.109375 6.953125 -6.71875 7.109375 -4.984375 Z M 7.34375 -4.984375 \"/>\n",
       "</symbol>\n",
       "<symbol overflow=\"visible\" id=\"glyph-1588310830543944-3-2\">\n",
       "<path style=\"stroke:none;\" d=\"M 5.703125 0 L 5.703125 -0.3125 C 5.15625 -0.3125 4.890625 -0.3125 4.875 -0.640625 L 4.875 -2.65625 C 4.875 -3.6875 4.875 -3.984375 4.625 -4.34375 C 4.296875 -4.765625 3.796875 -4.828125 3.421875 -4.828125 C 2.46875 -4.828125 2.03125 -4.125 1.890625 -3.78125 L 1.875 -3.78125 L 1.875 -7.59375 L 0.34375 -7.484375 L 0.34375 -7.15625 C 1.09375 -7.15625 1.1875 -7.09375 1.1875 -6.546875 L 1.1875 -0.8125 C 1.1875 -0.3125 1.0625 -0.3125 0.34375 -0.3125 L 0.34375 0 C 0.640625 -0.015625 1.234375 -0.015625 1.53125 -0.015625 C 1.84375 -0.015625 2.4375 -0.015625 2.734375 0 L 2.734375 -0.3125 C 2.03125 -0.3125 1.890625 -0.3125 1.890625 -0.8125 L 1.890625 -2.84375 C 1.890625 -4 2.65625 -4.609375 3.328125 -4.609375 C 4.015625 -4.609375 4.15625 -4.046875 4.15625 -3.390625 L 4.15625 -0.8125 C 4.15625 -0.3125 4.046875 -0.3125 3.328125 -0.3125 L 3.328125 0 C 3.609375 -0.015625 4.203125 -0.015625 4.515625 -0.015625 C 4.828125 -0.015625 5.421875 -0.015625 5.703125 0 Z M 5.703125 0 \"/>\n",
       "</symbol>\n",
       "<symbol overflow=\"visible\" id=\"glyph-1588310830543944-3-3\">\n",
       "<path style=\"stroke:none;\" d=\"M 3.859375 -4.1875 C 3.859375 -4.53125 3.578125 -4.828125 3.09375 -4.828125 C 2.171875 -4.828125 1.84375 -3.828125 1.78125 -3.609375 L 1.78125 -4.828125 L 0.3125 -4.703125 L 0.3125 -4.390625 C 1.046875 -4.390625 1.140625 -4.3125 1.140625 -3.78125 L 1.140625 -0.8125 C 1.140625 -0.3125 1.015625 -0.3125 0.3125 -0.3125 L 0.3125 0 C 0.609375 -0.015625 1.21875 -0.015625 1.546875 -0.015625 C 1.84375 -0.015625 2.625 -0.015625 2.875 0 L 2.875 -0.3125 L 2.65625 -0.3125 C 1.84375 -0.3125 1.828125 -0.4375 1.828125 -0.828125 L 1.828125 -2.546875 C 1.828125 -3.609375 2.265625 -4.609375 3.109375 -4.609375 C 3.203125 -4.609375 3.21875 -4.609375 3.265625 -4.59375 C 3.171875 -4.5625 3 -4.484375 3 -4.1875 C 3 -3.875 3.25 -3.75 3.421875 -3.75 C 3.640625 -3.75 3.859375 -3.90625 3.859375 -4.1875 Z M 3.859375 -4.1875 \"/>\n",
       "</symbol>\n",
       "<symbol overflow=\"visible\" id=\"glyph-1588310830543944-3-4\">\n",
       "<path style=\"stroke:none;\" d=\"M 4.453125 -1.296875 C 4.453125 -1.375 4.40625 -1.40625 4.34375 -1.40625 C 4.25 -1.40625 4.234375 -1.359375 4.203125 -1.296875 C 3.921875 -0.390625 3.1875 -0.125 2.734375 -0.125 C 2.265625 -0.125 1.15625 -0.4375 1.15625 -2.328125 L 1.15625 -2.546875 L 4.1875 -2.546875 C 4.4375 -2.546875 4.453125 -2.546875 4.453125 -2.75 C 4.453125 -3.859375 3.859375 -4.890625 2.546875 -4.890625 C 1.296875 -4.890625 0.328125 -3.75 0.328125 -2.40625 C 0.328125 -0.953125 1.453125 0.109375 2.65625 0.109375 C 3.96875 0.109375 4.453125 -1.078125 4.453125 -1.296875 Z M 3.78125 -2.75 L 1.171875 -2.75 C 1.265625 -4.46875 2.21875 -4.671875 2.53125 -4.671875 C 3.703125 -4.671875 3.765625 -3.125 3.78125 -2.75 Z M 3.78125 -2.75 \"/>\n",
       "</symbol>\n",
       "<symbol overflow=\"visible\" id=\"glyph-1588310830543944-3-5\">\n",
       "<path style=\"stroke:none;\" d=\"M 5.1875 -0.96875 L 5.1875 -1.59375 L 4.953125 -1.59375 L 4.953125 -0.96875 C 4.953125 -0.34375 4.6875 -0.265625 4.53125 -0.265625 C 4.125 -0.265625 4.125 -0.84375 4.125 -1 L 4.125 -2.921875 C 4.125 -3.515625 4.125 -3.953125 3.640625 -4.375 C 3.25 -4.734375 2.765625 -4.890625 2.28125 -4.890625 C 1.375 -4.890625 0.6875 -4.296875 0.6875 -3.578125 C 0.6875 -3.265625 0.890625 -3.109375 1.15625 -3.109375 C 1.40625 -3.109375 1.59375 -3.296875 1.59375 -3.5625 C 1.59375 -4.015625 1.203125 -4.015625 1.046875 -4.015625 C 1.296875 -4.46875 1.8125 -4.671875 2.25 -4.671875 C 2.765625 -4.671875 3.40625 -4.25 3.40625 -3.265625 L 3.40625 -2.828125 C 1.203125 -2.796875 0.375 -1.875 0.375 -1.03125 C 0.375 -0.171875 1.375 0.109375 2.046875 0.109375 C 2.765625 0.109375 3.265625 -0.328125 3.46875 -0.859375 C 3.515625 -0.34375 3.859375 0.0625 4.328125 0.0625 C 4.5625 0.0625 5.1875 -0.09375 5.1875 -0.96875 Z M 3.40625 -1.546875 C 3.40625 -0.46875 2.609375 -0.109375 2.140625 -0.109375 C 1.59375 -0.109375 1.15625 -0.5 1.15625 -1.03125 C 1.15625 -2.46875 3.015625 -2.609375 3.40625 -2.625 Z M 3.40625 -1.546875 \"/>\n",
       "</symbol>\n",
       "<symbol overflow=\"visible\" id=\"glyph-1588310830543944-3-6\">\n",
       "<path style=\"stroke:none;\" d=\"M 5.640625 0 L 5.640625 -0.3125 C 4.890625 -0.3125 4.8125 -0.390625 4.8125 -0.9375 L 4.8125 -7.59375 L 3.28125 -7.484375 L 3.28125 -7.15625 C 4.03125 -7.15625 4.125 -7.09375 4.125 -6.546875 L 4.125 -4.125 C 3.890625 -4.453125 3.421875 -4.828125 2.75 -4.828125 C 1.484375 -4.828125 0.390625 -3.75 0.390625 -2.359375 C 0.390625 -0.96875 1.421875 0.109375 2.625 0.109375 C 3.46875 0.109375 3.9375 -0.4375 4.09375 -0.640625 L 4.09375 0.109375 Z M 4.09375 -1.28125 C 4.09375 -1.078125 4.09375 -1.046875 3.9375 -0.8125 C 3.6875 -0.421875 3.234375 -0.109375 2.6875 -0.109375 C 2.40625 -0.109375 1.21875 -0.21875 1.21875 -2.34375 C 1.21875 -3.125 1.34375 -3.578125 1.59375 -3.9375 C 1.8125 -4.265625 2.25 -4.609375 2.796875 -4.609375 C 3.46875 -4.609375 3.859375 -4.125 3.96875 -3.9375 C 4.09375 -3.75 4.09375 -3.734375 4.09375 -3.53125 Z M 4.09375 -1.28125 \"/>\n",
       "</symbol>\n",
       "<symbol overflow=\"visible\" id=\"glyph-1588310830543944-3-7\">\n",
       "<path style=\"stroke:none;\" d=\"M 3.859375 -1.390625 C 3.859375 -1.984375 3.5 -2.328125 3.390625 -2.4375 C 3 -2.765625 2.703125 -2.84375 1.984375 -2.96875 C 1.65625 -3.03125 0.859375 -3.1875 0.859375 -3.84375 C 0.859375 -4.1875 1.078125 -4.6875 2.0625 -4.6875 C 3.265625 -4.6875 3.328125 -3.671875 3.359375 -3.328125 C 3.359375 -3.234375 3.4375 -3.234375 3.46875 -3.234375 C 3.59375 -3.234375 3.59375 -3.296875 3.59375 -3.5 L 3.59375 -4.640625 C 3.59375 -4.828125 3.59375 -4.890625 3.484375 -4.890625 C 3.390625 -4.890625 3.1875 -4.640625 3.109375 -4.546875 C 2.765625 -4.8125 2.4375 -4.890625 2.078125 -4.890625 C 0.75 -4.890625 0.359375 -4.15625 0.359375 -3.5625 C 0.359375 -3.4375 0.359375 -3.0625 0.78125 -2.671875 C 1.125 -2.359375 1.5 -2.296875 2 -2.1875 C 2.609375 -2.0625 2.75 -2.03125 3.015625 -1.8125 C 3.21875 -1.65625 3.359375 -1.40625 3.359375 -1.109375 C 3.359375 -0.640625 3.09375 -0.109375 2.125 -0.109375 C 1.40625 -0.109375 0.875 -0.53125 0.640625 -1.625 C 0.59375 -1.8125 0.578125 -1.84375 0.578125 -1.84375 C 0.5625 -1.890625 0.515625 -1.890625 0.484375 -1.890625 C 0.359375 -1.890625 0.359375 -1.828125 0.359375 -1.625 L 0.359375 -0.140625 C 0.359375 0.0625 0.359375 0.109375 0.46875 0.109375 C 0.53125 0.109375 0.53125 0.09375 0.71875 -0.125 C 0.78125 -0.203125 0.78125 -0.234375 0.9375 -0.40625 C 1.359375 0.109375 1.953125 0.109375 2.140625 0.109375 C 3.28125 0.109375 3.859375 -0.53125 3.859375 -1.390625 Z M 3.859375 -1.390625 \"/>\n",
       "</symbol>\n",
       "<symbol overflow=\"visible\" id=\"glyph-1588310830543944-4-0\">\n",
       "<path style=\"stroke:none;\" d=\"\"/>\n",
       "</symbol>\n",
       "<symbol overflow=\"visible\" id=\"glyph-1588310830543944-4-1\">\n",
       "<path style=\"stroke:none;\" d=\"M 5.984375 -2.671875 C 5.984375 -4.203125 4.828125 -5.4375 3.390625 -5.4375 L 0.359375 -5.4375 L 0.359375 -5.171875 L 0.546875 -5.171875 C 1.15625 -5.171875 1.171875 -5.09375 1.171875 -4.796875 L 1.171875 -0.640625 C 1.171875 -0.34375 1.15625 -0.265625 0.546875 -0.265625 L 0.359375 -0.265625 L 0.359375 0 L 3.390625 0 C 4.828125 0 5.984375 -1.1875 5.984375 -2.671875 Z M 5.171875 -2.671875 C 5.171875 -2.265625 5.171875 -1.484375 4.671875 -0.90625 C 4.40625 -0.578125 3.890625 -0.265625 3.171875 -0.265625 L 2.265625 -0.265625 C 1.890625 -0.265625 1.875 -0.3125 1.875 -0.59375 L 1.875 -4.859375 C 1.875 -5.125 1.890625 -5.171875 2.265625 -5.171875 L 3.171875 -5.171875 C 3.796875 -5.171875 4.3125 -4.921875 4.671875 -4.53125 C 5.171875 -3.921875 5.171875 -3.0625 5.171875 -2.671875 Z M 5.171875 -2.671875 \"/>\n",
       "</symbol>\n",
       "<symbol overflow=\"visible\" id=\"glyph-1588310830543944-4-2\">\n",
       "<path style=\"stroke:none;\" d=\"M 4.484375 0 L 4.484375 -0.265625 C 3.9375 -0.265625 3.875 -0.3125 3.875 -0.703125 L 3.875 -3.515625 L 2.65625 -3.421875 L 2.65625 -3.15625 C 3.203125 -3.15625 3.265625 -3.109375 3.265625 -2.71875 L 3.265625 -1.328125 C 3.265625 -0.640625 2.859375 -0.140625 2.25 -0.140625 C 1.5625 -0.140625 1.53125 -0.484375 1.53125 -0.890625 L 1.53125 -3.515625 L 0.328125 -3.421875 L 0.328125 -3.15625 C 0.9375 -3.15625 0.9375 -3.140625 0.9375 -2.4375 L 0.9375 -1.234375 C 0.9375 -0.65625 0.9375 0.078125 2.203125 0.078125 C 2.953125 0.078125 3.25 -0.5 3.28125 -0.5625 L 3.296875 -0.5625 L 3.296875 0.078125 Z M 4.484375 0 \"/>\n",
       "</symbol>\n",
       "<symbol overflow=\"visible\" id=\"glyph-1588310830543944-4-3\">\n",
       "<path style=\"stroke:none;\" d=\"M 3.0625 -3.015625 C 3.0625 -3.296875 2.8125 -3.515625 2.453125 -3.515625 C 1.9375 -3.515625 1.578125 -3.125 1.421875 -2.671875 L 1.40625 -2.671875 L 1.40625 -3.515625 L 0.28125 -3.421875 L 0.28125 -3.15625 C 0.828125 -3.15625 0.890625 -3.109375 0.890625 -2.71875 L 0.890625 -0.625 C 0.890625 -0.265625 0.78125 -0.265625 0.28125 -0.265625 L 0.28125 0 C 0.59375 -0.03125 1.03125 -0.03125 1.21875 -0.03125 C 1.6875 -0.03125 1.703125 -0.03125 2.21875 0 L 2.21875 -0.265625 L 2.0625 -0.265625 C 1.484375 -0.265625 1.46875 -0.34375 1.46875 -0.640625 L 1.46875 -1.8125 C 1.46875 -2.421875 1.71875 -3.28125 2.484375 -3.296875 C 2.4375 -3.265625 2.34375 -3.203125 2.34375 -3.015625 C 2.34375 -2.765625 2.546875 -2.65625 2.703125 -2.65625 C 2.890625 -2.65625 3.0625 -2.78125 3.0625 -3.015625 Z M 3.0625 -3.015625 \"/>\n",
       "</symbol>\n",
       "<symbol overflow=\"visible\" id=\"glyph-1588310830543944-4-4\">\n",
       "<path style=\"stroke:none;\" d=\"M 4.09375 -0.71875 L 4.09375 -1.15625 L 3.84375 -1.15625 L 3.84375 -0.71875 C 3.84375 -0.390625 3.734375 -0.265625 3.5625 -0.265625 C 3.265625 -0.265625 3.265625 -0.625 3.265625 -0.71875 L 3.265625 -2.375 C 3.265625 -3.15625 2.515625 -3.546875 1.78125 -3.546875 C 1.125 -3.546875 0.53125 -3.296875 0.53125 -2.765625 C 0.53125 -2.53125 0.703125 -2.390625 0.90625 -2.390625 C 1.125 -2.390625 1.28125 -2.546875 1.28125 -2.765625 C 1.28125 -2.953125 1.15625 -3.09375 0.984375 -3.125 C 1.28125 -3.328125 1.71875 -3.328125 1.765625 -3.328125 C 2.21875 -3.328125 2.65625 -3.015625 2.65625 -2.359375 L 2.65625 -2.125 C 2.203125 -2.09375 1.671875 -2.078125 1.109375 -1.84375 C 0.40625 -1.53125 0.265625 -1.078125 0.265625 -0.8125 C 0.265625 -0.125 1.078125 0.078125 1.625 0.078125 C 2.203125 0.078125 2.5625 -0.25 2.734375 -0.5625 C 2.78125 -0.265625 2.984375 0.046875 3.34375 0.046875 C 3.421875 0.046875 4.09375 0.015625 4.09375 -0.71875 Z M 2.65625 -1.125 C 2.65625 -0.34375 2.015625 -0.140625 1.6875 -0.140625 C 1.28125 -0.140625 0.921875 -0.421875 0.921875 -0.8125 C 0.921875 -1.328125 1.421875 -1.875 2.65625 -1.90625 Z M 2.65625 -1.125 \"/>\n",
       "</symbol>\n",
       "<symbol overflow=\"visible\" id=\"glyph-1588310830543944-4-5\">\n",
       "<path style=\"stroke:none;\" d=\"M 2.8125 -1 L 2.8125 -1.4375 L 2.5625 -1.4375 L 2.5625 -1.015625 C 2.5625 -0.46875 2.3125 -0.171875 2.015625 -0.171875 C 1.484375 -0.171875 1.484375 -0.859375 1.484375 -0.984375 L 1.484375 -3.171875 L 2.671875 -3.171875 L 2.671875 -3.4375 L 1.484375 -3.4375 L 1.484375 -4.90625 L 1.234375 -4.90625 C 1.234375 -4.171875 0.90625 -3.421875 0.15625 -3.390625 L 0.15625 -3.171875 L 0.875 -3.171875 L 0.875 -1 C 0.875 -0.0625 1.59375 0.078125 1.953125 0.078125 C 2.5 0.078125 2.8125 -0.390625 2.8125 -1 Z M 2.8125 -1 \"/>\n",
       "</symbol>\n",
       "<symbol overflow=\"visible\" id=\"glyph-1588310830543944-4-6\">\n",
       "<path style=\"stroke:none;\" d=\"M 2.078125 0 L 2.078125 -0.265625 C 1.546875 -0.265625 1.515625 -0.296875 1.515625 -0.609375 L 1.515625 -3.515625 L 0.359375 -3.421875 L 0.359375 -3.15625 C 0.875 -3.15625 0.9375 -3.109375 0.9375 -2.71875 L 0.9375 -0.625 C 0.9375 -0.265625 0.84375 -0.265625 0.328125 -0.265625 L 0.328125 0 C 0.640625 -0.03125 1.09375 -0.03125 1.21875 -0.03125 C 1.3125 -0.03125 1.796875 -0.03125 2.078125 0 Z M 1.625 -4.796875 C 1.625 -5.0625 1.40625 -5.25 1.171875 -5.25 C 0.953125 -5.25 0.734375 -5.0625 0.734375 -4.796875 C 0.734375 -4.5625 0.921875 -4.359375 1.171875 -4.359375 C 1.421875 -4.359375 1.625 -4.5625 1.625 -4.796875 Z M 1.625 -4.796875 \"/>\n",
       "</symbol>\n",
       "<symbol overflow=\"visible\" id=\"glyph-1588310830543944-4-7\">\n",
       "<path style=\"stroke:none;\" d=\"M 3.984375 -1.703125 C 3.984375 -2.6875 3.15625 -3.546875 2.109375 -3.546875 C 1.0625 -3.546875 0.234375 -2.6875 0.234375 -1.703125 C 0.234375 -0.703125 1.09375 0.078125 2.109375 0.078125 C 3.140625 0.078125 3.984375 -0.703125 3.984375 -1.703125 Z M 3.28125 -1.765625 C 3.28125 -1.40625 3.265625 -0.96875 3.03125 -0.625 C 2.828125 -0.3125 2.46875 -0.171875 2.109375 -0.171875 C 1.6875 -0.171875 1.34375 -0.375 1.171875 -0.65625 C 0.96875 -0.984375 0.953125 -1.375 0.953125 -1.765625 C 0.953125 -2.078125 0.953125 -2.546875 1.1875 -2.890625 C 1.40625 -3.171875 1.734375 -3.328125 2.109375 -3.328125 C 2.53125 -3.328125 2.875 -3.125 3.046875 -2.859375 C 3.265625 -2.515625 3.28125 -2.09375 3.28125 -1.765625 Z M 3.28125 -1.765625 \"/>\n",
       "</symbol>\n",
       "<symbol overflow=\"visible\" id=\"glyph-1588310830543944-4-8\">\n",
       "<path style=\"stroke:none;\" d=\"M 4.484375 0 L 4.484375 -0.265625 C 3.96875 -0.265625 3.875 -0.265625 3.875 -0.625 L 3.875 -2.421875 C 3.875 -3.078125 3.5625 -3.515625 2.734375 -3.515625 C 1.9375 -3.515625 1.578125 -2.9375 1.484375 -2.75 L 1.484375 -3.515625 L 0.328125 -3.421875 L 0.328125 -3.15625 C 0.875 -3.15625 0.9375 -3.109375 0.9375 -2.71875 L 0.9375 -0.625 C 0.9375 -0.265625 0.84375 -0.265625 0.328125 -0.265625 L 0.328125 0 C 0.671875 -0.03125 1.015625 -0.03125 1.234375 -0.03125 C 1.46875 -0.03125 1.796875 -0.03125 2.140625 0 L 2.140625 -0.265625 C 1.640625 -0.265625 1.53125 -0.265625 1.53125 -0.625 L 1.53125 -2.0625 C 1.53125 -2.90625 2.171875 -3.296875 2.65625 -3.296875 C 3.140625 -3.296875 3.265625 -2.953125 3.265625 -2.453125 L 3.265625 -0.625 C 3.265625 -0.265625 3.171875 -0.265625 2.65625 -0.265625 L 2.65625 0 C 3 -0.03125 3.359375 -0.03125 3.5625 -0.03125 C 3.796875 -0.03125 4.140625 -0.03125 4.484375 0 Z M 4.484375 0 \"/>\n",
       "</symbol>\n",
       "</g>\n",
       "<clipPath id=\"clip-1588310830543944-1\">\n",
       "  <path d=\"M 0 0 L 416.71875 0 L 416.71875 274.644531 L 0 274.644531 Z M 0 0 \"/>\n",
       "</clipPath>\n",
       "</defs>\n",
       "<g id=\"surface1\">\n",
       "<g clip-path=\"url(#clip-1588310830543944-1)\" clip-rule=\"nonzero\">\n",
       "<path style=\" stroke:none;fill-rule:nonzero;fill:rgb(100%,100%,100%);fill-opacity:1;\" d=\"M 0 274.644531 L 418.28125 274.644531 L 418.28125 -1.03125 L 0 -1.03125 Z M 0 274.644531 \"/>\n",
       "<path style=\" stroke:none;fill-rule:nonzero;fill:rgb(100%,100%,100%);fill-opacity:1;\" d=\"M 0 274.648438 L 0 0 L 416.722656 0 L 416.722656 274.648438 Z M 0 274.648438 \"/>\n",
       "</g>\n",
       "<path style=\" stroke:none;fill-rule:nonzero;fill:rgb(100%,100%,100%);fill-opacity:1;\" d=\"M 30.421875 242.289062 L 411.929688 242.289062 L 411.929688 4.789062 L 30.421875 4.789062 Z M 30.421875 242.289062 \"/>\n",
       "<path style=\"fill:none;stroke-width:0.49814;stroke-linecap:butt;stroke-linejoin:miter;stroke:rgb(0%,0%,0%);stroke-opacity:0.1;stroke-miterlimit:10;\" d=\"M -0.00034375 -0.0010625 L -0.00034375 237.498938 M 71.972313 -0.0010625 L 71.972313 237.498938 M 143.968406 -0.0010625 L 143.968406 237.498938 M 215.952781 -0.0010625 L 215.952781 237.498938 M 287.929344 -0.0010625 L 287.929344 237.498938 M 359.913719 -0.0010625 L 359.913719 237.498938 \" transform=\"matrix(1,0,0,-1,41.223,242.288)\"/>\n",
       "<path style=\"fill:none;stroke-width:0.49814;stroke-linecap:butt;stroke-linejoin:miter;stroke:rgb(0%,0%,0%);stroke-opacity:0.1;stroke-miterlimit:10;\" d=\"M -10.801125 5.112219 L 370.706687 5.112219 M -10.801125 51.948156 L 370.706687 51.948156 M -10.801125 98.784094 L 370.706687 98.784094 M -10.801125 145.616125 L 370.706687 145.616125 M -10.801125 192.452063 L 370.706687 192.452063 \" transform=\"matrix(1,0,0,-1,41.223,242.288)\"/>\n",
       "<path style=\"fill:none;stroke-width:0.19925;stroke-linecap:butt;stroke-linejoin:miter;stroke:rgb(0%,0%,0%);stroke-opacity:1;stroke-miterlimit:10;\" d=\"M -0.00034375 -0.0010625 L -0.00034375 4.252844 M 71.972313 -0.0010625 L 71.972313 4.252844 M 143.968406 -0.0010625 L 143.968406 4.252844 M 215.952781 -0.0010625 L 215.952781 4.252844 M 287.929344 -0.0010625 L 287.929344 4.252844 M 359.913719 -0.0010625 L 359.913719 4.252844 \" transform=\"matrix(1,0,0,-1,41.223,242.288)\"/>\n",
       "<path style=\"fill:none;stroke-width:0.19925;stroke-linecap:butt;stroke-linejoin:miter;stroke:rgb(0%,0%,0%);stroke-opacity:1;stroke-miterlimit:10;\" d=\"M -10.801125 5.112219 L -6.562844 5.112219 M -10.801125 51.948156 L -6.562844 51.948156 M -10.801125 98.784094 L -6.562844 98.784094 M -10.801125 145.616125 L -6.562844 145.616125 M -10.801125 192.452063 L -6.562844 192.452063 \" transform=\"matrix(1,0,0,-1,41.223,242.288)\"/>\n",
       "<path style=\"fill:none;stroke-width:0.99628;stroke-linecap:butt;stroke-linejoin:miter;stroke:rgb(0%,0%,0%);stroke-opacity:1;stroke-miterlimit:10;\" d=\"M -10.801125 -0.0010625 L 370.706687 -0.0010625 \" transform=\"matrix(1,0,0,-1,41.223,242.288)\"/>\n",
       "<path style=\"fill:none;stroke-width:0.99628;stroke-linecap:butt;stroke-linejoin:miter;stroke:rgb(0%,0%,0%);stroke-opacity:1;stroke-miterlimit:10;\" d=\"M -10.801125 -0.0010625 L -10.801125 237.498938 \" transform=\"matrix(1,0,0,-1,41.223,242.288)\"/>\n",
       "<g style=\"fill:rgb(0%,0%,0%);fill-opacity:1;\">\n",
       "  <use xlink:href=\"#glyph-1588310830543944-0-1\" x=\"37.031\" y=\"252.473\"/>\n",
       "</g>\n",
       "<g style=\"fill:rgb(0%,0%,0%);fill-opacity:1;\">\n",
       "  <use xlink:href=\"#glyph-1588310830543944-1-1\" x=\"41.265\" y=\"249.66\"/>\n",
       "</g>\n",
       "<g style=\"fill:rgb(0%,0%,0%);fill-opacity:1;\">\n",
       "  <use xlink:href=\"#glyph-1588310830543944-0-1\" x=\"109.004\" y=\"252.473\"/>\n",
       "</g>\n",
       "<g style=\"fill:rgb(0%,0%,0%);fill-opacity:1;\">\n",
       "  <use xlink:href=\"#glyph-1588310830543944-1-2\" x=\"113.238\" y=\"249.66\"/>\n",
       "</g>\n",
       "<g style=\"fill:rgb(0%,0%,0%);fill-opacity:1;\">\n",
       "  <use xlink:href=\"#glyph-1588310830543944-0-1\" x=\"180.996\" y=\"252.473\"/>\n",
       "</g>\n",
       "<g style=\"fill:rgb(0%,0%,0%);fill-opacity:1;\">\n",
       "  <use xlink:href=\"#glyph-1588310830543944-1-3\" x=\"185.231\" y=\"249.66\"/>\n",
       "</g>\n",
       "<g style=\"fill:rgb(0%,0%,0%);fill-opacity:1;\">\n",
       "  <use xlink:href=\"#glyph-1588310830543944-0-1\" x=\"252.979\" y=\"252.473\"/>\n",
       "</g>\n",
       "<g style=\"fill:rgb(0%,0%,0%);fill-opacity:1;\">\n",
       "  <use xlink:href=\"#glyph-1588310830543944-1-4\" x=\"257.214\" y=\"249.66\"/>\n",
       "</g>\n",
       "<g style=\"fill:rgb(0%,0%,0%);fill-opacity:1;\">\n",
       "  <use xlink:href=\"#glyph-1588310830543944-0-1\" x=\"324.957\" y=\"252.473\"/>\n",
       "</g>\n",
       "<g style=\"fill:rgb(0%,0%,0%);fill-opacity:1;\">\n",
       "  <use xlink:href=\"#glyph-1588310830543944-1-5\" x=\"329.191\" y=\"249.66\"/>\n",
       "</g>\n",
       "<g style=\"fill:rgb(0%,0%,0%);fill-opacity:1;\">\n",
       "  <use xlink:href=\"#glyph-1588310830543944-0-1\" x=\"396.939\" y=\"252.473\"/>\n",
       "</g>\n",
       "<g style=\"fill:rgb(0%,0%,0%);fill-opacity:1;\">\n",
       "  <use xlink:href=\"#glyph-1588310830543944-1-6\" x=\"401.173\" y=\"249.66\"/>\n",
       "</g>\n",
       "<g style=\"fill:rgb(0%,0%,0%);fill-opacity:1;\">\n",
       "  <use xlink:href=\"#glyph-1588310830543944-0-2\" x=\"7.614\" y=\"239.743\"/>\n",
       "</g>\n",
       "<g style=\"fill:rgb(0%,0%,0%);fill-opacity:1;\">\n",
       "  <use xlink:href=\"#glyph-1588310830543944-2-1\" x=\"11.849\" y=\"239.743\"/>\n",
       "</g>\n",
       "<g style=\"fill:rgb(0%,0%,0%);fill-opacity:1;\">\n",
       "  <use xlink:href=\"#glyph-1588310830543944-0-2\" x=\"14.201\" y=\"239.743\"/>\n",
       "  <use xlink:href=\"#glyph-1588310830543944-0-2\" x=\"18.435519\" y=\"239.743\"/>\n",
       "  <use xlink:href=\"#glyph-1588310830543944-0-2\" x=\"22.670039\" y=\"239.743\"/>\n",
       "</g>\n",
       "<g style=\"fill:rgb(0%,0%,0%);fill-opacity:1;\">\n",
       "  <use xlink:href=\"#glyph-1588310830543944-0-2\" x=\"7.614\" y=\"192.909\"/>\n",
       "</g>\n",
       "<g style=\"fill:rgb(0%,0%,0%);fill-opacity:1;\">\n",
       "  <use xlink:href=\"#glyph-1588310830543944-2-1\" x=\"11.849\" y=\"192.909\"/>\n",
       "</g>\n",
       "<g style=\"fill:rgb(0%,0%,0%);fill-opacity:1;\">\n",
       "  <use xlink:href=\"#glyph-1588310830543944-0-2\" x=\"14.201\" y=\"192.909\"/>\n",
       "  <use xlink:href=\"#glyph-1588310830543944-0-2\" x=\"18.435519\" y=\"192.909\"/>\n",
       "  <use xlink:href=\"#glyph-1588310830543944-0-3\" x=\"22.670039\" y=\"192.909\"/>\n",
       "</g>\n",
       "<g style=\"fill:rgb(0%,0%,0%);fill-opacity:1;\">\n",
       "  <use xlink:href=\"#glyph-1588310830543944-0-2\" x=\"7.614\" y=\"146.075\"/>\n",
       "</g>\n",
       "<g style=\"fill:rgb(0%,0%,0%);fill-opacity:1;\">\n",
       "  <use xlink:href=\"#glyph-1588310830543944-2-1\" x=\"11.849\" y=\"146.075\"/>\n",
       "</g>\n",
       "<g style=\"fill:rgb(0%,0%,0%);fill-opacity:1;\">\n",
       "  <use xlink:href=\"#glyph-1588310830543944-0-2\" x=\"14.201\" y=\"146.075\"/>\n",
       "  <use xlink:href=\"#glyph-1588310830543944-0-2\" x=\"18.435519\" y=\"146.075\"/>\n",
       "  <use xlink:href=\"#glyph-1588310830543944-0-4\" x=\"22.670039\" y=\"146.075\"/>\n",
       "</g>\n",
       "<g style=\"fill:rgb(0%,0%,0%);fill-opacity:1;\">\n",
       "  <use xlink:href=\"#glyph-1588310830543944-0-2\" x=\"7.614\" y=\"99.241\"/>\n",
       "</g>\n",
       "<g style=\"fill:rgb(0%,0%,0%);fill-opacity:1;\">\n",
       "  <use xlink:href=\"#glyph-1588310830543944-2-1\" x=\"11.849\" y=\"99.241\"/>\n",
       "</g>\n",
       "<g style=\"fill:rgb(0%,0%,0%);fill-opacity:1;\">\n",
       "  <use xlink:href=\"#glyph-1588310830543944-0-2\" x=\"14.201\" y=\"99.241\"/>\n",
       "  <use xlink:href=\"#glyph-1588310830543944-0-2\" x=\"18.435519\" y=\"99.241\"/>\n",
       "  <use xlink:href=\"#glyph-1588310830543944-0-5\" x=\"22.670039\" y=\"99.241\"/>\n",
       "</g>\n",
       "<g style=\"fill:rgb(0%,0%,0%);fill-opacity:1;\">\n",
       "  <use xlink:href=\"#glyph-1588310830543944-0-2\" x=\"7.614\" y=\"52.407\"/>\n",
       "</g>\n",
       "<g style=\"fill:rgb(0%,0%,0%);fill-opacity:1;\">\n",
       "  <use xlink:href=\"#glyph-1588310830543944-2-1\" x=\"11.849\" y=\"52.407\"/>\n",
       "</g>\n",
       "<g style=\"fill:rgb(0%,0%,0%);fill-opacity:1;\">\n",
       "  <use xlink:href=\"#glyph-1588310830543944-0-2\" x=\"14.201\" y=\"52.407\"/>\n",
       "  <use xlink:href=\"#glyph-1588310830543944-0-6\" x=\"18.435519\" y=\"52.407\"/>\n",
       "  <use xlink:href=\"#glyph-1588310830543944-0-1\" x=\"22.670039\" y=\"52.407\"/>\n",
       "</g>\n",
       "<path style=\"fill-rule:nonzero;fill:rgb(0%,60.559082%,97.869873%);fill-opacity:0.6;stroke-width:0.74721;stroke-linecap:butt;stroke-linejoin:miter;stroke:rgb(0%,0%,0%);stroke-opacity:0.6;stroke-miterlimit:10;\" d=\"M 2.987938 6.721594 C 2.987938 8.373938 1.652 9.709875 -0.00034375 9.709875 C -1.648781 9.709875 -2.988625 8.373938 -2.988625 6.721594 C -2.988625 5.06925 -1.648781 3.733313 -0.00034375 3.733313 C 1.652 3.733313 2.987938 5.06925 2.987938 6.721594 Z M 2.987938 6.721594 \" transform=\"matrix(1,0,0,-1,41.223,242.288)\"/>\n",
       "<path style=\"fill-rule:nonzero;fill:rgb(0%,60.559082%,97.869873%);fill-opacity:0.6;stroke-width:0.74721;stroke-linecap:butt;stroke-linejoin:miter;stroke:rgb(0%,0%,0%);stroke-opacity:0.6;stroke-miterlimit:10;\" d=\"M 2.987938 7.549719 C 2.987938 9.198156 1.652 10.538 -0.00034375 10.538 C -1.648781 10.538 -2.988625 9.198156 -2.988625 7.549719 C -2.988625 5.897375 -1.648781 4.561438 -0.00034375 4.561438 C 1.652 4.561438 2.987938 5.897375 2.987938 7.549719 Z M 2.987938 7.549719 \" transform=\"matrix(1,0,0,-1,41.223,242.288)\"/>\n",
       "<path style=\"fill-rule:nonzero;fill:rgb(0%,60.559082%,97.869873%);fill-opacity:0.6;stroke-width:0.74721;stroke-linecap:butt;stroke-linejoin:miter;stroke:rgb(0%,0%,0%);stroke-opacity:0.6;stroke-miterlimit:10;\" d=\"M 2.987938 6.721594 C 2.987938 8.373938 1.652 9.709875 -0.00034375 9.709875 C -1.648781 9.709875 -2.988625 8.373938 -2.988625 6.721594 C -2.988625 5.06925 -1.648781 3.733313 -0.00034375 3.733313 C 1.652 3.733313 2.987938 5.06925 2.987938 6.721594 Z M 2.987938 6.721594 \" transform=\"matrix(1,0,0,-1,41.223,242.288)\"/>\n",
       "<path style=\"fill-rule:nonzero;fill:rgb(0%,60.559082%,97.869873%);fill-opacity:0.6;stroke-width:0.74721;stroke-linecap:butt;stroke-linejoin:miter;stroke:rgb(0%,0%,0%);stroke-opacity:0.6;stroke-miterlimit:10;\" d=\"M 2.987938 15.432531 C 2.987938 17.084875 1.652 18.420813 -0.00034375 18.420813 C -1.648781 18.420813 -2.988625 17.084875 -2.988625 15.432531 C -2.988625 13.784094 -1.648781 12.44425 -0.00034375 12.44425 C 1.652 12.44425 2.987938 13.784094 2.987938 15.432531 Z M 2.987938 15.432531 \" transform=\"matrix(1,0,0,-1,41.223,242.288)\"/>\n",
       "<path style=\"fill-rule:nonzero;fill:rgb(0%,60.559082%,97.869873%);fill-opacity:0.6;stroke-width:0.74721;stroke-linecap:butt;stroke-linejoin:miter;stroke:rgb(0%,0%,0%);stroke-opacity:0.6;stroke-miterlimit:10;\" d=\"M 2.987938 6.721594 C 2.987938 8.373938 1.652 9.709875 -0.00034375 9.709875 C -1.648781 9.709875 -2.988625 8.373938 -2.988625 6.721594 C -2.988625 5.06925 -1.648781 3.733313 -0.00034375 3.733313 C 1.652 3.733313 2.987938 5.06925 2.987938 6.721594 Z M 2.987938 6.721594 \" transform=\"matrix(1,0,0,-1,41.223,242.288)\"/>\n",
       "<path style=\"fill-rule:nonzero;fill:rgb(0%,60.559082%,97.869873%);fill-opacity:0.6;stroke-width:0.74721;stroke-linecap:butt;stroke-linejoin:miter;stroke:rgb(0%,0%,0%);stroke-opacity:0.6;stroke-miterlimit:10;\" d=\"M 74.9645 92.7255 C 74.9645 94.377844 73.624656 95.713781 71.972313 95.713781 C 70.323875 95.713781 68.984031 94.377844 68.984031 92.7255 C 68.984031 91.073156 70.323875 89.737219 71.972313 89.737219 C 73.624656 89.737219 74.9645 91.073156 74.9645 92.7255 Z M 74.9645 92.7255 \" transform=\"matrix(1,0,0,-1,41.223,242.288)\"/>\n",
       "<path style=\"fill-rule:nonzero;fill:rgb(0%,60.559082%,97.869873%);fill-opacity:0.6;stroke-width:0.74721;stroke-linecap:butt;stroke-linejoin:miter;stroke:rgb(0%,0%,0%);stroke-opacity:0.6;stroke-miterlimit:10;\" d=\"M 74.9645 33.151281 C 74.9645 34.803625 73.624656 36.139563 71.972313 36.139563 C 70.323875 36.139563 68.984031 34.803625 68.984031 33.151281 C 68.984031 31.502844 70.323875 30.163 71.972313 30.163 C 73.624656 30.163 74.9645 31.502844 74.9645 33.151281 Z M 74.9645 33.151281 \" transform=\"matrix(1,0,0,-1,41.223,242.288)\"/>\n",
       "<path style=\"fill-rule:nonzero;fill:rgb(0%,60.559082%,97.869873%);fill-opacity:0.6;stroke-width:0.74721;stroke-linecap:butt;stroke-linejoin:miter;stroke:rgb(0%,0%,0%);stroke-opacity:0.6;stroke-miterlimit:10;\" d=\"M 74.9645 30.405188 C 74.9645 32.053625 73.624656 33.393469 71.972313 33.393469 C 70.323875 33.393469 68.984031 32.053625 68.984031 30.405188 C 68.984031 28.752844 70.323875 27.416906 71.972313 27.416906 C 73.624656 27.416906 74.9645 28.752844 74.9645 30.405188 Z M 74.9645 30.405188 \" transform=\"matrix(1,0,0,-1,41.223,242.288)\"/>\n",
       "<path style=\"fill-rule:nonzero;fill:rgb(0%,60.559082%,97.869873%);fill-opacity:0.6;stroke-width:0.74721;stroke-linecap:butt;stroke-linejoin:miter;stroke:rgb(0%,0%,0%);stroke-opacity:0.6;stroke-miterlimit:10;\" d=\"M 74.9645 33.557531 C 74.9645 35.209875 73.624656 36.545813 71.972313 36.545813 C 70.323875 36.545813 68.984031 35.209875 68.984031 33.557531 C 68.984031 31.909094 70.323875 30.56925 71.972313 30.56925 C 73.624656 30.56925 74.9645 31.909094 74.9645 33.557531 Z M 74.9645 33.557531 \" transform=\"matrix(1,0,0,-1,41.223,242.288)\"/>\n",
       "<path style=\"fill-rule:nonzero;fill:rgb(0%,60.559082%,97.869873%);fill-opacity:0.6;stroke-width:0.74721;stroke-linecap:butt;stroke-linejoin:miter;stroke:rgb(0%,0%,0%);stroke-opacity:0.6;stroke-miterlimit:10;\" d=\"M 74.9645 56.584875 C 74.9645 58.237219 73.624656 59.573156 71.972313 59.573156 C 70.323875 59.573156 68.984031 58.237219 68.984031 56.584875 C 68.984031 54.932531 70.323875 53.596594 71.972313 53.596594 C 73.624656 53.596594 74.9645 54.932531 74.9645 56.584875 Z M 74.9645 56.584875 \" transform=\"matrix(1,0,0,-1,41.223,242.288)\"/>\n",
       "<path style=\"fill-rule:nonzero;fill:rgb(0%,60.559082%,97.869873%);fill-opacity:0.6;stroke-width:0.74721;stroke-linecap:butt;stroke-linejoin:miter;stroke:rgb(0%,0%,0%);stroke-opacity:0.6;stroke-miterlimit:10;\" d=\"M 146.956687 31.639563 C 146.956687 33.288 145.616844 34.627844 143.968406 34.627844 C 142.316062 34.627844 140.980125 33.288 140.980125 31.639563 C 140.980125 29.987219 142.316062 28.647375 143.968406 28.647375 C 145.616844 28.647375 146.956687 29.987219 146.956687 31.639563 Z M 146.956687 31.639563 \" transform=\"matrix(1,0,0,-1,41.223,242.288)\"/>\n",
       "<path style=\"fill-rule:nonzero;fill:rgb(0%,60.559082%,97.869873%);fill-opacity:0.6;stroke-width:0.74721;stroke-linecap:butt;stroke-linejoin:miter;stroke:rgb(0%,0%,0%);stroke-opacity:0.6;stroke-miterlimit:10;\" d=\"M 146.956687 42.737219 C 146.956687 44.389563 145.616844 45.7255 143.968406 45.7255 C 142.316062 45.7255 140.980125 44.389563 140.980125 42.737219 C 140.980125 41.084875 142.316062 39.748938 143.968406 39.748938 C 145.616844 39.748938 146.956687 41.084875 146.956687 42.737219 Z M 146.956687 42.737219 \" transform=\"matrix(1,0,0,-1,41.223,242.288)\"/>\n",
       "<path style=\"fill-rule:nonzero;fill:rgb(0%,60.559082%,97.869873%);fill-opacity:0.6;stroke-width:0.74721;stroke-linecap:butt;stroke-linejoin:miter;stroke:rgb(0%,0%,0%);stroke-opacity:0.6;stroke-miterlimit:10;\" d=\"M 146.956687 34.495031 C 146.956687 36.143469 145.616844 37.483313 143.968406 37.483313 C 142.316062 37.483313 140.980125 36.143469 140.980125 34.495031 C 140.980125 32.842688 142.316062 31.50675 143.968406 31.50675 C 145.616844 31.50675 146.956687 32.842688 146.956687 34.495031 Z M 146.956687 34.495031 \" transform=\"matrix(1,0,0,-1,41.223,242.288)\"/>\n",
       "<path style=\"fill-rule:nonzero;fill:rgb(0%,60.559082%,97.869873%);fill-opacity:0.6;stroke-width:0.74721;stroke-linecap:butt;stroke-linejoin:miter;stroke:rgb(0%,0%,0%);stroke-opacity:0.6;stroke-miterlimit:10;\" d=\"M 146.956687 44.205969 C 146.956687 45.854406 145.616844 47.19425 143.968406 47.19425 C 142.316062 47.19425 140.980125 45.854406 140.980125 44.205969 C 140.980125 42.553625 142.316062 41.217688 143.968406 41.217688 C 145.616844 41.217688 146.956687 42.553625 146.956687 44.205969 Z M 146.956687 44.205969 \" transform=\"matrix(1,0,0,-1,41.223,242.288)\"/>\n",
       "<path style=\"fill-rule:nonzero;fill:rgb(0%,60.559082%,97.869873%);fill-opacity:0.6;stroke-width:0.74721;stroke-linecap:butt;stroke-linejoin:miter;stroke:rgb(0%,0%,0%);stroke-opacity:0.6;stroke-miterlimit:10;\" d=\"M 146.956687 33.151281 C 146.956687 34.803625 145.616844 36.139563 143.968406 36.139563 C 142.316062 36.139563 140.980125 34.803625 140.980125 33.151281 C 140.980125 31.502844 142.316062 30.163 143.968406 30.163 C 145.616844 30.163 146.956687 31.502844 146.956687 33.151281 Z M 146.956687 33.151281 \" transform=\"matrix(1,0,0,-1,41.223,242.288)\"/>\n",
       "<path style=\"fill-rule:nonzero;fill:rgb(0%,60.559082%,97.869873%);fill-opacity:0.6;stroke-width:0.74721;stroke-linecap:butt;stroke-linejoin:miter;stroke:rgb(0%,0%,0%);stroke-opacity:0.6;stroke-miterlimit:10;\" d=\"M 218.941062 47.280188 C 218.941062 48.932531 217.601219 50.268469 215.952781 50.268469 C 214.300437 50.268469 212.9645 48.932531 212.9645 47.280188 C 212.9645 45.627844 214.300437 44.291906 215.952781 44.291906 C 217.601219 44.291906 218.941062 45.627844 218.941062 47.280188 Z M 218.941062 47.280188 \" transform=\"matrix(1,0,0,-1,41.223,242.288)\"/>\n",
       "<path style=\"fill-rule:nonzero;fill:rgb(0%,60.559082%,97.869873%);fill-opacity:0.6;stroke-width:0.74721;stroke-linecap:butt;stroke-linejoin:miter;stroke:rgb(0%,0%,0%);stroke-opacity:0.6;stroke-miterlimit:10;\" d=\"M 218.941062 47.592688 C 218.941062 49.245031 217.601219 50.580969 215.952781 50.580969 C 214.300437 50.580969 212.9645 49.245031 212.9645 47.592688 C 212.9645 45.940344 214.300437 44.604406 215.952781 44.604406 C 217.601219 44.604406 218.941062 45.940344 218.941062 47.592688 Z M 218.941062 47.592688 \" transform=\"matrix(1,0,0,-1,41.223,242.288)\"/>\n",
       "<path style=\"fill-rule:nonzero;fill:rgb(0%,60.559082%,97.869873%);fill-opacity:0.6;stroke-width:0.74721;stroke-linecap:butt;stroke-linejoin:miter;stroke:rgb(0%,0%,0%);stroke-opacity:0.6;stroke-miterlimit:10;\" d=\"M 218.941062 55.741125 C 218.941062 57.393469 217.601219 58.729406 215.952781 58.729406 C 214.300437 58.729406 212.9645 57.393469 212.9645 55.741125 C 212.9645 54.092688 214.300437 52.752844 215.952781 52.752844 C 217.601219 52.752844 218.941062 54.092688 218.941062 55.741125 Z M 218.941062 55.741125 \" transform=\"matrix(1,0,0,-1,41.223,242.288)\"/>\n",
       "<path style=\"fill-rule:nonzero;fill:rgb(0%,60.559082%,97.869873%);fill-opacity:0.6;stroke-width:0.74721;stroke-linecap:butt;stroke-linejoin:miter;stroke:rgb(0%,0%,0%);stroke-opacity:0.6;stroke-miterlimit:10;\" d=\"M 218.941062 43.580969 C 218.941062 45.229406 217.601219 46.56925 215.952781 46.56925 C 214.300437 46.56925 212.9645 45.229406 212.9645 43.580969 C 212.9645 41.928625 214.300437 40.592688 215.952781 40.592688 C 217.601219 40.592688 218.941062 41.928625 218.941062 43.580969 Z M 218.941062 43.580969 \" transform=\"matrix(1,0,0,-1,41.223,242.288)\"/>\n",
       "<path style=\"fill-rule:nonzero;fill:rgb(0%,60.559082%,97.869873%);fill-opacity:0.6;stroke-width:0.74721;stroke-linecap:butt;stroke-linejoin:miter;stroke:rgb(0%,0%,0%);stroke-opacity:0.6;stroke-miterlimit:10;\" d=\"M 218.941062 42.690344 C 218.941062 44.342688 217.601219 45.678625 215.952781 45.678625 C 214.300437 45.678625 212.9645 44.342688 212.9645 42.690344 C 212.9645 41.038 214.300437 39.702063 215.952781 39.702063 C 217.601219 39.702063 218.941062 41.038 218.941062 42.690344 Z M 218.941062 42.690344 \" transform=\"matrix(1,0,0,-1,41.223,242.288)\"/>\n",
       "<path style=\"fill-rule:nonzero;fill:rgb(0%,60.559082%,97.869873%);fill-opacity:0.6;stroke-width:0.74721;stroke-linecap:butt;stroke-linejoin:miter;stroke:rgb(0%,0%,0%);stroke-opacity:0.6;stroke-miterlimit:10;\" d=\"M 290.917625 70.010656 C 290.917625 71.663 289.581687 72.998938 287.929344 72.998938 C 286.280906 72.998938 284.941062 71.663 284.941062 70.010656 C 284.941062 68.358313 286.280906 67.022375 287.929344 67.022375 C 289.581687 67.022375 290.917625 68.358313 290.917625 70.010656 Z M 290.917625 70.010656 \" transform=\"matrix(1,0,0,-1,41.223,242.288)\"/>\n",
       "<path style=\"fill-rule:nonzero;fill:rgb(0%,60.559082%,97.869873%);fill-opacity:0.6;stroke-width:0.74721;stroke-linecap:butt;stroke-linejoin:miter;stroke:rgb(0%,0%,0%);stroke-opacity:0.6;stroke-miterlimit:10;\" d=\"M 290.917625 70.823156 C 290.917625 72.471594 289.581687 73.811438 287.929344 73.811438 C 286.280906 73.811438 284.941062 72.471594 284.941062 70.823156 C 284.941062 69.170813 286.280906 67.834875 287.929344 67.834875 C 289.581687 67.834875 290.917625 69.170813 290.917625 70.823156 Z M 290.917625 70.823156 \" transform=\"matrix(1,0,0,-1,41.223,242.288)\"/>\n",
       "<path style=\"fill-rule:nonzero;fill:rgb(0%,60.559082%,97.869873%);fill-opacity:0.6;stroke-width:0.74721;stroke-linecap:butt;stroke-linejoin:miter;stroke:rgb(0%,0%,0%);stroke-opacity:0.6;stroke-miterlimit:10;\" d=\"M 290.917625 82.967688 C 290.917625 84.620031 289.581687 85.955969 287.929344 85.955969 C 286.280906 85.955969 284.941062 84.620031 284.941062 82.967688 C 284.941062 81.31925 286.280906 79.979406 287.929344 79.979406 C 289.581687 79.979406 290.917625 81.31925 290.917625 82.967688 Z M 290.917625 82.967688 \" transform=\"matrix(1,0,0,-1,41.223,242.288)\"/>\n",
       "<path style=\"fill-rule:nonzero;fill:rgb(0%,60.559082%,97.869873%);fill-opacity:0.6;stroke-width:0.74721;stroke-linecap:butt;stroke-linejoin:miter;stroke:rgb(0%,0%,0%);stroke-opacity:0.6;stroke-miterlimit:10;\" d=\"M 290.917625 123.698156 C 290.917625 125.3505 289.581687 126.686438 287.929344 126.686438 C 286.280906 126.686438 284.941062 125.3505 284.941062 123.698156 C 284.941062 122.049719 286.280906 120.709875 287.929344 120.709875 C 289.581687 120.709875 290.917625 122.049719 290.917625 123.698156 Z M 290.917625 123.698156 \" transform=\"matrix(1,0,0,-1,41.223,242.288)\"/>\n",
       "<path style=\"fill-rule:nonzero;fill:rgb(0%,60.559082%,97.869873%);fill-opacity:0.6;stroke-width:0.74721;stroke-linecap:butt;stroke-linejoin:miter;stroke:rgb(0%,0%,0%);stroke-opacity:0.6;stroke-miterlimit:10;\" d=\"M 290.917625 80.627844 C 290.917625 82.276281 289.581687 83.616125 287.929344 83.616125 C 286.280906 83.616125 284.941062 82.276281 284.941062 80.627844 C 284.941062 78.9755 286.280906 77.639563 287.929344 77.639563 C 289.581687 77.639563 290.917625 78.9755 290.917625 80.627844 Z M 290.917625 80.627844 \" transform=\"matrix(1,0,0,-1,41.223,242.288)\"/>\n",
       "<path style=\"fill-rule:nonzero;fill:rgb(0%,60.559082%,97.869873%);fill-opacity:0.6;stroke-width:0.74721;stroke-linecap:butt;stroke-linejoin:miter;stroke:rgb(0%,0%,0%);stroke-opacity:0.6;stroke-miterlimit:10;\" d=\"M 362.902 157.045813 C 362.902 158.69425 361.562156 160.034094 359.913719 160.034094 C 358.261375 160.034094 356.925437 158.69425 356.925437 157.045813 C 356.925437 155.393469 358.261375 154.057531 359.913719 154.057531 C 361.562156 154.057531 362.902 155.393469 362.902 157.045813 Z M 362.902 157.045813 \" transform=\"matrix(1,0,0,-1,41.223,242.288)\"/>\n",
       "<path style=\"fill-rule:nonzero;fill:rgb(0%,60.559082%,97.869873%);fill-opacity:0.6;stroke-width:0.74721;stroke-linecap:butt;stroke-linejoin:miter;stroke:rgb(0%,0%,0%);stroke-opacity:0.6;stroke-miterlimit:10;\" d=\"M 362.902 183.19425 C 362.902 184.846594 361.562156 186.182531 359.913719 186.182531 C 358.261375 186.182531 356.925437 184.846594 356.925437 183.19425 C 356.925437 181.541906 358.261375 180.205969 359.913719 180.205969 C 361.562156 180.205969 362.902 181.541906 362.902 183.19425 Z M 362.902 183.19425 \" transform=\"matrix(1,0,0,-1,41.223,242.288)\"/>\n",
       "<path style=\"fill-rule:nonzero;fill:rgb(0%,60.559082%,97.869873%);fill-opacity:0.6;stroke-width:0.74721;stroke-linecap:butt;stroke-linejoin:miter;stroke:rgb(0%,0%,0%);stroke-opacity:0.6;stroke-miterlimit:10;\" d=\"M 362.902 186.471594 C 362.902 188.123938 361.562156 189.459875 359.913719 189.459875 C 358.261375 189.459875 356.925437 188.123938 356.925437 186.471594 C 356.925437 184.823156 358.261375 183.483313 359.913719 183.483313 C 361.562156 183.483313 362.902 184.823156 362.902 186.471594 Z M 362.902 186.471594 \" transform=\"matrix(1,0,0,-1,41.223,242.288)\"/>\n",
       "<path style=\"fill-rule:nonzero;fill:rgb(0%,60.559082%,97.869873%);fill-opacity:0.6;stroke-width:0.74721;stroke-linecap:butt;stroke-linejoin:miter;stroke:rgb(0%,0%,0%);stroke-opacity:0.6;stroke-miterlimit:10;\" d=\"M 362.902 230.776281 C 362.902 232.428625 361.562156 233.768469 359.913719 233.768469 C 358.261375 233.768469 356.925437 232.428625 356.925437 230.776281 C 356.925437 229.127844 358.261375 227.788 359.913719 227.788 C 361.562156 227.788 362.902 229.127844 362.902 230.776281 Z M 362.902 230.776281 \" transform=\"matrix(1,0,0,-1,41.223,242.288)\"/>\n",
       "<path style=\"fill-rule:nonzero;fill:rgb(0%,60.559082%,97.869873%);fill-opacity:0.6;stroke-width:0.74721;stroke-linecap:butt;stroke-linejoin:miter;stroke:rgb(0%,0%,0%);stroke-opacity:0.6;stroke-miterlimit:10;\" d=\"M 362.902 134.471594 C 362.902 136.120031 361.562156 137.459875 359.913719 137.459875 C 358.261375 137.459875 356.925437 136.120031 356.925437 134.471594 C 356.925437 132.81925 358.261375 131.483313 359.913719 131.483313 C 361.562156 131.483313 362.902 132.81925 362.902 134.471594 Z M 362.902 134.471594 \" transform=\"matrix(1,0,0,-1,41.223,242.288)\"/>\n",
       "<g style=\"fill:rgb(0%,0%,0%);fill-opacity:1;\">\n",
       "  <use xlink:href=\"#glyph-1588310830543944-3-1\" x=\"202.068\" y=\"266.919\"/>\n",
       "  <use xlink:href=\"#glyph-1588310830543944-3-2\" x=\"209.815942\" y=\"266.919\"/>\n",
       "  <use xlink:href=\"#glyph-1588310830543944-3-3\" x=\"215.777584\" y=\"266.919\"/>\n",
       "  <use xlink:href=\"#glyph-1588310830543944-3-4\" x=\"219.952925\" y=\"266.919\"/>\n",
       "  <use xlink:href=\"#glyph-1588310830543944-3-5\" x=\"224.720046\" y=\"266.919\"/>\n",
       "  <use xlink:href=\"#glyph-1588310830543944-3-6\" x=\"230.089907\" y=\"266.919\"/>\n",
       "  <use xlink:href=\"#glyph-1588310830543944-3-7\" x=\"236.051549\" y=\"266.919\"/>\n",
       "</g>\n",
       "<path style=\"fill-rule:nonzero;fill:rgb(100%,100%,100%);fill-opacity:1;stroke-width:0.99628;stroke-linecap:butt;stroke-linejoin:miter;stroke:rgb(0%,0%,0%);stroke-opacity:1;stroke-miterlimit:10;\" d=\"M 313.362937 217.342688 L 362.577781 217.342688 L 362.577781 232.248938 L 313.362937 232.248938 Z M 313.362937 217.342688 \" transform=\"matrix(1,0,0,-1,41.223,242.288)\"/>\n",
       "<path style=\"fill-rule:nonzero;fill:rgb(0%,60.559082%,97.869873%);fill-opacity:0.6;stroke-width:0.74721;stroke-linecap:butt;stroke-linejoin:miter;stroke:rgb(0%,0%,0%);stroke-opacity:0.6;stroke-miterlimit:10;\" d=\"M 11.491875 -0.00109375 C 11.491875 1.65125 10.155937 2.987188 8.503594 2.987188 C 6.855156 2.987188 5.515312 1.65125 5.515312 -0.00109375 C 5.515312 -1.649531 6.855156 -2.989375 8.503594 -2.989375 C 10.155937 -2.989375 11.491875 -1.649531 11.491875 -0.00109375 Z M 11.491875 -0.00109375 \" transform=\"matrix(1,0,0,-1,352.055,17.495)\"/>\n",
       "<g style=\"fill:rgb(0%,0%,0%);fill-opacity:1;\">\n",
       "  <use xlink:href=\"#glyph-1588310830543944-4-1\" x=\"365.541\" y=\"19.469\"/>\n",
       "  <use xlink:href=\"#glyph-1588310830543944-4-2\" x=\"372.004759\" y=\"19.469\"/>\n",
       "  <use xlink:href=\"#glyph-1588310830543944-4-3\" x=\"376.707124\" y=\"19.469\"/>\n",
       "  <use xlink:href=\"#glyph-1588310830543944-4-4\" x=\"380.00675\" y=\"19.469\"/>\n",
       "  <use xlink:href=\"#glyph-1588310830543944-4-5\" x=\"384.238878\" y=\"19.469\"/>\n",
       "  <use xlink:href=\"#glyph-1588310830543944-4-6\" x=\"387.530533\" y=\"19.469\"/>\n",
       "  <use xlink:href=\"#glyph-1588310830543944-4-7\" x=\"389.881716\" y=\"19.469\"/>\n",
       "  <use xlink:href=\"#glyph-1588310830543944-4-8\" x=\"394.113844\" y=\"19.469\"/>\n",
       "</g>\n",
       "</g>\n",
       "</svg>\n",
       "\n"
      ]
     },
     "execution_count": 24,
     "metadata": {},
     "output_type": "execute_result"
    }
   ],
   "source": [
    "plot_results(results.threads,\n",
    "    results.duration,    \n",
    "    \"pi\",\n",
    "    \"Duration\",\n",
    "    max_thread_power = 11)"
   ]
  },
  {
   "cell_type": "code",
   "execution_count": 25,
   "metadata": {},
   "outputs": [
    {
     "data": {
      "image/svg+xml": [
       "<?xml version=\"1.0\" encoding=\"UTF-8\"?>\n",
       "<svg xmlns=\"http://www.w3.org/2000/svg\" xmlns:xlink=\"http://www.w3.org/1999/xlink\" width=\"416.719pt\" height=\"274.646pt\" viewBox=\"0 0 416.719 274.646\" version=\"1.1\">\n",
       "<defs>\n",
       "<g>\n",
       "<symbol overflow=\"visible\" id=\"glyph-1588310830543945-0-0\">\n",
       "<path style=\"stroke:none;\" d=\"\"/>\n",
       "</symbol>\n",
       "<symbol overflow=\"visible\" id=\"glyph-1588310830543945-0-1\">\n",
       "<path style=\"stroke:none;\" d=\"M 2.25 -1.625 C 2.375 -1.75 2.703125 -2.015625 2.84375 -2.125 C 3.328125 -2.578125 3.796875 -3.015625 3.796875 -3.734375 C 3.796875 -4.6875 3 -5.296875 2.015625 -5.296875 C 1.046875 -5.296875 0.421875 -4.578125 0.421875 -3.859375 C 0.421875 -3.46875 0.734375 -3.421875 0.84375 -3.421875 C 1.015625 -3.421875 1.265625 -3.53125 1.265625 -3.84375 C 1.265625 -4.25 0.859375 -4.25 0.765625 -4.25 C 1 -4.84375 1.53125 -5.03125 1.921875 -5.03125 C 2.65625 -5.03125 3.046875 -4.40625 3.046875 -3.734375 C 3.046875 -2.90625 2.46875 -2.296875 1.515625 -1.34375 L 0.515625 -0.296875 C 0.421875 -0.21875 0.421875 -0.203125 0.421875 0 L 3.5625 0 L 3.796875 -1.421875 L 3.546875 -1.421875 C 3.53125 -1.265625 3.46875 -0.875 3.375 -0.71875 C 3.328125 -0.65625 2.71875 -0.65625 2.59375 -0.65625 L 1.171875 -0.65625 Z M 2.25 -1.625 \"/>\n",
       "</symbol>\n",
       "<symbol overflow=\"visible\" id=\"glyph-1588310830543945-0-2\">\n",
       "<path style=\"stroke:none;\" d=\"M 2.015625 -2.65625 C 2.640625 -2.65625 3.046875 -2.203125 3.046875 -1.359375 C 3.046875 -0.359375 2.484375 -0.078125 2.0625 -0.078125 C 1.625 -0.078125 1.015625 -0.234375 0.734375 -0.65625 C 1.03125 -0.65625 1.234375 -0.84375 1.234375 -1.09375 C 1.234375 -1.359375 1.046875 -1.53125 0.78125 -1.53125 C 0.578125 -1.53125 0.34375 -1.40625 0.34375 -1.078125 C 0.34375 -0.328125 1.15625 0.171875 2.078125 0.171875 C 3.125 0.171875 3.875 -0.5625 3.875 -1.359375 C 3.875 -2.03125 3.34375 -2.625 2.53125 -2.8125 C 3.15625 -3.03125 3.640625 -3.5625 3.640625 -4.203125 C 3.640625 -4.84375 2.921875 -5.296875 2.09375 -5.296875 C 1.234375 -5.296875 0.59375 -4.84375 0.59375 -4.234375 C 0.59375 -3.9375 0.78125 -3.8125 1 -3.8125 C 1.25 -3.8125 1.40625 -3.984375 1.40625 -4.21875 C 1.40625 -4.515625 1.140625 -4.625 0.96875 -4.625 C 1.3125 -5.0625 1.921875 -5.09375 2.0625 -5.09375 C 2.265625 -5.09375 2.875 -5.03125 2.875 -4.203125 C 2.875 -3.65625 2.640625 -3.3125 2.53125 -3.1875 C 2.296875 -2.9375 2.109375 -2.921875 1.625 -2.890625 C 1.46875 -2.890625 1.40625 -2.875 1.40625 -2.765625 C 1.40625 -2.65625 1.484375 -2.65625 1.625 -2.65625 Z M 2.015625 -2.65625 \"/>\n",
       "</symbol>\n",
       "<symbol overflow=\"visible\" id=\"glyph-1588310830543945-0-3\">\n",
       "<path style=\"stroke:none;\" d=\"M 2.5 -5.078125 C 2.5 -5.296875 2.484375 -5.296875 2.265625 -5.296875 C 1.9375 -4.984375 1.515625 -4.796875 0.765625 -4.796875 L 0.765625 -4.53125 C 0.984375 -4.53125 1.40625 -4.53125 1.875 -4.734375 L 1.875 -0.65625 C 1.875 -0.359375 1.84375 -0.265625 1.09375 -0.265625 L 0.8125 -0.265625 L 0.8125 0 C 1.140625 -0.03125 1.828125 -0.03125 2.1875 -0.03125 C 2.546875 -0.03125 3.234375 -0.03125 3.5625 0 L 3.5625 -0.265625 L 3.28125 -0.265625 C 2.53125 -0.265625 2.5 -0.359375 2.5 -0.65625 Z M 2.5 -5.078125 \"/>\n",
       "</symbol>\n",
       "<symbol overflow=\"visible\" id=\"glyph-1588310830543945-0-4\">\n",
       "<path style=\"stroke:none;\" d=\"M 3.890625 -2.546875 C 3.890625 -3.390625 3.8125 -3.90625 3.546875 -4.421875 C 3.203125 -5.125 2.546875 -5.296875 2.109375 -5.296875 C 1.109375 -5.296875 0.734375 -4.546875 0.625 -4.328125 C 0.34375 -3.75 0.328125 -2.953125 0.328125 -2.546875 C 0.328125 -2.015625 0.34375 -1.21875 0.734375 -0.578125 C 1.09375 0.015625 1.6875 0.171875 2.109375 0.171875 C 2.5 0.171875 3.171875 0.046875 3.578125 -0.734375 C 3.875 -1.3125 3.890625 -2.03125 3.890625 -2.546875 Z M 2.109375 -0.0625 C 1.84375 -0.0625 1.296875 -0.1875 1.125 -1.015625 C 1.03125 -1.46875 1.03125 -2.21875 1.03125 -2.640625 C 1.03125 -3.1875 1.03125 -3.75 1.125 -4.1875 C 1.296875 -5 1.90625 -5.078125 2.109375 -5.078125 C 2.375 -5.078125 2.9375 -4.9375 3.09375 -4.21875 C 3.1875 -3.78125 3.1875 -3.171875 3.1875 -2.640625 C 3.1875 -2.171875 3.1875 -1.453125 3.09375 -1 C 2.921875 -0.171875 2.375 -0.0625 2.109375 -0.0625 Z M 2.109375 -0.0625 \"/>\n",
       "</symbol>\n",
       "<symbol overflow=\"visible\" id=\"glyph-1588310830543945-0-5\">\n",
       "<path style=\"stroke:none;\" d=\"M 1.109375 -4.484375 C 1.21875 -4.453125 1.53125 -4.359375 1.875 -4.359375 C 2.875 -4.359375 3.46875 -5.0625 3.46875 -5.1875 C 3.46875 -5.28125 3.421875 -5.296875 3.375 -5.296875 C 3.359375 -5.296875 3.34375 -5.296875 3.28125 -5.265625 C 2.96875 -5.140625 2.59375 -5.046875 2.171875 -5.046875 C 1.703125 -5.046875 1.3125 -5.15625 1.0625 -5.265625 C 0.984375 -5.296875 0.96875 -5.296875 0.953125 -5.296875 C 0.859375 -5.296875 0.859375 -5.21875 0.859375 -5.0625 L 0.859375 -2.734375 C 0.859375 -2.59375 0.859375 -2.5 0.984375 -2.5 C 1.046875 -2.5 1.0625 -2.53125 1.109375 -2.59375 C 1.203125 -2.703125 1.5 -3.109375 2.1875 -3.109375 C 2.625 -3.109375 2.84375 -2.75 2.921875 -2.59375 C 3.046875 -2.3125 3.0625 -1.9375 3.0625 -1.640625 C 3.0625 -1.34375 3.0625 -0.90625 2.84375 -0.5625 C 2.6875 -0.3125 2.359375 -0.078125 1.9375 -0.078125 C 1.421875 -0.078125 0.921875 -0.390625 0.734375 -0.921875 C 0.75 -0.90625 0.8125 -0.90625 0.8125 -0.90625 C 1.03125 -0.90625 1.21875 -1.046875 1.21875 -1.296875 C 1.21875 -1.59375 0.984375 -1.703125 0.828125 -1.703125 C 0.671875 -1.703125 0.421875 -1.625 0.421875 -1.28125 C 0.421875 -0.5625 1.046875 0.171875 1.953125 0.171875 C 2.953125 0.171875 3.796875 -0.609375 3.796875 -1.59375 C 3.796875 -2.515625 3.125 -3.34375 2.1875 -3.34375 C 1.796875 -3.34375 1.421875 -3.21875 1.109375 -2.9375 Z M 1.109375 -4.484375 \"/>\n",
       "</symbol>\n",
       "<symbol overflow=\"visible\" id=\"glyph-1588310830543945-0-6\">\n",
       "<path style=\"stroke:none;\" d=\"M 4.03125 -4.859375 C 4.109375 -4.9375 4.109375 -4.953125 4.109375 -5.125 L 2.078125 -5.125 C 1.875 -5.125 1.640625 -5.140625 1.4375 -5.15625 C 1.015625 -5.1875 1.015625 -5.265625 0.984375 -5.390625 L 0.734375 -5.390625 L 0.46875 -3.703125 L 0.71875 -3.703125 C 0.734375 -3.828125 0.828125 -4.375 0.9375 -4.4375 C 1.015625 -4.484375 1.625 -4.484375 1.734375 -4.484375 L 3.421875 -4.484375 L 2.609375 -3.375 C 1.703125 -2.171875 1.5 -0.90625 1.5 -0.28125 C 1.5 -0.203125 1.5 0.171875 1.875 0.171875 C 2.25 0.171875 2.25 -0.1875 2.25 -0.28125 L 2.25 -0.671875 C 2.25 -1.8125 2.453125 -2.75 2.84375 -3.28125 Z M 4.03125 -4.859375 \"/>\n",
       "</symbol>\n",
       "<symbol overflow=\"visible\" id=\"glyph-1588310830543945-1-0\">\n",
       "<path style=\"stroke:none;\" d=\"\"/>\n",
       "</symbol>\n",
       "<symbol overflow=\"visible\" id=\"glyph-1588310830543945-1-1\">\n",
       "<path style=\"stroke:none;\" d=\"M 3.296875 -1.90625 C 3.296875 -2.34375 3.296875 -3.984375 1.828125 -3.984375 C 0.359375 -3.984375 0.359375 -2.34375 0.359375 -1.90625 C 0.359375 -1.484375 0.359375 0.125 1.828125 0.125 C 3.296875 0.125 3.296875 -1.484375 3.296875 -1.90625 Z M 1.828125 -0.0625 C 1.578125 -0.0625 1.171875 -0.1875 1.015625 -0.6875 C 0.921875 -1.03125 0.921875 -1.609375 0.921875 -1.984375 C 0.921875 -2.390625 0.921875 -2.84375 1.015625 -3.171875 C 1.15625 -3.703125 1.609375 -3.78125 1.828125 -3.78125 C 2.09375 -3.78125 2.5 -3.65625 2.625 -3.203125 C 2.71875 -2.890625 2.71875 -2.453125 2.71875 -1.984375 C 2.71875 -1.609375 2.71875 -1 2.625 -0.671875 C 2.453125 -0.140625 2.015625 -0.0625 1.828125 -0.0625 Z M 1.828125 -0.0625 \"/>\n",
       "</symbol>\n",
       "<symbol overflow=\"visible\" id=\"glyph-1588310830543945-1-2\">\n",
       "<path style=\"stroke:none;\" d=\"M 2.140625 -3.796875 C 2.140625 -3.984375 2.125 -3.984375 1.9375 -3.984375 C 1.546875 -3.59375 0.9375 -3.59375 0.71875 -3.59375 L 0.71875 -3.359375 C 0.875 -3.359375 1.28125 -3.359375 1.640625 -3.53125 L 1.640625 -0.515625 C 1.640625 -0.3125 1.640625 -0.234375 1.015625 -0.234375 L 0.765625 -0.234375 L 0.765625 0 C 1.09375 -0.03125 1.5625 -0.03125 1.890625 -0.03125 C 2.21875 -0.03125 2.6875 -0.03125 3.015625 0 L 3.015625 -0.234375 L 2.765625 -0.234375 C 2.140625 -0.234375 2.140625 -0.3125 2.140625 -0.515625 Z M 2.140625 -3.796875 \"/>\n",
       "</symbol>\n",
       "<symbol overflow=\"visible\" id=\"glyph-1588310830543945-1-3\">\n",
       "<path style=\"stroke:none;\" d=\"M 3.21875 -1.125 L 3 -1.125 C 2.984375 -1.03125 2.921875 -0.640625 2.84375 -0.578125 C 2.796875 -0.53125 2.3125 -0.53125 2.21875 -0.53125 L 1.109375 -0.53125 L 1.875 -1.15625 C 2.078125 -1.328125 2.609375 -1.703125 2.796875 -1.890625 C 2.96875 -2.0625 3.21875 -2.375 3.21875 -2.796875 C 3.21875 -3.546875 2.546875 -3.984375 1.734375 -3.984375 C 0.96875 -3.984375 0.4375 -3.46875 0.4375 -2.90625 C 0.4375 -2.609375 0.6875 -2.5625 0.75 -2.5625 C 0.90625 -2.5625 1.078125 -2.671875 1.078125 -2.890625 C 1.078125 -3.015625 1 -3.21875 0.734375 -3.21875 C 0.875 -3.515625 1.234375 -3.75 1.65625 -3.75 C 2.28125 -3.75 2.609375 -3.28125 2.609375 -2.796875 C 2.609375 -2.375 2.328125 -1.9375 1.921875 -1.546875 L 0.5 -0.25 C 0.4375 -0.1875 0.4375 -0.1875 0.4375 0 L 3.03125 0 Z M 3.21875 -1.125 \"/>\n",
       "</symbol>\n",
       "<symbol overflow=\"visible\" id=\"glyph-1588310830543945-1-4\">\n",
       "<path style=\"stroke:none;\" d=\"M 1.765625 -1.984375 C 2.265625 -1.984375 2.609375 -1.640625 2.609375 -1.03125 C 2.609375 -0.375 2.21875 -0.09375 1.78125 -0.09375 C 1.609375 -0.09375 1 -0.125 0.734375 -0.46875 C 0.96875 -0.5 1.0625 -0.65625 1.0625 -0.8125 C 1.0625 -1.015625 0.921875 -1.15625 0.71875 -1.15625 C 0.5625 -1.15625 0.375 -1.046875 0.375 -0.796875 C 0.375 -0.203125 1.03125 0.125 1.796875 0.125 C 2.6875 0.125 3.265625 -0.4375 3.265625 -1.03125 C 3.265625 -1.46875 2.9375 -1.9375 2.21875 -2.109375 C 2.703125 -2.265625 3.078125 -2.65625 3.078125 -3.140625 C 3.078125 -3.625 2.515625 -3.984375 1.796875 -3.984375 C 1.09375 -3.984375 0.5625 -3.65625 0.5625 -3.171875 C 0.5625 -2.90625 0.765625 -2.84375 0.890625 -2.84375 C 1.046875 -2.84375 1.203125 -2.9375 1.203125 -3.15625 C 1.203125 -3.34375 1.078125 -3.453125 0.90625 -3.46875 C 1.1875 -3.78125 1.734375 -3.78125 1.796875 -3.78125 C 2.09375 -3.78125 2.484375 -3.640625 2.484375 -3.140625 C 2.484375 -2.8125 2.296875 -2.234375 1.6875 -2.203125 C 1.578125 -2.203125 1.421875 -2.1875 1.375 -2.1875 C 1.3125 -2.171875 1.25 -2.171875 1.25 -2.078125 C 1.25 -1.984375 1.3125 -1.984375 1.40625 -1.984375 Z M 1.765625 -1.984375 \"/>\n",
       "</symbol>\n",
       "<symbol overflow=\"visible\" id=\"glyph-1588310830543945-1-5\">\n",
       "<path style=\"stroke:none;\" d=\"M 3.375 -0.984375 L 3.375 -1.21875 L 2.671875 -1.21875 L 2.671875 -3.859375 C 2.671875 -4 2.671875 -4.046875 2.53125 -4.046875 C 2.421875 -4.046875 2.40625 -4.015625 2.359375 -3.953125 L 0.28125 -1.21875 L 0.28125 -0.984375 L 2.140625 -0.984375 L 2.140625 -0.5 C 2.140625 -0.3125 2.140625 -0.234375 1.640625 -0.234375 L 1.453125 -0.234375 L 1.453125 0 C 1.578125 0 2.140625 -0.03125 2.40625 -0.03125 C 2.671875 -0.03125 3.234375 0 3.34375 0 L 3.34375 -0.234375 L 3.171875 -0.234375 C 2.671875 -0.234375 2.671875 -0.3125 2.671875 -0.5 L 2.671875 -0.984375 Z M 2.171875 -3.390625 L 2.171875 -1.21875 L 0.53125 -1.21875 Z M 2.171875 -3.390625 \"/>\n",
       "</symbol>\n",
       "<symbol overflow=\"visible\" id=\"glyph-1588310830543945-1-6\">\n",
       "<path style=\"stroke:none;\" d=\"M 1.015625 -3.328125 C 1.21875 -3.265625 1.421875 -3.25 1.625 -3.25 C 1.765625 -3.25 2.09375 -3.25 2.46875 -3.453125 C 2.578125 -3.515625 2.9375 -3.765625 2.9375 -3.890625 C 2.9375 -3.96875 2.890625 -3.984375 2.859375 -3.984375 C 2.84375 -3.984375 2.84375 -3.984375 2.765625 -3.953125 C 2.5625 -3.875 2.25 -3.78125 1.859375 -3.78125 C 1.5625 -3.78125 1.25 -3.84375 0.96875 -3.9375 C 0.921875 -3.96875 0.890625 -3.984375 0.875 -3.984375 C 0.78125 -3.984375 0.78125 -3.90625 0.78125 -3.8125 L 0.78125 -2.015625 C 0.78125 -1.921875 0.78125 -1.84375 0.890625 -1.84375 C 0.953125 -1.84375 0.96875 -1.875 1 -1.921875 C 1.15625 -2.109375 1.421875 -2.3125 1.890625 -2.3125 C 2.625 -2.3125 2.625 -1.421875 2.625 -1.234375 C 2.625 -1 2.609375 -0.65625 2.40625 -0.40625 C 2.21875 -0.1875 1.9375 -0.09375 1.6875 -0.09375 C 1.28125 -0.09375 0.859375 -0.3125 0.71875 -0.671875 C 1.015625 -0.671875 1.046875 -0.90625 1.046875 -0.96875 C 1.046875 -1.140625 0.921875 -1.28125 0.734375 -1.28125 C 0.6875 -1.28125 0.4375 -1.25 0.4375 -0.953125 C 0.4375 -0.40625 0.953125 0.125 1.703125 0.125 C 2.53125 0.125 3.21875 -0.453125 3.21875 -1.203125 C 3.21875 -1.890625 2.671875 -2.5 1.890625 -2.5 C 1.515625 -2.5 1.203125 -2.375 1.015625 -2.21875 Z M 1.015625 -3.328125 \"/>\n",
       "</symbol>\n",
       "<symbol overflow=\"visible\" id=\"glyph-1588310830543945-2-0\">\n",
       "<path style=\"stroke:none;\" d=\"\"/>\n",
       "</symbol>\n",
       "<symbol overflow=\"visible\" id=\"glyph-1588310830543945-2-1\">\n",
       "<path style=\"stroke:none;\" d=\"M 1.625 -0.4375 C 1.625 -0.703125 1.390625 -0.890625 1.171875 -0.890625 C 0.921875 -0.890625 0.734375 -0.671875 0.734375 -0.453125 C 0.734375 -0.171875 0.953125 0 1.171875 0 C 1.421875 0 1.625 -0.203125 1.625 -0.4375 Z M 1.625 -0.4375 \"/>\n",
       "</symbol>\n",
       "<symbol overflow=\"visible\" id=\"glyph-1588310830543945-3-0\">\n",
       "<path style=\"stroke:none;\" d=\"\"/>\n",
       "</symbol>\n",
       "<symbol overflow=\"visible\" id=\"glyph-1588310830543945-3-1\">\n",
       "<path style=\"stroke:none;\" d=\"M 7.34375 -4.984375 L 7.15625 -7.421875 L 0.578125 -7.421875 L 0.390625 -4.984375 L 0.625 -4.984375 C 0.78125 -6.71875 0.875 -7.109375 2.609375 -7.109375 C 2.796875 -7.109375 3.109375 -7.109375 3.203125 -7.09375 C 3.421875 -7.046875 3.421875 -6.921875 3.421875 -6.671875 L 3.421875 -0.84375 C 3.421875 -0.46875 3.421875 -0.3125 2.359375 -0.3125 L 1.953125 -0.3125 L 1.953125 0 C 2.3125 -0.015625 3.4375 -0.015625 3.859375 -0.015625 C 4.296875 -0.015625 5.4375 -0.015625 5.78125 0 L 5.78125 -0.3125 L 5.390625 -0.3125 C 4.3125 -0.3125 4.3125 -0.46875 4.3125 -0.84375 L 4.3125 -6.671875 C 4.3125 -6.9375 4.34375 -7.046875 4.515625 -7.09375 C 4.59375 -7.109375 4.921875 -7.109375 5.125 -7.109375 C 6.859375 -7.109375 6.953125 -6.71875 7.109375 -4.984375 Z M 7.34375 -4.984375 \"/>\n",
       "</symbol>\n",
       "<symbol overflow=\"visible\" id=\"glyph-1588310830543945-3-2\">\n",
       "<path style=\"stroke:none;\" d=\"M 5.703125 0 L 5.703125 -0.3125 C 5.15625 -0.3125 4.890625 -0.3125 4.875 -0.640625 L 4.875 -2.65625 C 4.875 -3.6875 4.875 -3.984375 4.625 -4.34375 C 4.296875 -4.765625 3.796875 -4.828125 3.421875 -4.828125 C 2.46875 -4.828125 2.03125 -4.125 1.890625 -3.78125 L 1.875 -3.78125 L 1.875 -7.59375 L 0.34375 -7.484375 L 0.34375 -7.15625 C 1.09375 -7.15625 1.1875 -7.09375 1.1875 -6.546875 L 1.1875 -0.8125 C 1.1875 -0.3125 1.0625 -0.3125 0.34375 -0.3125 L 0.34375 0 C 0.640625 -0.015625 1.234375 -0.015625 1.53125 -0.015625 C 1.84375 -0.015625 2.4375 -0.015625 2.734375 0 L 2.734375 -0.3125 C 2.03125 -0.3125 1.890625 -0.3125 1.890625 -0.8125 L 1.890625 -2.84375 C 1.890625 -4 2.65625 -4.609375 3.328125 -4.609375 C 4.015625 -4.609375 4.15625 -4.046875 4.15625 -3.390625 L 4.15625 -0.8125 C 4.15625 -0.3125 4.046875 -0.3125 3.328125 -0.3125 L 3.328125 0 C 3.609375 -0.015625 4.203125 -0.015625 4.515625 -0.015625 C 4.828125 -0.015625 5.421875 -0.015625 5.703125 0 Z M 5.703125 0 \"/>\n",
       "</symbol>\n",
       "<symbol overflow=\"visible\" id=\"glyph-1588310830543945-3-3\">\n",
       "<path style=\"stroke:none;\" d=\"M 3.859375 -4.1875 C 3.859375 -4.53125 3.578125 -4.828125 3.09375 -4.828125 C 2.171875 -4.828125 1.84375 -3.828125 1.78125 -3.609375 L 1.78125 -4.828125 L 0.3125 -4.703125 L 0.3125 -4.390625 C 1.046875 -4.390625 1.140625 -4.3125 1.140625 -3.78125 L 1.140625 -0.8125 C 1.140625 -0.3125 1.015625 -0.3125 0.3125 -0.3125 L 0.3125 0 C 0.609375 -0.015625 1.21875 -0.015625 1.546875 -0.015625 C 1.84375 -0.015625 2.625 -0.015625 2.875 0 L 2.875 -0.3125 L 2.65625 -0.3125 C 1.84375 -0.3125 1.828125 -0.4375 1.828125 -0.828125 L 1.828125 -2.546875 C 1.828125 -3.609375 2.265625 -4.609375 3.109375 -4.609375 C 3.203125 -4.609375 3.21875 -4.609375 3.265625 -4.59375 C 3.171875 -4.5625 3 -4.484375 3 -4.1875 C 3 -3.875 3.25 -3.75 3.421875 -3.75 C 3.640625 -3.75 3.859375 -3.90625 3.859375 -4.1875 Z M 3.859375 -4.1875 \"/>\n",
       "</symbol>\n",
       "<symbol overflow=\"visible\" id=\"glyph-1588310830543945-3-4\">\n",
       "<path style=\"stroke:none;\" d=\"M 4.453125 -1.296875 C 4.453125 -1.375 4.40625 -1.40625 4.34375 -1.40625 C 4.25 -1.40625 4.234375 -1.359375 4.203125 -1.296875 C 3.921875 -0.390625 3.1875 -0.125 2.734375 -0.125 C 2.265625 -0.125 1.15625 -0.4375 1.15625 -2.328125 L 1.15625 -2.546875 L 4.1875 -2.546875 C 4.4375 -2.546875 4.453125 -2.546875 4.453125 -2.75 C 4.453125 -3.859375 3.859375 -4.890625 2.546875 -4.890625 C 1.296875 -4.890625 0.328125 -3.75 0.328125 -2.40625 C 0.328125 -0.953125 1.453125 0.109375 2.65625 0.109375 C 3.96875 0.109375 4.453125 -1.078125 4.453125 -1.296875 Z M 3.78125 -2.75 L 1.171875 -2.75 C 1.265625 -4.46875 2.21875 -4.671875 2.53125 -4.671875 C 3.703125 -4.671875 3.765625 -3.125 3.78125 -2.75 Z M 3.78125 -2.75 \"/>\n",
       "</symbol>\n",
       "<symbol overflow=\"visible\" id=\"glyph-1588310830543945-3-5\">\n",
       "<path style=\"stroke:none;\" d=\"M 5.1875 -0.96875 L 5.1875 -1.59375 L 4.953125 -1.59375 L 4.953125 -0.96875 C 4.953125 -0.34375 4.6875 -0.265625 4.53125 -0.265625 C 4.125 -0.265625 4.125 -0.84375 4.125 -1 L 4.125 -2.921875 C 4.125 -3.515625 4.125 -3.953125 3.640625 -4.375 C 3.25 -4.734375 2.765625 -4.890625 2.28125 -4.890625 C 1.375 -4.890625 0.6875 -4.296875 0.6875 -3.578125 C 0.6875 -3.265625 0.890625 -3.109375 1.15625 -3.109375 C 1.40625 -3.109375 1.59375 -3.296875 1.59375 -3.5625 C 1.59375 -4.015625 1.203125 -4.015625 1.046875 -4.015625 C 1.296875 -4.46875 1.8125 -4.671875 2.25 -4.671875 C 2.765625 -4.671875 3.40625 -4.25 3.40625 -3.265625 L 3.40625 -2.828125 C 1.203125 -2.796875 0.375 -1.875 0.375 -1.03125 C 0.375 -0.171875 1.375 0.109375 2.046875 0.109375 C 2.765625 0.109375 3.265625 -0.328125 3.46875 -0.859375 C 3.515625 -0.34375 3.859375 0.0625 4.328125 0.0625 C 4.5625 0.0625 5.1875 -0.09375 5.1875 -0.96875 Z M 3.40625 -1.546875 C 3.40625 -0.46875 2.609375 -0.109375 2.140625 -0.109375 C 1.59375 -0.109375 1.15625 -0.5 1.15625 -1.03125 C 1.15625 -2.46875 3.015625 -2.609375 3.40625 -2.625 Z M 3.40625 -1.546875 \"/>\n",
       "</symbol>\n",
       "<symbol overflow=\"visible\" id=\"glyph-1588310830543945-3-6\">\n",
       "<path style=\"stroke:none;\" d=\"M 5.640625 0 L 5.640625 -0.3125 C 4.890625 -0.3125 4.8125 -0.390625 4.8125 -0.9375 L 4.8125 -7.59375 L 3.28125 -7.484375 L 3.28125 -7.15625 C 4.03125 -7.15625 4.125 -7.09375 4.125 -6.546875 L 4.125 -4.125 C 3.890625 -4.453125 3.421875 -4.828125 2.75 -4.828125 C 1.484375 -4.828125 0.390625 -3.75 0.390625 -2.359375 C 0.390625 -0.96875 1.421875 0.109375 2.625 0.109375 C 3.46875 0.109375 3.9375 -0.4375 4.09375 -0.640625 L 4.09375 0.109375 Z M 4.09375 -1.28125 C 4.09375 -1.078125 4.09375 -1.046875 3.9375 -0.8125 C 3.6875 -0.421875 3.234375 -0.109375 2.6875 -0.109375 C 2.40625 -0.109375 1.21875 -0.21875 1.21875 -2.34375 C 1.21875 -3.125 1.34375 -3.578125 1.59375 -3.9375 C 1.8125 -4.265625 2.25 -4.609375 2.796875 -4.609375 C 3.46875 -4.609375 3.859375 -4.125 3.96875 -3.9375 C 4.09375 -3.75 4.09375 -3.734375 4.09375 -3.53125 Z M 4.09375 -1.28125 \"/>\n",
       "</symbol>\n",
       "<symbol overflow=\"visible\" id=\"glyph-1588310830543945-3-7\">\n",
       "<path style=\"stroke:none;\" d=\"M 3.859375 -1.390625 C 3.859375 -1.984375 3.5 -2.328125 3.390625 -2.4375 C 3 -2.765625 2.703125 -2.84375 1.984375 -2.96875 C 1.65625 -3.03125 0.859375 -3.1875 0.859375 -3.84375 C 0.859375 -4.1875 1.078125 -4.6875 2.0625 -4.6875 C 3.265625 -4.6875 3.328125 -3.671875 3.359375 -3.328125 C 3.359375 -3.234375 3.4375 -3.234375 3.46875 -3.234375 C 3.59375 -3.234375 3.59375 -3.296875 3.59375 -3.5 L 3.59375 -4.640625 C 3.59375 -4.828125 3.59375 -4.890625 3.484375 -4.890625 C 3.390625 -4.890625 3.1875 -4.640625 3.109375 -4.546875 C 2.765625 -4.8125 2.4375 -4.890625 2.078125 -4.890625 C 0.75 -4.890625 0.359375 -4.15625 0.359375 -3.5625 C 0.359375 -3.4375 0.359375 -3.0625 0.78125 -2.671875 C 1.125 -2.359375 1.5 -2.296875 2 -2.1875 C 2.609375 -2.0625 2.75 -2.03125 3.015625 -1.8125 C 3.21875 -1.65625 3.359375 -1.40625 3.359375 -1.109375 C 3.359375 -0.640625 3.09375 -0.109375 2.125 -0.109375 C 1.40625 -0.109375 0.875 -0.53125 0.640625 -1.625 C 0.59375 -1.8125 0.578125 -1.84375 0.578125 -1.84375 C 0.5625 -1.890625 0.515625 -1.890625 0.484375 -1.890625 C 0.359375 -1.890625 0.359375 -1.828125 0.359375 -1.625 L 0.359375 -0.140625 C 0.359375 0.0625 0.359375 0.109375 0.46875 0.109375 C 0.53125 0.109375 0.53125 0.09375 0.71875 -0.125 C 0.78125 -0.203125 0.78125 -0.234375 0.9375 -0.40625 C 1.359375 0.109375 1.953125 0.109375 2.140625 0.109375 C 3.28125 0.109375 3.859375 -0.53125 3.859375 -1.390625 Z M 3.859375 -1.390625 \"/>\n",
       "</symbol>\n",
       "<symbol overflow=\"visible\" id=\"glyph-1588310830543945-4-0\">\n",
       "<path style=\"stroke:none;\" d=\"\"/>\n",
       "</symbol>\n",
       "<symbol overflow=\"visible\" id=\"glyph-1588310830543945-4-1\">\n",
       "<path style=\"stroke:none;\" d=\"M 5.515625 -2.078125 L 5.265625 -2.078125 C 5.0625 -0.875 4.890625 -0.265625 3.453125 -0.265625 L 2.265625 -0.265625 C 1.90625 -0.265625 1.890625 -0.3125 1.890625 -0.59375 L 1.890625 -2.6875 L 2.65625 -2.6875 C 3.453125 -2.6875 3.5625 -2.453125 3.5625 -1.75 L 3.8125 -1.75 L 3.8125 -3.875 L 3.5625 -3.875 C 3.5625 -3.1875 3.453125 -2.953125 2.65625 -2.953125 L 1.890625 -2.953125 L 1.890625 -4.828125 C 1.890625 -5.09375 1.90625 -5.15625 2.265625 -5.15625 L 3.40625 -5.15625 C 4.71875 -5.15625 4.890625 -4.671875 5.03125 -3.609375 L 5.28125 -3.609375 L 5.046875 -5.421875 L 0.34375 -5.421875 L 0.34375 -5.15625 L 0.53125 -5.15625 C 1.140625 -5.15625 1.15625 -5.0625 1.15625 -4.765625 L 1.15625 -0.640625 C 1.15625 -0.34375 1.140625 -0.265625 0.53125 -0.265625 L 0.34375 -0.265625 L 0.34375 0 L 5.15625 0 Z M 5.515625 -2.078125 \"/>\n",
       "</symbol>\n",
       "<symbol overflow=\"visible\" id=\"glyph-1588310830543945-4-2\">\n",
       "<path style=\"stroke:none;\" d=\"M 3.046875 -1.03125 C 3.046875 -1.40625 2.828125 -1.96875 1.875 -2.140625 C 1.8125 -2.15625 1.359375 -2.234375 1.328125 -2.234375 C 1.078125 -2.296875 0.703125 -2.46875 0.703125 -2.78125 C 0.703125 -3.015625 0.890625 -3.359375 1.640625 -3.359375 C 2.53125 -3.359375 2.578125 -2.703125 2.59375 -2.484375 C 2.59375 -2.421875 2.65625 -2.390625 2.703125 -2.390625 C 2.84375 -2.390625 2.84375 -2.453125 2.84375 -2.59375 L 2.84375 -3.34375 C 2.84375 -3.46875 2.84375 -3.546875 2.734375 -3.546875 C 2.6875 -3.546875 2.671875 -3.546875 2.546875 -3.421875 C 2.53125 -3.421875 2.453125 -3.34375 2.4375 -3.34375 C 2.4375 -3.34375 2.40625 -3.34375 2.359375 -3.375 C 2.234375 -3.46875 2 -3.546875 1.640625 -3.546875 C 0.53125 -3.546875 0.28125 -2.953125 0.28125 -2.5625 C 0.28125 -2.171875 0.578125 -1.9375 0.59375 -1.90625 C 0.921875 -1.671875 1.09375 -1.640625 1.640625 -1.546875 C 2.015625 -1.46875 2.625 -1.359375 2.625 -0.828125 C 2.625 -0.515625 2.421875 -0.140625 1.6875 -0.140625 C 0.875 -0.140625 0.640625 -0.765625 0.546875 -1.1875 C 0.515625 -1.296875 0.5 -1.328125 0.40625 -1.328125 C 0.28125 -1.328125 0.28125 -1.265625 0.28125 -1.109375 L 0.28125 -0.125 C 0.28125 0 0.28125 0.078125 0.375 0.078125 C 0.4375 0.078125 0.4375 0.078125 0.578125 -0.078125 C 0.625 -0.125 0.703125 -0.21875 0.75 -0.265625 C 1.109375 0.0625 1.484375 0.078125 1.6875 0.078125 C 2.703125 0.078125 3.046875 -0.5 3.046875 -1.03125 Z M 3.046875 -1.03125 \"/>\n",
       "</symbol>\n",
       "<symbol overflow=\"visible\" id=\"glyph-1588310830543945-4-3\">\n",
       "<path style=\"stroke:none;\" d=\"M 2.8125 -1 L 2.8125 -1.4375 L 2.5625 -1.4375 L 2.5625 -1.015625 C 2.5625 -0.46875 2.3125 -0.171875 2.015625 -0.171875 C 1.484375 -0.171875 1.484375 -0.859375 1.484375 -0.984375 L 1.484375 -3.171875 L 2.671875 -3.171875 L 2.671875 -3.4375 L 1.484375 -3.4375 L 1.484375 -4.90625 L 1.234375 -4.90625 C 1.234375 -4.171875 0.90625 -3.421875 0.15625 -3.390625 L 0.15625 -3.171875 L 0.875 -3.171875 L 0.875 -1 C 0.875 -0.0625 1.59375 0.078125 1.953125 0.078125 C 2.5 0.078125 2.8125 -0.390625 2.8125 -1 Z M 2.8125 -1 \"/>\n",
       "</symbol>\n",
       "<symbol overflow=\"visible\" id=\"glyph-1588310830543945-4-4\">\n",
       "<path style=\"stroke:none;\" d=\"M 2.078125 0 L 2.078125 -0.265625 C 1.546875 -0.265625 1.515625 -0.296875 1.515625 -0.609375 L 1.515625 -3.515625 L 0.359375 -3.421875 L 0.359375 -3.15625 C 0.875 -3.15625 0.9375 -3.109375 0.9375 -2.71875 L 0.9375 -0.625 C 0.9375 -0.265625 0.84375 -0.265625 0.328125 -0.265625 L 0.328125 0 C 0.640625 -0.03125 1.09375 -0.03125 1.21875 -0.03125 C 1.3125 -0.03125 1.796875 -0.03125 2.078125 0 Z M 1.625 -4.796875 C 1.625 -5.0625 1.40625 -5.25 1.171875 -5.25 C 0.953125 -5.25 0.734375 -5.0625 0.734375 -4.796875 C 0.734375 -4.5625 0.921875 -4.359375 1.171875 -4.359375 C 1.421875 -4.359375 1.625 -4.5625 1.625 -4.796875 Z M 1.625 -4.796875 \"/>\n",
       "</symbol>\n",
       "<symbol overflow=\"visible\" id=\"glyph-1588310830543945-4-5\">\n",
       "<path style=\"stroke:none;\" d=\"M 6.828125 0 L 6.828125 -0.265625 C 6.3125 -0.265625 6.21875 -0.265625 6.21875 -0.625 L 6.21875 -2.421875 C 6.21875 -3.0625 5.9375 -3.515625 5.078125 -3.515625 C 4.34375 -3.515625 3.96875 -3.015625 3.84375 -2.78125 C 3.703125 -3.359375 3.25 -3.515625 2.734375 -3.515625 C 1.953125 -3.515625 1.59375 -2.96875 1.484375 -2.75 L 1.484375 -3.515625 L 0.328125 -3.421875 L 0.328125 -3.15625 C 0.875 -3.15625 0.9375 -3.109375 0.9375 -2.71875 L 0.9375 -0.625 C 0.9375 -0.265625 0.84375 -0.265625 0.328125 -0.265625 L 0.328125 0 C 0.671875 -0.03125 1.015625 -0.03125 1.234375 -0.03125 C 1.46875 -0.03125 1.796875 -0.03125 2.140625 0 L 2.140625 -0.265625 C 1.640625 -0.265625 1.53125 -0.265625 1.53125 -0.625 L 1.53125 -2.0625 C 1.53125 -2.90625 2.171875 -3.296875 2.671875 -3.296875 C 3.1875 -3.296875 3.28125 -2.890625 3.28125 -2.453125 L 3.28125 -0.625 C 3.28125 -0.265625 3.171875 -0.265625 2.671875 -0.265625 L 2.671875 0 C 3.015625 -0.03125 3.359375 -0.03125 3.578125 -0.03125 C 3.8125 -0.03125 4.140625 -0.03125 4.484375 0 L 4.484375 -0.265625 C 3.96875 -0.265625 3.875 -0.265625 3.875 -0.625 L 3.875 -2.0625 C 3.875 -2.90625 4.515625 -3.296875 5.015625 -3.296875 C 5.53125 -3.296875 5.625 -2.890625 5.625 -2.453125 L 5.625 -0.625 C 5.625 -0.265625 5.515625 -0.265625 5.015625 -0.265625 L 5.015625 0 C 5.359375 -0.03125 5.703125 -0.03125 5.921875 -0.03125 C 6.15625 -0.03125 6.484375 -0.03125 6.828125 0 Z M 6.828125 0 \"/>\n",
       "</symbol>\n",
       "<symbol overflow=\"visible\" id=\"glyph-1588310830543945-4-6\">\n",
       "<path style=\"stroke:none;\" d=\"M 4.09375 -0.71875 L 4.09375 -1.15625 L 3.84375 -1.15625 L 3.84375 -0.71875 C 3.84375 -0.390625 3.734375 -0.265625 3.5625 -0.265625 C 3.265625 -0.265625 3.265625 -0.625 3.265625 -0.71875 L 3.265625 -2.375 C 3.265625 -3.15625 2.515625 -3.546875 1.78125 -3.546875 C 1.125 -3.546875 0.53125 -3.296875 0.53125 -2.765625 C 0.53125 -2.53125 0.703125 -2.390625 0.90625 -2.390625 C 1.125 -2.390625 1.28125 -2.546875 1.28125 -2.765625 C 1.28125 -2.953125 1.15625 -3.09375 0.984375 -3.125 C 1.28125 -3.328125 1.71875 -3.328125 1.765625 -3.328125 C 2.21875 -3.328125 2.65625 -3.015625 2.65625 -2.359375 L 2.65625 -2.125 C 2.203125 -2.09375 1.671875 -2.078125 1.109375 -1.84375 C 0.40625 -1.53125 0.265625 -1.078125 0.265625 -0.8125 C 0.265625 -0.125 1.078125 0.078125 1.625 0.078125 C 2.203125 0.078125 2.5625 -0.25 2.734375 -0.5625 C 2.78125 -0.265625 2.984375 0.046875 3.34375 0.046875 C 3.421875 0.046875 4.09375 0.015625 4.09375 -0.71875 Z M 2.65625 -1.125 C 2.65625 -0.34375 2.015625 -0.140625 1.6875 -0.140625 C 1.28125 -0.140625 0.921875 -0.421875 0.921875 -0.8125 C 0.921875 -1.328125 1.421875 -1.875 2.65625 -1.90625 Z M 2.65625 -1.125 \"/>\n",
       "</symbol>\n",
       "<symbol overflow=\"visible\" id=\"glyph-1588310830543945-4-7\">\n",
       "<path style=\"stroke:none;\" d=\"M 3.515625 -0.953125 C 3.515625 -0.984375 3.484375 -1.0625 3.390625 -1.0625 C 3.296875 -1.0625 3.28125 -1.015625 3.265625 -0.96875 C 2.984375 -0.1875 2.296875 -0.171875 2.15625 -0.171875 C 1.796875 -0.171875 1.421875 -0.328125 1.1875 -0.703125 C 0.953125 -1.0625 0.953125 -1.578125 0.953125 -1.8125 L 3.296875 -1.8125 C 3.46875 -1.8125 3.515625 -1.8125 3.515625 -2 C 3.515625 -2.703125 3.125 -3.546875 2 -3.546875 C 1.015625 -3.546875 0.234375 -2.734375 0.234375 -1.75 C 0.234375 -0.71875 1.09375 0.078125 2.109375 0.078125 C 3.109375 0.078125 3.515625 -0.765625 3.515625 -0.953125 Z M 2.96875 -2.03125 L 0.953125 -2.03125 C 1.03125 -3.140625 1.703125 -3.328125 2 -3.328125 C 2.9375 -3.328125 2.96875 -2.203125 2.96875 -2.03125 Z M 2.96875 -2.03125 \"/>\n",
       "</symbol>\n",
       "<symbol overflow=\"visible\" id=\"glyph-1588310830543945-4-8\">\n",
       "<path style=\"stroke:none;\" d=\"M 4.421875 -1.71875 C 4.421875 -2.71875 3.609375 -3.515625 2.640625 -3.515625 C 2.328125 -3.515625 1.875 -3.4375 1.46875 -3.015625 L 1.46875 -3.515625 L 0.28125 -3.421875 L 0.28125 -3.15625 C 0.84375 -3.15625 0.890625 -3.109375 0.890625 -2.78125 L 0.890625 0.921875 C 0.890625 1.28125 0.78125 1.28125 0.28125 1.28125 L 0.28125 1.546875 C 0.625 1.515625 0.96875 1.515625 1.1875 1.515625 C 1.421875 1.515625 1.75 1.515625 2.09375 1.546875 L 2.09375 1.28125 C 1.578125 1.28125 1.484375 1.28125 1.484375 0.921875 L 1.484375 -0.390625 C 1.859375 0.015625 2.265625 0.078125 2.53125 0.078125 C 3.53125 0.078125 4.421875 -0.703125 4.421875 -1.71875 Z M 3.703125 -1.71875 C 3.703125 -0.8125 3.125 -0.140625 2.484375 -0.140625 C 2.203125 -0.140625 1.84375 -0.265625 1.578125 -0.65625 C 1.484375 -0.796875 1.484375 -0.8125 1.484375 -0.953125 L 1.484375 -2.65625 C 1.671875 -2.96875 2.078125 -3.265625 2.578125 -3.265625 C 3.1875 -3.265625 3.703125 -2.59375 3.703125 -1.71875 Z M 3.703125 -1.71875 \"/>\n",
       "</symbol>\n",
       "</g>\n",
       "<clipPath id=\"clip-1588310830543945-1\">\n",
       "  <path d=\"M 0 0 L 416.71875 0 L 416.71875 274.644531 L 0 274.644531 Z M 0 0 \"/>\n",
       "</clipPath>\n",
       "</defs>\n",
       "<g id=\"surface1\">\n",
       "<g clip-path=\"url(#clip-1588310830543945-1)\" clip-rule=\"nonzero\">\n",
       "<path style=\" stroke:none;fill-rule:nonzero;fill:rgb(100%,100%,100%);fill-opacity:1;\" d=\"M 0 274.644531 L 418.28125 274.644531 L 418.28125 -1.03125 L 0 -1.03125 Z M 0 274.644531 \"/>\n",
       "<path style=\" stroke:none;fill-rule:nonzero;fill:rgb(100%,100%,100%);fill-opacity:1;\" d=\"M 0 274.648438 L 0 0 L 416.722656 0 L 416.722656 274.648438 Z M 0 274.648438 \"/>\n",
       "</g>\n",
       "<path style=\" stroke:none;fill-rule:nonzero;fill:rgb(100%,100%,100%);fill-opacity:1;\" d=\"M 30.421875 242.289062 L 411.929688 242.289062 L 411.929688 4.789062 L 30.421875 4.789062 Z M 30.421875 242.289062 \"/>\n",
       "<path style=\"fill:none;stroke-width:0.49814;stroke-linecap:butt;stroke-linejoin:miter;stroke:rgb(0%,0%,0%);stroke-opacity:0.1;stroke-miterlimit:10;\" d=\"M -0.00034375 0.0019375 L -0.00034375 237.501938 M 71.972313 0.0019375 L 71.972313 237.501938 M 143.968406 0.0019375 L 143.968406 237.501938 M 215.952781 0.0019375 L 215.952781 237.501938 M 287.929344 0.0019375 L 287.929344 237.501938 M 359.913719 0.0019375 L 359.913719 237.501938 \" transform=\"matrix(1,0,0,-1,41.223,242.291)\"/>\n",
       "<path style=\"fill:none;stroke-width:0.49814;stroke-linecap:butt;stroke-linejoin:miter;stroke:rgb(0%,0%,0%);stroke-opacity:0.1;stroke-miterlimit:10;\" d=\"M -10.801125 9.345688 L 370.706687 9.345688 M -10.801125 56.490219 L 370.706687 56.490219 M -10.801125 103.63475 L 370.706687 103.63475 M -10.801125 150.779281 L 370.706687 150.779281 M -10.801125 197.923813 L 370.706687 197.923813 \" transform=\"matrix(1,0,0,-1,41.223,242.291)\"/>\n",
       "<path style=\"fill:none;stroke-width:0.19925;stroke-linecap:butt;stroke-linejoin:miter;stroke:rgb(0%,0%,0%);stroke-opacity:1;stroke-miterlimit:10;\" d=\"M -0.00034375 0.0019375 L -0.00034375 4.251938 M 71.972313 0.0019375 L 71.972313 4.251938 M 143.968406 0.0019375 L 143.968406 4.251938 M 215.952781 0.0019375 L 215.952781 4.251938 M 287.929344 0.0019375 L 287.929344 4.251938 M 359.913719 0.0019375 L 359.913719 4.251938 \" transform=\"matrix(1,0,0,-1,41.223,242.291)\"/>\n",
       "<path style=\"fill:none;stroke-width:0.19925;stroke-linecap:butt;stroke-linejoin:miter;stroke:rgb(0%,0%,0%);stroke-opacity:1;stroke-miterlimit:10;\" d=\"M -10.801125 9.345688 L -6.562844 9.345688 M -10.801125 56.490219 L -6.562844 56.490219 M -10.801125 103.63475 L -6.562844 103.63475 M -10.801125 150.779281 L -6.562844 150.779281 M -10.801125 197.923813 L -6.562844 197.923813 \" transform=\"matrix(1,0,0,-1,41.223,242.291)\"/>\n",
       "<path style=\"fill:none;stroke-width:0.99628;stroke-linecap:butt;stroke-linejoin:miter;stroke:rgb(0%,0%,0%);stroke-opacity:1;stroke-miterlimit:10;\" d=\"M -10.801125 0.0019375 L 370.706687 0.0019375 \" transform=\"matrix(1,0,0,-1,41.223,242.291)\"/>\n",
       "<path style=\"fill:none;stroke-width:0.99628;stroke-linecap:butt;stroke-linejoin:miter;stroke:rgb(0%,0%,0%);stroke-opacity:1;stroke-miterlimit:10;\" d=\"M -10.801125 0.0019375 L -10.801125 237.501938 \" transform=\"matrix(1,0,0,-1,41.223,242.291)\"/>\n",
       "<g style=\"fill:rgb(0%,0%,0%);fill-opacity:1;\">\n",
       "  <use xlink:href=\"#glyph-1588310830543945-0-1\" x=\"37.031\" y=\"252.476\"/>\n",
       "</g>\n",
       "<g style=\"fill:rgb(0%,0%,0%);fill-opacity:1;\">\n",
       "  <use xlink:href=\"#glyph-1588310830543945-1-1\" x=\"41.265\" y=\"249.663\"/>\n",
       "</g>\n",
       "<g style=\"fill:rgb(0%,0%,0%);fill-opacity:1;\">\n",
       "  <use xlink:href=\"#glyph-1588310830543945-0-1\" x=\"109.004\" y=\"252.476\"/>\n",
       "</g>\n",
       "<g style=\"fill:rgb(0%,0%,0%);fill-opacity:1;\">\n",
       "  <use xlink:href=\"#glyph-1588310830543945-1-2\" x=\"113.238\" y=\"249.663\"/>\n",
       "</g>\n",
       "<g style=\"fill:rgb(0%,0%,0%);fill-opacity:1;\">\n",
       "  <use xlink:href=\"#glyph-1588310830543945-0-1\" x=\"180.996\" y=\"252.476\"/>\n",
       "</g>\n",
       "<g style=\"fill:rgb(0%,0%,0%);fill-opacity:1;\">\n",
       "  <use xlink:href=\"#glyph-1588310830543945-1-3\" x=\"185.231\" y=\"249.663\"/>\n",
       "</g>\n",
       "<g style=\"fill:rgb(0%,0%,0%);fill-opacity:1;\">\n",
       "  <use xlink:href=\"#glyph-1588310830543945-0-1\" x=\"252.979\" y=\"252.476\"/>\n",
       "</g>\n",
       "<g style=\"fill:rgb(0%,0%,0%);fill-opacity:1;\">\n",
       "  <use xlink:href=\"#glyph-1588310830543945-1-4\" x=\"257.214\" y=\"249.663\"/>\n",
       "</g>\n",
       "<g style=\"fill:rgb(0%,0%,0%);fill-opacity:1;\">\n",
       "  <use xlink:href=\"#glyph-1588310830543945-0-1\" x=\"324.957\" y=\"252.476\"/>\n",
       "</g>\n",
       "<g style=\"fill:rgb(0%,0%,0%);fill-opacity:1;\">\n",
       "  <use xlink:href=\"#glyph-1588310830543945-1-5\" x=\"329.191\" y=\"249.663\"/>\n",
       "</g>\n",
       "<g style=\"fill:rgb(0%,0%,0%);fill-opacity:1;\">\n",
       "  <use xlink:href=\"#glyph-1588310830543945-0-1\" x=\"396.939\" y=\"252.476\"/>\n",
       "</g>\n",
       "<g style=\"fill:rgb(0%,0%,0%);fill-opacity:1;\">\n",
       "  <use xlink:href=\"#glyph-1588310830543945-1-6\" x=\"401.173\" y=\"249.663\"/>\n",
       "</g>\n",
       "<g style=\"fill:rgb(0%,0%,0%);fill-opacity:1;\">\n",
       "  <use xlink:href=\"#glyph-1588310830543945-0-2\" x=\"7.614\" y=\"235.513\"/>\n",
       "</g>\n",
       "<g style=\"fill:rgb(0%,0%,0%);fill-opacity:1;\">\n",
       "  <use xlink:href=\"#glyph-1588310830543945-2-1\" x=\"11.849\" y=\"235.513\"/>\n",
       "</g>\n",
       "<g style=\"fill:rgb(0%,0%,0%);fill-opacity:1;\">\n",
       "  <use xlink:href=\"#glyph-1588310830543945-0-3\" x=\"14.201\" y=\"235.513\"/>\n",
       "  <use xlink:href=\"#glyph-1588310830543945-0-4\" x=\"18.435519\" y=\"235.513\"/>\n",
       "  <use xlink:href=\"#glyph-1588310830543945-0-4\" x=\"22.670039\" y=\"235.513\"/>\n",
       "</g>\n",
       "<g style=\"fill:rgb(0%,0%,0%);fill-opacity:1;\">\n",
       "  <use xlink:href=\"#glyph-1588310830543945-0-2\" x=\"7.614\" y=\"188.369\"/>\n",
       "</g>\n",
       "<g style=\"fill:rgb(0%,0%,0%);fill-opacity:1;\">\n",
       "  <use xlink:href=\"#glyph-1588310830543945-2-1\" x=\"11.849\" y=\"188.369\"/>\n",
       "</g>\n",
       "<g style=\"fill:rgb(0%,0%,0%);fill-opacity:1;\">\n",
       "  <use xlink:href=\"#glyph-1588310830543945-0-3\" x=\"14.201\" y=\"188.369\"/>\n",
       "  <use xlink:href=\"#glyph-1588310830543945-0-1\" x=\"18.435519\" y=\"188.369\"/>\n",
       "  <use xlink:href=\"#glyph-1588310830543945-0-5\" x=\"22.670039\" y=\"188.369\"/>\n",
       "</g>\n",
       "<g style=\"fill:rgb(0%,0%,0%);fill-opacity:1;\">\n",
       "  <use xlink:href=\"#glyph-1588310830543945-0-2\" x=\"7.614\" y=\"141.225\"/>\n",
       "</g>\n",
       "<g style=\"fill:rgb(0%,0%,0%);fill-opacity:1;\">\n",
       "  <use xlink:href=\"#glyph-1588310830543945-2-1\" x=\"11.849\" y=\"141.225\"/>\n",
       "</g>\n",
       "<g style=\"fill:rgb(0%,0%,0%);fill-opacity:1;\">\n",
       "  <use xlink:href=\"#glyph-1588310830543945-0-3\" x=\"14.201\" y=\"141.225\"/>\n",
       "  <use xlink:href=\"#glyph-1588310830543945-0-5\" x=\"18.435519\" y=\"141.225\"/>\n",
       "  <use xlink:href=\"#glyph-1588310830543945-0-4\" x=\"22.670039\" y=\"141.225\"/>\n",
       "</g>\n",
       "<g style=\"fill:rgb(0%,0%,0%);fill-opacity:1;\">\n",
       "  <use xlink:href=\"#glyph-1588310830543945-0-2\" x=\"7.614\" y=\"94.081\"/>\n",
       "</g>\n",
       "<g style=\"fill:rgb(0%,0%,0%);fill-opacity:1;\">\n",
       "  <use xlink:href=\"#glyph-1588310830543945-2-1\" x=\"11.849\" y=\"94.081\"/>\n",
       "</g>\n",
       "<g style=\"fill:rgb(0%,0%,0%);fill-opacity:1;\">\n",
       "  <use xlink:href=\"#glyph-1588310830543945-0-3\" x=\"14.201\" y=\"94.081\"/>\n",
       "  <use xlink:href=\"#glyph-1588310830543945-0-6\" x=\"18.435519\" y=\"94.081\"/>\n",
       "  <use xlink:href=\"#glyph-1588310830543945-0-5\" x=\"22.670039\" y=\"94.081\"/>\n",
       "</g>\n",
       "<g style=\"fill:rgb(0%,0%,0%);fill-opacity:1;\">\n",
       "  <use xlink:href=\"#glyph-1588310830543945-0-2\" x=\"7.614\" y=\"46.937\"/>\n",
       "</g>\n",
       "<g style=\"fill:rgb(0%,0%,0%);fill-opacity:1;\">\n",
       "  <use xlink:href=\"#glyph-1588310830543945-2-1\" x=\"11.849\" y=\"46.937\"/>\n",
       "</g>\n",
       "<g style=\"fill:rgb(0%,0%,0%);fill-opacity:1;\">\n",
       "  <use xlink:href=\"#glyph-1588310830543945-0-1\" x=\"14.201\" y=\"46.937\"/>\n",
       "  <use xlink:href=\"#glyph-1588310830543945-0-4\" x=\"18.435519\" y=\"46.937\"/>\n",
       "  <use xlink:href=\"#glyph-1588310830543945-0-4\" x=\"22.670039\" y=\"46.937\"/>\n",
       "</g>\n",
       "<path style=\"fill:none;stroke-width:1.99255;stroke-linecap:butt;stroke-linejoin:miter;stroke:rgb(88.88855%,43.559265%,27.809143%);stroke-opacity:1;stroke-dasharray:2.98883,2.98883;stroke-miterlimit:10;\" d=\"M -0.00034375 87.783188 L 359.913719 87.783188 \" transform=\"matrix(1,0,0,-1,41.223,242.291)\"/>\n",
       "<path style=\"fill-rule:nonzero;fill:rgb(0%,60.559082%,97.869873%);fill-opacity:0.6;stroke-width:0.74721;stroke-linecap:butt;stroke-linejoin:miter;stroke:rgb(0%,0%,0%);stroke-opacity:0.6;stroke-miterlimit:10;\" d=\"M 2.987938 230.779281 C 2.987938 232.431625 1.652 233.767563 -0.00034375 233.767563 C -1.648781 233.767563 -2.988625 232.431625 -2.988625 230.779281 C -2.988625 229.130844 -1.648781 227.791 -0.00034375 227.791 C 1.652 227.791 2.987938 229.130844 2.987938 230.779281 Z M 2.987938 230.779281 \" transform=\"matrix(1,0,0,-1,41.223,242.291)\"/>\n",
       "<path style=\"fill-rule:nonzero;fill:rgb(0%,60.559082%,97.869873%);fill-opacity:0.6;stroke-width:0.74721;stroke-linecap:butt;stroke-linejoin:miter;stroke:rgb(0%,0%,0%);stroke-opacity:0.6;stroke-miterlimit:10;\" d=\"M 2.987938 230.779281 C 2.987938 232.431625 1.652 233.767563 -0.00034375 233.767563 C -1.648781 233.767563 -2.988625 232.431625 -2.988625 230.779281 C -2.988625 229.130844 -1.648781 227.791 -0.00034375 227.791 C 1.652 227.791 2.987938 229.130844 2.987938 230.779281 Z M 2.987938 230.779281 \" transform=\"matrix(1,0,0,-1,41.223,242.291)\"/>\n",
       "<path style=\"fill-rule:nonzero;fill:rgb(0%,60.559082%,97.869873%);fill-opacity:0.6;stroke-width:0.74721;stroke-linecap:butt;stroke-linejoin:miter;stroke:rgb(0%,0%,0%);stroke-opacity:0.6;stroke-miterlimit:10;\" d=\"M 2.987938 230.779281 C 2.987938 232.431625 1.652 233.767563 -0.00034375 233.767563 C -1.648781 233.767563 -2.988625 232.431625 -2.988625 230.779281 C -2.988625 229.130844 -1.648781 227.791 -0.00034375 227.791 C 1.652 227.791 2.987938 229.130844 2.987938 230.779281 Z M 2.987938 230.779281 \" transform=\"matrix(1,0,0,-1,41.223,242.291)\"/>\n",
       "<path style=\"fill-rule:nonzero;fill:rgb(0%,60.559082%,97.869873%);fill-opacity:0.6;stroke-width:0.74721;stroke-linecap:butt;stroke-linejoin:miter;stroke:rgb(0%,0%,0%);stroke-opacity:0.6;stroke-miterlimit:10;\" d=\"M 2.987938 230.779281 C 2.987938 232.431625 1.652 233.767563 -0.00034375 233.767563 C -1.648781 233.767563 -2.988625 232.431625 -2.988625 230.779281 C -2.988625 229.130844 -1.648781 227.791 -0.00034375 227.791 C 1.652 227.791 2.987938 229.130844 2.987938 230.779281 Z M 2.987938 230.779281 \" transform=\"matrix(1,0,0,-1,41.223,242.291)\"/>\n",
       "<path style=\"fill-rule:nonzero;fill:rgb(0%,60.559082%,97.869873%);fill-opacity:0.6;stroke-width:0.74721;stroke-linecap:butt;stroke-linejoin:miter;stroke:rgb(0%,0%,0%);stroke-opacity:0.6;stroke-miterlimit:10;\" d=\"M 2.987938 230.779281 C 2.987938 232.431625 1.652 233.767563 -0.00034375 233.767563 C -1.648781 233.767563 -2.988625 232.431625 -2.988625 230.779281 C -2.988625 229.130844 -1.648781 227.791 -0.00034375 227.791 C 1.652 227.791 2.987938 229.130844 2.987938 230.779281 Z M 2.987938 230.779281 \" transform=\"matrix(1,0,0,-1,41.223,242.291)\"/>\n",
       "<path style=\"fill-rule:nonzero;fill:rgb(0%,60.559082%,97.869873%);fill-opacity:0.6;stroke-width:0.74721;stroke-linecap:butt;stroke-linejoin:miter;stroke:rgb(0%,0%,0%);stroke-opacity:0.6;stroke-miterlimit:10;\" d=\"M 74.9645 135.513656 C 74.9645 137.166 73.624656 138.501938 71.972313 138.501938 C 70.323875 138.501938 68.984031 137.166 68.984031 135.513656 C 68.984031 133.861313 70.323875 132.525375 71.972313 132.525375 C 73.624656 132.525375 74.9645 133.861313 74.9645 135.513656 Z M 74.9645 135.513656 \" transform=\"matrix(1,0,0,-1,41.223,242.291)\"/>\n",
       "<path style=\"fill-rule:nonzero;fill:rgb(0%,60.559082%,97.869873%);fill-opacity:0.6;stroke-width:0.74721;stroke-linecap:butt;stroke-linejoin:miter;stroke:rgb(0%,0%,0%);stroke-opacity:0.6;stroke-miterlimit:10;\" d=\"M 74.9645 178.791 C 74.9645 180.443344 73.624656 181.783188 71.972313 181.783188 C 70.323875 181.783188 68.984031 180.443344 68.984031 178.791 C 68.984031 177.142563 70.323875 175.802719 71.972313 175.802719 C 73.624656 175.802719 74.9645 177.142563 74.9645 178.791 Z M 74.9645 178.791 \" transform=\"matrix(1,0,0,-1,41.223,242.291)\"/>\n",
       "<path style=\"fill-rule:nonzero;fill:rgb(0%,60.559082%,97.869873%);fill-opacity:0.6;stroke-width:0.74721;stroke-linecap:butt;stroke-linejoin:miter;stroke:rgb(0%,0%,0%);stroke-opacity:0.6;stroke-miterlimit:10;\" d=\"M 74.9645 177.189438 C 74.9645 178.841781 73.624656 180.177719 71.972313 180.177719 C 70.323875 180.177719 68.984031 178.841781 68.984031 177.189438 C 68.984031 175.541 70.323875 174.201156 71.972313 174.201156 C 73.624656 174.201156 74.9645 175.541 74.9645 177.189438 Z M 74.9645 177.189438 \" transform=\"matrix(1,0,0,-1,41.223,242.291)\"/>\n",
       "<path style=\"fill-rule:nonzero;fill:rgb(0%,60.559082%,97.869873%);fill-opacity:0.6;stroke-width:0.74721;stroke-linecap:butt;stroke-linejoin:miter;stroke:rgb(0%,0%,0%);stroke-opacity:0.6;stroke-miterlimit:10;\" d=\"M 74.9645 146.837875 C 74.9645 148.490219 73.624656 149.830063 71.972313 149.830063 C 70.323875 149.830063 68.984031 148.490219 68.984031 146.837875 C 68.984031 145.189438 70.323875 143.849594 71.972313 143.849594 C 73.624656 143.849594 74.9645 145.189438 74.9645 146.837875 Z M 74.9645 146.837875 \" transform=\"matrix(1,0,0,-1,41.223,242.291)\"/>\n",
       "<path style=\"fill-rule:nonzero;fill:rgb(0%,60.559082%,97.869873%);fill-opacity:0.6;stroke-width:0.74721;stroke-linecap:butt;stroke-linejoin:miter;stroke:rgb(0%,0%,0%);stroke-opacity:0.6;stroke-miterlimit:10;\" d=\"M 74.9645 136.771469 C 74.9645 138.419906 73.624656 139.75975 71.972313 139.75975 C 70.323875 139.75975 68.984031 138.419906 68.984031 136.771469 C 68.984031 135.119125 70.323875 133.783188 71.972313 133.783188 C 73.624656 133.783188 74.9645 135.119125 74.9645 136.771469 Z M 74.9645 136.771469 \" transform=\"matrix(1,0,0,-1,41.223,242.291)\"/>\n",
       "<path style=\"fill-rule:nonzero;fill:rgb(0%,60.559082%,97.869873%);fill-opacity:0.6;stroke-width:0.74721;stroke-linecap:butt;stroke-linejoin:miter;stroke:rgb(0%,0%,0%);stroke-opacity:0.6;stroke-miterlimit:10;\" d=\"M 146.956687 12.505844 C 146.956687 14.154281 145.616844 15.494125 143.968406 15.494125 C 142.316062 15.494125 140.980125 14.154281 140.980125 12.505844 C 140.980125 10.8535 142.316062 9.517563 143.968406 9.517563 C 145.616844 9.517563 146.956687 10.8535 146.956687 12.505844 Z M 146.956687 12.505844 \" transform=\"matrix(1,0,0,-1,41.223,242.291)\"/>\n",
       "<path style=\"fill-rule:nonzero;fill:rgb(0%,60.559082%,97.869873%);fill-opacity:0.6;stroke-width:0.74721;stroke-linecap:butt;stroke-linejoin:miter;stroke:rgb(0%,0%,0%);stroke-opacity:0.6;stroke-miterlimit:10;\" d=\"M 146.956687 51.685531 C 146.956687 53.337875 145.616844 54.677719 143.968406 54.677719 C 142.316062 54.677719 140.980125 53.337875 140.980125 51.685531 C 140.980125 50.037094 142.316062 48.69725 143.968406 48.69725 C 145.616844 48.69725 146.956687 50.037094 146.956687 51.685531 Z M 146.956687 51.685531 \" transform=\"matrix(1,0,0,-1,41.223,242.291)\"/>\n",
       "<path style=\"fill-rule:nonzero;fill:rgb(0%,60.559082%,97.869873%);fill-opacity:0.6;stroke-width:0.74721;stroke-linecap:butt;stroke-linejoin:miter;stroke:rgb(0%,0%,0%);stroke-opacity:0.6;stroke-miterlimit:10;\" d=\"M 146.956687 69.138656 C 146.956687 70.787094 145.616844 72.126938 143.968406 72.126938 C 142.316062 72.126938 140.980125 70.787094 140.980125 69.138656 C 140.980125 67.486313 142.316062 66.150375 143.968406 66.150375 C 145.616844 66.150375 146.956687 67.486313 146.956687 69.138656 Z M 146.956687 69.138656 \" transform=\"matrix(1,0,0,-1,41.223,242.291)\"/>\n",
       "<path style=\"fill-rule:nonzero;fill:rgb(0%,60.559082%,97.869873%);fill-opacity:0.6;stroke-width:0.74721;stroke-linecap:butt;stroke-linejoin:miter;stroke:rgb(0%,0%,0%);stroke-opacity:0.6;stroke-miterlimit:10;\" d=\"M 146.956687 19.166 C 146.956687 20.818344 145.616844 22.154281 143.968406 22.154281 C 142.316062 22.154281 140.980125 20.818344 140.980125 19.166 C 140.980125 17.517563 142.316062 16.177719 143.968406 16.177719 C 145.616844 16.177719 146.956687 17.517563 146.956687 19.166 Z M 146.956687 19.166 \" transform=\"matrix(1,0,0,-1,41.223,242.291)\"/>\n",
       "<path style=\"fill-rule:nonzero;fill:rgb(0%,60.559082%,97.869873%);fill-opacity:0.6;stroke-width:0.74721;stroke-linecap:butt;stroke-linejoin:miter;stroke:rgb(0%,0%,0%);stroke-opacity:0.6;stroke-miterlimit:10;\" d=\"M 146.956687 34.169906 C 146.956687 35.82225 145.616844 37.162094 143.968406 37.162094 C 142.316062 37.162094 140.980125 35.82225 140.980125 34.169906 C 140.980125 32.521469 142.316062 31.181625 143.968406 31.181625 C 145.616844 31.181625 146.956687 32.521469 146.956687 34.169906 Z M 146.956687 34.169906 \" transform=\"matrix(1,0,0,-1,41.223,242.291)\"/>\n",
       "<path style=\"fill-rule:nonzero;fill:rgb(0%,60.559082%,97.869873%);fill-opacity:0.6;stroke-width:0.74721;stroke-linecap:butt;stroke-linejoin:miter;stroke:rgb(0%,0%,0%);stroke-opacity:0.6;stroke-miterlimit:10;\" d=\"M 218.941062 6.720688 C 218.941062 8.373031 217.601219 9.708969 215.952781 9.708969 C 214.300437 9.708969 212.9645 8.373031 212.9645 6.720688 C 212.9645 5.07225 214.300437 3.732406 215.952781 3.732406 C 217.601219 3.732406 218.941062 5.07225 218.941062 6.720688 Z M 218.941062 6.720688 \" transform=\"matrix(1,0,0,-1,41.223,242.291)\"/>\n",
       "<path style=\"fill-rule:nonzero;fill:rgb(0%,60.559082%,97.869873%);fill-opacity:0.6;stroke-width:0.74721;stroke-linecap:butt;stroke-linejoin:miter;stroke:rgb(0%,0%,0%);stroke-opacity:0.6;stroke-miterlimit:10;\" d=\"M 218.941062 29.189438 C 218.941062 30.841781 217.601219 32.177719 215.952781 32.177719 C 214.300437 32.177719 212.9645 30.841781 212.9645 29.189438 C 212.9645 27.541 214.300437 26.201156 215.952781 26.201156 C 217.601219 26.201156 218.941062 27.541 218.941062 29.189438 Z M 218.941062 29.189438 \" transform=\"matrix(1,0,0,-1,41.223,242.291)\"/>\n",
       "<path style=\"fill-rule:nonzero;fill:rgb(0%,60.559082%,97.869873%);fill-opacity:0.6;stroke-width:0.74721;stroke-linecap:butt;stroke-linejoin:miter;stroke:rgb(0%,0%,0%);stroke-opacity:0.6;stroke-miterlimit:10;\" d=\"M 218.941062 118.654281 C 218.941062 120.302719 217.601219 121.642563 215.952781 121.642563 C 214.300437 121.642563 212.9645 120.302719 212.9645 118.654281 C 212.9645 117.001938 214.300437 115.666 215.952781 115.666 C 217.601219 115.666 218.941062 117.001938 218.941062 118.654281 Z M 218.941062 118.654281 \" transform=\"matrix(1,0,0,-1,41.223,242.291)\"/>\n",
       "<path style=\"fill-rule:nonzero;fill:rgb(0%,60.559082%,97.869873%);fill-opacity:0.6;stroke-width:0.74721;stroke-linecap:butt;stroke-linejoin:miter;stroke:rgb(0%,0%,0%);stroke-opacity:0.6;stroke-miterlimit:10;\" d=\"M 218.941062 10.345688 C 218.941062 11.998031 217.601219 13.333969 215.952781 13.333969 C 214.300437 13.333969 212.9645 11.998031 212.9645 10.345688 C 212.9645 8.693344 214.300437 7.357406 215.952781 7.357406 C 217.601219 7.357406 218.941062 8.693344 218.941062 10.345688 Z M 218.941062 10.345688 \" transform=\"matrix(1,0,0,-1,41.223,242.291)\"/>\n",
       "<path style=\"fill-rule:nonzero;fill:rgb(0%,60.559082%,97.869873%);fill-opacity:0.6;stroke-width:0.74721;stroke-linecap:butt;stroke-linejoin:miter;stroke:rgb(0%,0%,0%);stroke-opacity:0.6;stroke-miterlimit:10;\" d=\"M 218.941062 58.083969 C 218.941062 59.732406 217.601219 61.07225 215.952781 61.07225 C 214.300437 61.07225 212.9645 59.732406 212.9645 58.083969 C 212.9645 56.431625 214.300437 55.091781 215.952781 55.091781 C 217.601219 55.091781 218.941062 56.431625 218.941062 58.083969 Z M 218.941062 58.083969 \" transform=\"matrix(1,0,0,-1,41.223,242.291)\"/>\n",
       "<path style=\"fill-rule:nonzero;fill:rgb(0%,60.559082%,97.869873%);fill-opacity:0.6;stroke-width:0.74721;stroke-linecap:butt;stroke-linejoin:miter;stroke:rgb(0%,0%,0%);stroke-opacity:0.6;stroke-miterlimit:10;\" d=\"M 290.917625 117.205063 C 290.917625 118.8535 289.581687 120.193344 287.929344 120.193344 C 286.280906 120.193344 284.941062 118.8535 284.941062 117.205063 C 284.941062 115.552719 286.280906 114.216781 287.929344 114.216781 C 289.581687 114.216781 290.917625 115.552719 290.917625 117.205063 Z M 290.917625 117.205063 \" transform=\"matrix(1,0,0,-1,41.223,242.291)\"/>\n",
       "<path style=\"fill-rule:nonzero;fill:rgb(0%,60.559082%,97.869873%);fill-opacity:0.6;stroke-width:0.74721;stroke-linecap:butt;stroke-linejoin:miter;stroke:rgb(0%,0%,0%);stroke-opacity:0.6;stroke-miterlimit:10;\" d=\"M 290.917625 118.943344 C 290.917625 120.591781 289.581687 121.931625 287.929344 121.931625 C 286.280906 121.931625 284.941062 120.591781 284.941062 118.943344 C 284.941062 117.291 286.280906 115.951156 287.929344 115.951156 C 289.581687 115.951156 290.917625 117.291 290.917625 118.943344 Z M 290.917625 118.943344 \" transform=\"matrix(1,0,0,-1,41.223,242.291)\"/>\n",
       "<path style=\"fill-rule:nonzero;fill:rgb(0%,60.559082%,97.869873%);fill-opacity:0.6;stroke-width:0.74721;stroke-linecap:butt;stroke-linejoin:miter;stroke:rgb(0%,0%,0%);stroke-opacity:0.6;stroke-miterlimit:10;\" d=\"M 290.917625 70.498031 C 290.917625 72.150375 289.581687 73.486313 287.929344 73.486313 C 286.280906 73.486313 284.941062 72.150375 284.941062 70.498031 C 284.941062 68.849594 286.280906 67.50975 287.929344 67.50975 C 289.581687 67.50975 290.917625 68.849594 290.917625 70.498031 Z M 290.917625 70.498031 \" transform=\"matrix(1,0,0,-1,41.223,242.291)\"/>\n",
       "<path style=\"fill-rule:nonzero;fill:rgb(0%,60.559082%,97.869873%);fill-opacity:0.6;stroke-width:0.74721;stroke-linecap:butt;stroke-linejoin:miter;stroke:rgb(0%,0%,0%);stroke-opacity:0.6;stroke-miterlimit:10;\" d=\"M 290.917625 107.755844 C 290.917625 109.404281 289.581687 110.744125 287.929344 110.744125 C 286.280906 110.744125 284.941062 109.404281 284.941062 107.755844 C 284.941062 106.1035 286.280906 104.767563 287.929344 104.767563 C 289.581687 104.767563 290.917625 106.1035 290.917625 107.755844 Z M 290.917625 107.755844 \" transform=\"matrix(1,0,0,-1,41.223,242.291)\"/>\n",
       "<path style=\"fill-rule:nonzero;fill:rgb(0%,60.559082%,97.869873%);fill-opacity:0.6;stroke-width:0.74721;stroke-linecap:butt;stroke-linejoin:miter;stroke:rgb(0%,0%,0%);stroke-opacity:0.6;stroke-miterlimit:10;\" d=\"M 290.917625 80.7285 C 290.917625 82.380844 289.581687 83.716781 287.929344 83.716781 C 286.280906 83.716781 284.941062 82.380844 284.941062 80.7285 C 284.941062 79.080063 286.280906 77.740219 287.929344 77.740219 C 289.581687 77.740219 290.917625 79.080063 290.917625 80.7285 Z M 290.917625 80.7285 \" transform=\"matrix(1,0,0,-1,41.223,242.291)\"/>\n",
       "<path style=\"fill-rule:nonzero;fill:rgb(0%,60.559082%,97.869873%);fill-opacity:0.6;stroke-width:0.74721;stroke-linecap:butt;stroke-linejoin:miter;stroke:rgb(0%,0%,0%);stroke-opacity:0.6;stroke-miterlimit:10;\" d=\"M 362.902 85.365219 C 362.902 87.017563 361.562156 88.3535 359.913719 88.3535 C 358.261375 88.3535 356.925437 87.017563 356.925437 85.365219 C 356.925437 83.716781 358.261375 82.376938 359.913719 82.376938 C 361.562156 82.376938 362.902 83.716781 362.902 85.365219 Z M 362.902 85.365219 \" transform=\"matrix(1,0,0,-1,41.223,242.291)\"/>\n",
       "<path style=\"fill-rule:nonzero;fill:rgb(0%,60.559082%,97.869873%);fill-opacity:0.6;stroke-width:0.74721;stroke-linecap:butt;stroke-linejoin:miter;stroke:rgb(0%,0%,0%);stroke-opacity:0.6;stroke-miterlimit:10;\" d=\"M 362.902 107.673813 C 362.902 109.326156 361.562156 110.666 359.913719 110.666 C 358.261375 110.666 356.925437 109.326156 356.925437 107.673813 C 356.925437 106.025375 358.261375 104.685531 359.913719 104.685531 C 361.562156 104.685531 362.902 106.025375 362.902 107.673813 Z M 362.902 107.673813 \" transform=\"matrix(1,0,0,-1,41.223,242.291)\"/>\n",
       "<path style=\"fill-rule:nonzero;fill:rgb(0%,60.559082%,97.869873%);fill-opacity:0.6;stroke-width:0.74721;stroke-linecap:butt;stroke-linejoin:miter;stroke:rgb(0%,0%,0%);stroke-opacity:0.6;stroke-miterlimit:10;\" d=\"M 362.902 146.908188 C 362.902 148.556625 361.562156 149.896469 359.913719 149.896469 C 358.261375 149.896469 356.925437 148.556625 356.925437 146.908188 C 356.925437 145.255844 358.261375 143.919906 359.913719 143.919906 C 361.562156 143.919906 362.902 145.255844 362.902 146.908188 Z M 362.902 146.908188 \" transform=\"matrix(1,0,0,-1,41.223,242.291)\"/>\n",
       "<path style=\"fill-rule:nonzero;fill:rgb(0%,60.559082%,97.869873%);fill-opacity:0.6;stroke-width:0.74721;stroke-linecap:butt;stroke-linejoin:miter;stroke:rgb(0%,0%,0%);stroke-opacity:0.6;stroke-miterlimit:10;\" d=\"M 362.902 182.38475 C 362.902 184.037094 361.562156 185.373031 359.913719 185.373031 C 358.261375 185.373031 356.925437 184.037094 356.925437 182.38475 C 356.925437 180.732406 358.261375 179.396469 359.913719 179.396469 C 361.562156 179.396469 362.902 180.732406 362.902 182.38475 Z M 362.902 182.38475 \" transform=\"matrix(1,0,0,-1,41.223,242.291)\"/>\n",
       "<path style=\"fill-rule:nonzero;fill:rgb(0%,60.559082%,97.869873%);fill-opacity:0.6;stroke-width:0.74721;stroke-linecap:butt;stroke-linejoin:miter;stroke:rgb(0%,0%,0%);stroke-opacity:0.6;stroke-miterlimit:10;\" d=\"M 362.902 70.787094 C 362.902 72.439438 361.562156 73.779281 359.913719 73.779281 C 358.261375 73.779281 356.925437 72.439438 356.925437 70.787094 C 356.925437 69.138656 358.261375 67.798813 359.913719 67.798813 C 361.562156 67.798813 362.902 69.138656 362.902 70.787094 Z M 362.902 70.787094 \" transform=\"matrix(1,0,0,-1,41.223,242.291)\"/>\n",
       "<g style=\"fill:rgb(0%,0%,0%);fill-opacity:1;\">\n",
       "  <use xlink:href=\"#glyph-1588310830543945-3-1\" x=\"202.068\" y=\"266.922\"/>\n",
       "  <use xlink:href=\"#glyph-1588310830543945-3-2\" x=\"209.815942\" y=\"266.922\"/>\n",
       "  <use xlink:href=\"#glyph-1588310830543945-3-3\" x=\"215.777584\" y=\"266.922\"/>\n",
       "  <use xlink:href=\"#glyph-1588310830543945-3-4\" x=\"219.952925\" y=\"266.922\"/>\n",
       "  <use xlink:href=\"#glyph-1588310830543945-3-5\" x=\"224.720046\" y=\"266.922\"/>\n",
       "  <use xlink:href=\"#glyph-1588310830543945-3-6\" x=\"230.089907\" y=\"266.922\"/>\n",
       "  <use xlink:href=\"#glyph-1588310830543945-3-7\" x=\"236.051549\" y=\"266.922\"/>\n",
       "</g>\n",
       "<path style=\"fill-rule:nonzero;fill:rgb(100%,100%,100%);fill-opacity:1;stroke-width:0.99628;stroke-linecap:butt;stroke-linejoin:miter;stroke:rgb(0%,0%,0%);stroke-opacity:1;stroke-miterlimit:10;\" d=\"M 300.530906 206.646469 L 362.577781 206.646469 L 362.577781 232.251938 L 300.530906 232.251938 Z M 300.530906 206.646469 \" transform=\"matrix(1,0,0,-1,41.223,242.291)\"/>\n",
       "<path style=\"fill-rule:nonzero;fill:rgb(0%,60.559082%,97.869873%);fill-opacity:0.6;stroke-width:0.74721;stroke-linecap:butt;stroke-linejoin:miter;stroke:rgb(0%,0%,0%);stroke-opacity:0.6;stroke-miterlimit:10;\" d=\"M 11.491563 -0.001375 C 11.491563 1.650969 10.155625 2.986906 8.503281 2.986906 C 6.854844 2.986906 5.515 1.650969 5.515 -0.001375 C 5.515 -1.649812 6.854844 -2.989656 8.503281 -2.989656 C 10.155625 -2.989656 11.491563 -1.649812 11.491563 -0.001375 Z M 11.491563 -0.001375 \" transform=\"matrix(1,0,0,-1,345.735,17.483)\"/>\n",
       "<g style=\"fill:rgb(0%,0%,0%);fill-opacity:1;\">\n",
       "  <use xlink:href=\"#glyph-1588310830543945-4-1\" x=\"365.732\" y=\"19.446\"/>\n",
       "  <use xlink:href=\"#glyph-1588310830543945-4-2\" x=\"371.49439\" y=\"19.446\"/>\n",
       "  <use xlink:href=\"#glyph-1588310830543945-4-3\" x=\"374.833866\" y=\"19.446\"/>\n",
       "  <use xlink:href=\"#glyph-1588310830543945-4-4\" x=\"378.125521\" y=\"19.446\"/>\n",
       "  <use xlink:href=\"#glyph-1588310830543945-4-5\" x=\"380.476703\" y=\"19.446\"/>\n",
       "  <use xlink:href=\"#glyph-1588310830543945-4-6\" x=\"387.530251\" y=\"19.446\"/>\n",
       "  <use xlink:href=\"#glyph-1588310830543945-4-3\" x=\"391.762379\" y=\"19.446\"/>\n",
       "  <use xlink:href=\"#glyph-1588310830543945-4-7\" x=\"395.054035\" y=\"19.446\"/>\n",
       "</g>\n",
       "<path style=\"fill:none;stroke-width:1.99255;stroke-linecap:butt;stroke-linejoin:miter;stroke:rgb(88.88855%,43.559265%,27.809143%);stroke-opacity:1;stroke-dasharray:2.98883,2.98883;stroke-miterlimit:10;\" d=\"M -0.000625 -0.001875 L 17.007188 -0.001875 \" transform=\"matrix(1,0,0,-1,345.735,28.295)\"/>\n",
       "<g style=\"fill:rgb(0%,0%,0%);fill-opacity:1;\">\n",
       "  <use xlink:href=\"#glyph-1588310830543945-4-8\" x=\"378.747\" y=\"30.17\"/>\n",
       "  <use xlink:href=\"#glyph-1588310830543945-4-4\" x=\"383.449365\" y=\"30.17\"/>\n",
       "</g>\n",
       "</g>\n",
       "</svg>\n",
       "\n"
      ]
     },
     "execution_count": 25,
     "metadata": {},
     "output_type": "execute_result"
    }
   ],
   "source": [
    "plot_results(results.threads,\n",
    "    results.estimate,    \n",
    "    \"pi\",\n",
    "    \"Estimate\",\n",
    "    hline = [pi for i in 1:nrow(results)],\n",
    "    max_thread_power = 11)"
   ]
  },
  {
   "cell_type": "code",
   "execution_count": 26,
   "metadata": {},
   "outputs": [
    {
     "data": {
      "image/svg+xml": [
       "<?xml version=\"1.0\" encoding=\"UTF-8\"?>\n",
       "<svg xmlns=\"http://www.w3.org/2000/svg\" xmlns:xlink=\"http://www.w3.org/1999/xlink\" width=\"416.719pt\" height=\"274.646pt\" viewBox=\"0 0 416.719 274.646\" version=\"1.1\">\n",
       "<defs>\n",
       "<g>\n",
       "<symbol overflow=\"visible\" id=\"glyph-1588310830543946-0-0\">\n",
       "<path style=\"stroke:none;\" d=\"\"/>\n",
       "</symbol>\n",
       "<symbol overflow=\"visible\" id=\"glyph-1588310830543946-0-1\">\n",
       "<path style=\"stroke:none;\" d=\"M 2.25 -1.625 C 2.375 -1.75 2.703125 -2.015625 2.84375 -2.125 C 3.328125 -2.578125 3.796875 -3.015625 3.796875 -3.734375 C 3.796875 -4.6875 3 -5.296875 2.015625 -5.296875 C 1.046875 -5.296875 0.421875 -4.578125 0.421875 -3.859375 C 0.421875 -3.46875 0.734375 -3.421875 0.84375 -3.421875 C 1.015625 -3.421875 1.265625 -3.53125 1.265625 -3.84375 C 1.265625 -4.25 0.859375 -4.25 0.765625 -4.25 C 1 -4.84375 1.53125 -5.03125 1.921875 -5.03125 C 2.65625 -5.03125 3.046875 -4.40625 3.046875 -3.734375 C 3.046875 -2.90625 2.46875 -2.296875 1.515625 -1.34375 L 0.515625 -0.296875 C 0.421875 -0.21875 0.421875 -0.203125 0.421875 0 L 3.5625 0 L 3.796875 -1.421875 L 3.546875 -1.421875 C 3.53125 -1.265625 3.46875 -0.875 3.375 -0.71875 C 3.328125 -0.65625 2.71875 -0.65625 2.59375 -0.65625 L 1.171875 -0.65625 Z M 2.25 -1.625 \"/>\n",
       "</symbol>\n",
       "<symbol overflow=\"visible\" id=\"glyph-1588310830543946-0-2\">\n",
       "<path style=\"stroke:none;\" d=\"M 3.890625 -2.546875 C 3.890625 -3.390625 3.8125 -3.90625 3.546875 -4.421875 C 3.203125 -5.125 2.546875 -5.296875 2.109375 -5.296875 C 1.109375 -5.296875 0.734375 -4.546875 0.625 -4.328125 C 0.34375 -3.75 0.328125 -2.953125 0.328125 -2.546875 C 0.328125 -2.015625 0.34375 -1.21875 0.734375 -0.578125 C 1.09375 0.015625 1.6875 0.171875 2.109375 0.171875 C 2.5 0.171875 3.171875 0.046875 3.578125 -0.734375 C 3.875 -1.3125 3.890625 -2.03125 3.890625 -2.546875 Z M 2.109375 -0.0625 C 1.84375 -0.0625 1.296875 -0.1875 1.125 -1.015625 C 1.03125 -1.46875 1.03125 -2.21875 1.03125 -2.640625 C 1.03125 -3.1875 1.03125 -3.75 1.125 -4.1875 C 1.296875 -5 1.90625 -5.078125 2.109375 -5.078125 C 2.375 -5.078125 2.9375 -4.9375 3.09375 -4.21875 C 3.1875 -3.78125 3.1875 -3.171875 3.1875 -2.640625 C 3.1875 -2.171875 3.1875 -1.453125 3.09375 -1 C 2.921875 -0.171875 2.375 -0.0625 2.109375 -0.0625 Z M 2.109375 -0.0625 \"/>\n",
       "</symbol>\n",
       "<symbol overflow=\"visible\" id=\"glyph-1588310830543946-0-3\">\n",
       "<path style=\"stroke:none;\" d=\"M 1.109375 -4.484375 C 1.21875 -4.453125 1.53125 -4.359375 1.875 -4.359375 C 2.875 -4.359375 3.46875 -5.0625 3.46875 -5.1875 C 3.46875 -5.28125 3.421875 -5.296875 3.375 -5.296875 C 3.359375 -5.296875 3.34375 -5.296875 3.28125 -5.265625 C 2.96875 -5.140625 2.59375 -5.046875 2.171875 -5.046875 C 1.703125 -5.046875 1.3125 -5.15625 1.0625 -5.265625 C 0.984375 -5.296875 0.96875 -5.296875 0.953125 -5.296875 C 0.859375 -5.296875 0.859375 -5.21875 0.859375 -5.0625 L 0.859375 -2.734375 C 0.859375 -2.59375 0.859375 -2.5 0.984375 -2.5 C 1.046875 -2.5 1.0625 -2.53125 1.109375 -2.59375 C 1.203125 -2.703125 1.5 -3.109375 2.1875 -3.109375 C 2.625 -3.109375 2.84375 -2.75 2.921875 -2.59375 C 3.046875 -2.3125 3.0625 -1.9375 3.0625 -1.640625 C 3.0625 -1.34375 3.0625 -0.90625 2.84375 -0.5625 C 2.6875 -0.3125 2.359375 -0.078125 1.9375 -0.078125 C 1.421875 -0.078125 0.921875 -0.390625 0.734375 -0.921875 C 0.75 -0.90625 0.8125 -0.90625 0.8125 -0.90625 C 1.03125 -0.90625 1.21875 -1.046875 1.21875 -1.296875 C 1.21875 -1.59375 0.984375 -1.703125 0.828125 -1.703125 C 0.671875 -1.703125 0.421875 -1.625 0.421875 -1.28125 C 0.421875 -0.5625 1.046875 0.171875 1.953125 0.171875 C 2.953125 0.171875 3.796875 -0.609375 3.796875 -1.59375 C 3.796875 -2.515625 3.125 -3.34375 2.1875 -3.34375 C 1.796875 -3.34375 1.421875 -3.21875 1.109375 -2.9375 Z M 1.109375 -4.484375 \"/>\n",
       "</symbol>\n",
       "<symbol overflow=\"visible\" id=\"glyph-1588310830543946-0-4\">\n",
       "<path style=\"stroke:none;\" d=\"M 2.5 -5.078125 C 2.5 -5.296875 2.484375 -5.296875 2.265625 -5.296875 C 1.9375 -4.984375 1.515625 -4.796875 0.765625 -4.796875 L 0.765625 -4.53125 C 0.984375 -4.53125 1.40625 -4.53125 1.875 -4.734375 L 1.875 -0.65625 C 1.875 -0.359375 1.84375 -0.265625 1.09375 -0.265625 L 0.8125 -0.265625 L 0.8125 0 C 1.140625 -0.03125 1.828125 -0.03125 2.1875 -0.03125 C 2.546875 -0.03125 3.234375 -0.03125 3.5625 0 L 3.5625 -0.265625 L 3.28125 -0.265625 C 2.53125 -0.265625 2.5 -0.359375 2.5 -0.65625 Z M 2.5 -5.078125 \"/>\n",
       "</symbol>\n",
       "<symbol overflow=\"visible\" id=\"glyph-1588310830543946-1-0\">\n",
       "<path style=\"stroke:none;\" d=\"\"/>\n",
       "</symbol>\n",
       "<symbol overflow=\"visible\" id=\"glyph-1588310830543946-1-1\">\n",
       "<path style=\"stroke:none;\" d=\"M 3.296875 -1.90625 C 3.296875 -2.34375 3.296875 -3.984375 1.828125 -3.984375 C 0.359375 -3.984375 0.359375 -2.34375 0.359375 -1.90625 C 0.359375 -1.484375 0.359375 0.125 1.828125 0.125 C 3.296875 0.125 3.296875 -1.484375 3.296875 -1.90625 Z M 1.828125 -0.0625 C 1.578125 -0.0625 1.171875 -0.1875 1.015625 -0.6875 C 0.921875 -1.03125 0.921875 -1.609375 0.921875 -1.984375 C 0.921875 -2.390625 0.921875 -2.84375 1.015625 -3.171875 C 1.15625 -3.703125 1.609375 -3.78125 1.828125 -3.78125 C 2.09375 -3.78125 2.5 -3.65625 2.625 -3.203125 C 2.71875 -2.890625 2.71875 -2.453125 2.71875 -1.984375 C 2.71875 -1.609375 2.71875 -1 2.625 -0.671875 C 2.453125 -0.140625 2.015625 -0.0625 1.828125 -0.0625 Z M 1.828125 -0.0625 \"/>\n",
       "</symbol>\n",
       "<symbol overflow=\"visible\" id=\"glyph-1588310830543946-1-2\">\n",
       "<path style=\"stroke:none;\" d=\"M 2.140625 -3.796875 C 2.140625 -3.984375 2.125 -3.984375 1.9375 -3.984375 C 1.546875 -3.59375 0.9375 -3.59375 0.71875 -3.59375 L 0.71875 -3.359375 C 0.875 -3.359375 1.28125 -3.359375 1.640625 -3.53125 L 1.640625 -0.515625 C 1.640625 -0.3125 1.640625 -0.234375 1.015625 -0.234375 L 0.765625 -0.234375 L 0.765625 0 C 1.09375 -0.03125 1.5625 -0.03125 1.890625 -0.03125 C 2.21875 -0.03125 2.6875 -0.03125 3.015625 0 L 3.015625 -0.234375 L 2.765625 -0.234375 C 2.140625 -0.234375 2.140625 -0.3125 2.140625 -0.515625 Z M 2.140625 -3.796875 \"/>\n",
       "</symbol>\n",
       "<symbol overflow=\"visible\" id=\"glyph-1588310830543946-1-3\">\n",
       "<path style=\"stroke:none;\" d=\"M 3.21875 -1.125 L 3 -1.125 C 2.984375 -1.03125 2.921875 -0.640625 2.84375 -0.578125 C 2.796875 -0.53125 2.3125 -0.53125 2.21875 -0.53125 L 1.109375 -0.53125 L 1.875 -1.15625 C 2.078125 -1.328125 2.609375 -1.703125 2.796875 -1.890625 C 2.96875 -2.0625 3.21875 -2.375 3.21875 -2.796875 C 3.21875 -3.546875 2.546875 -3.984375 1.734375 -3.984375 C 0.96875 -3.984375 0.4375 -3.46875 0.4375 -2.90625 C 0.4375 -2.609375 0.6875 -2.5625 0.75 -2.5625 C 0.90625 -2.5625 1.078125 -2.671875 1.078125 -2.890625 C 1.078125 -3.015625 1 -3.21875 0.734375 -3.21875 C 0.875 -3.515625 1.234375 -3.75 1.65625 -3.75 C 2.28125 -3.75 2.609375 -3.28125 2.609375 -2.796875 C 2.609375 -2.375 2.328125 -1.9375 1.921875 -1.546875 L 0.5 -0.25 C 0.4375 -0.1875 0.4375 -0.1875 0.4375 0 L 3.03125 0 Z M 3.21875 -1.125 \"/>\n",
       "</symbol>\n",
       "<symbol overflow=\"visible\" id=\"glyph-1588310830543946-1-4\">\n",
       "<path style=\"stroke:none;\" d=\"M 1.765625 -1.984375 C 2.265625 -1.984375 2.609375 -1.640625 2.609375 -1.03125 C 2.609375 -0.375 2.21875 -0.09375 1.78125 -0.09375 C 1.609375 -0.09375 1 -0.125 0.734375 -0.46875 C 0.96875 -0.5 1.0625 -0.65625 1.0625 -0.8125 C 1.0625 -1.015625 0.921875 -1.15625 0.71875 -1.15625 C 0.5625 -1.15625 0.375 -1.046875 0.375 -0.796875 C 0.375 -0.203125 1.03125 0.125 1.796875 0.125 C 2.6875 0.125 3.265625 -0.4375 3.265625 -1.03125 C 3.265625 -1.46875 2.9375 -1.9375 2.21875 -2.109375 C 2.703125 -2.265625 3.078125 -2.65625 3.078125 -3.140625 C 3.078125 -3.625 2.515625 -3.984375 1.796875 -3.984375 C 1.09375 -3.984375 0.5625 -3.65625 0.5625 -3.171875 C 0.5625 -2.90625 0.765625 -2.84375 0.890625 -2.84375 C 1.046875 -2.84375 1.203125 -2.9375 1.203125 -3.15625 C 1.203125 -3.34375 1.078125 -3.453125 0.90625 -3.46875 C 1.1875 -3.78125 1.734375 -3.78125 1.796875 -3.78125 C 2.09375 -3.78125 2.484375 -3.640625 2.484375 -3.140625 C 2.484375 -2.8125 2.296875 -2.234375 1.6875 -2.203125 C 1.578125 -2.203125 1.421875 -2.1875 1.375 -2.1875 C 1.3125 -2.171875 1.25 -2.171875 1.25 -2.078125 C 1.25 -1.984375 1.3125 -1.984375 1.40625 -1.984375 Z M 1.765625 -1.984375 \"/>\n",
       "</symbol>\n",
       "<symbol overflow=\"visible\" id=\"glyph-1588310830543946-1-5\">\n",
       "<path style=\"stroke:none;\" d=\"M 3.375 -0.984375 L 3.375 -1.21875 L 2.671875 -1.21875 L 2.671875 -3.859375 C 2.671875 -4 2.671875 -4.046875 2.53125 -4.046875 C 2.421875 -4.046875 2.40625 -4.015625 2.359375 -3.953125 L 0.28125 -1.21875 L 0.28125 -0.984375 L 2.140625 -0.984375 L 2.140625 -0.5 C 2.140625 -0.3125 2.140625 -0.234375 1.640625 -0.234375 L 1.453125 -0.234375 L 1.453125 0 C 1.578125 0 2.140625 -0.03125 2.40625 -0.03125 C 2.671875 -0.03125 3.234375 0 3.34375 0 L 3.34375 -0.234375 L 3.171875 -0.234375 C 2.671875 -0.234375 2.671875 -0.3125 2.671875 -0.5 L 2.671875 -0.984375 Z M 2.171875 -3.390625 L 2.171875 -1.21875 L 0.53125 -1.21875 Z M 2.171875 -3.390625 \"/>\n",
       "</symbol>\n",
       "<symbol overflow=\"visible\" id=\"glyph-1588310830543946-1-6\">\n",
       "<path style=\"stroke:none;\" d=\"M 1.015625 -3.328125 C 1.21875 -3.265625 1.421875 -3.25 1.625 -3.25 C 1.765625 -3.25 2.09375 -3.25 2.46875 -3.453125 C 2.578125 -3.515625 2.9375 -3.765625 2.9375 -3.890625 C 2.9375 -3.96875 2.890625 -3.984375 2.859375 -3.984375 C 2.84375 -3.984375 2.84375 -3.984375 2.765625 -3.953125 C 2.5625 -3.875 2.25 -3.78125 1.859375 -3.78125 C 1.5625 -3.78125 1.25 -3.84375 0.96875 -3.9375 C 0.921875 -3.96875 0.890625 -3.984375 0.875 -3.984375 C 0.78125 -3.984375 0.78125 -3.90625 0.78125 -3.8125 L 0.78125 -2.015625 C 0.78125 -1.921875 0.78125 -1.84375 0.890625 -1.84375 C 0.953125 -1.84375 0.96875 -1.875 1 -1.921875 C 1.15625 -2.109375 1.421875 -2.3125 1.890625 -2.3125 C 2.625 -2.3125 2.625 -1.421875 2.625 -1.234375 C 2.625 -1 2.609375 -0.65625 2.40625 -0.40625 C 2.21875 -0.1875 1.9375 -0.09375 1.6875 -0.09375 C 1.28125 -0.09375 0.859375 -0.3125 0.71875 -0.671875 C 1.015625 -0.671875 1.046875 -0.90625 1.046875 -0.96875 C 1.046875 -1.140625 0.921875 -1.28125 0.734375 -1.28125 C 0.6875 -1.28125 0.4375 -1.25 0.4375 -0.953125 C 0.4375 -0.40625 0.953125 0.125 1.703125 0.125 C 2.53125 0.125 3.21875 -0.453125 3.21875 -1.203125 C 3.21875 -1.890625 2.671875 -2.5 1.890625 -2.5 C 1.515625 -2.5 1.203125 -2.375 1.015625 -2.21875 Z M 1.015625 -3.328125 \"/>\n",
       "</symbol>\n",
       "<symbol overflow=\"visible\" id=\"glyph-1588310830543946-2-0\">\n",
       "<path style=\"stroke:none;\" d=\"\"/>\n",
       "</symbol>\n",
       "<symbol overflow=\"visible\" id=\"glyph-1588310830543946-2-1\">\n",
       "<path style=\"stroke:none;\" d=\"M 1.625 -0.4375 C 1.625 -0.703125 1.390625 -0.890625 1.171875 -0.890625 C 0.921875 -0.890625 0.734375 -0.671875 0.734375 -0.453125 C 0.734375 -0.171875 0.953125 0 1.171875 0 C 1.421875 0 1.625 -0.203125 1.625 -0.4375 Z M 1.625 -0.4375 \"/>\n",
       "</symbol>\n",
       "<symbol overflow=\"visible\" id=\"glyph-1588310830543946-3-0\">\n",
       "<path style=\"stroke:none;\" d=\"\"/>\n",
       "</symbol>\n",
       "<symbol overflow=\"visible\" id=\"glyph-1588310830543946-3-1\">\n",
       "<path style=\"stroke:none;\" d=\"M 7.34375 -4.984375 L 7.15625 -7.421875 L 0.578125 -7.421875 L 0.390625 -4.984375 L 0.625 -4.984375 C 0.78125 -6.71875 0.875 -7.109375 2.609375 -7.109375 C 2.796875 -7.109375 3.109375 -7.109375 3.203125 -7.09375 C 3.421875 -7.046875 3.421875 -6.921875 3.421875 -6.671875 L 3.421875 -0.84375 C 3.421875 -0.46875 3.421875 -0.3125 2.359375 -0.3125 L 1.953125 -0.3125 L 1.953125 0 C 2.3125 -0.015625 3.4375 -0.015625 3.859375 -0.015625 C 4.296875 -0.015625 5.4375 -0.015625 5.78125 0 L 5.78125 -0.3125 L 5.390625 -0.3125 C 4.3125 -0.3125 4.3125 -0.46875 4.3125 -0.84375 L 4.3125 -6.671875 C 4.3125 -6.9375 4.34375 -7.046875 4.515625 -7.09375 C 4.59375 -7.109375 4.921875 -7.109375 5.125 -7.109375 C 6.859375 -7.109375 6.953125 -6.71875 7.109375 -4.984375 Z M 7.34375 -4.984375 \"/>\n",
       "</symbol>\n",
       "<symbol overflow=\"visible\" id=\"glyph-1588310830543946-3-2\">\n",
       "<path style=\"stroke:none;\" d=\"M 5.703125 0 L 5.703125 -0.3125 C 5.15625 -0.3125 4.890625 -0.3125 4.875 -0.640625 L 4.875 -2.65625 C 4.875 -3.6875 4.875 -3.984375 4.625 -4.34375 C 4.296875 -4.765625 3.796875 -4.828125 3.421875 -4.828125 C 2.46875 -4.828125 2.03125 -4.125 1.890625 -3.78125 L 1.875 -3.78125 L 1.875 -7.59375 L 0.34375 -7.484375 L 0.34375 -7.15625 C 1.09375 -7.15625 1.1875 -7.09375 1.1875 -6.546875 L 1.1875 -0.8125 C 1.1875 -0.3125 1.0625 -0.3125 0.34375 -0.3125 L 0.34375 0 C 0.640625 -0.015625 1.234375 -0.015625 1.53125 -0.015625 C 1.84375 -0.015625 2.4375 -0.015625 2.734375 0 L 2.734375 -0.3125 C 2.03125 -0.3125 1.890625 -0.3125 1.890625 -0.8125 L 1.890625 -2.84375 C 1.890625 -4 2.65625 -4.609375 3.328125 -4.609375 C 4.015625 -4.609375 4.15625 -4.046875 4.15625 -3.390625 L 4.15625 -0.8125 C 4.15625 -0.3125 4.046875 -0.3125 3.328125 -0.3125 L 3.328125 0 C 3.609375 -0.015625 4.203125 -0.015625 4.515625 -0.015625 C 4.828125 -0.015625 5.421875 -0.015625 5.703125 0 Z M 5.703125 0 \"/>\n",
       "</symbol>\n",
       "<symbol overflow=\"visible\" id=\"glyph-1588310830543946-3-3\">\n",
       "<path style=\"stroke:none;\" d=\"M 3.859375 -4.1875 C 3.859375 -4.53125 3.578125 -4.828125 3.09375 -4.828125 C 2.171875 -4.828125 1.84375 -3.828125 1.78125 -3.609375 L 1.78125 -4.828125 L 0.3125 -4.703125 L 0.3125 -4.390625 C 1.046875 -4.390625 1.140625 -4.3125 1.140625 -3.78125 L 1.140625 -0.8125 C 1.140625 -0.3125 1.015625 -0.3125 0.3125 -0.3125 L 0.3125 0 C 0.609375 -0.015625 1.21875 -0.015625 1.546875 -0.015625 C 1.84375 -0.015625 2.625 -0.015625 2.875 0 L 2.875 -0.3125 L 2.65625 -0.3125 C 1.84375 -0.3125 1.828125 -0.4375 1.828125 -0.828125 L 1.828125 -2.546875 C 1.828125 -3.609375 2.265625 -4.609375 3.109375 -4.609375 C 3.203125 -4.609375 3.21875 -4.609375 3.265625 -4.59375 C 3.171875 -4.5625 3 -4.484375 3 -4.1875 C 3 -3.875 3.25 -3.75 3.421875 -3.75 C 3.640625 -3.75 3.859375 -3.90625 3.859375 -4.1875 Z M 3.859375 -4.1875 \"/>\n",
       "</symbol>\n",
       "<symbol overflow=\"visible\" id=\"glyph-1588310830543946-3-4\">\n",
       "<path style=\"stroke:none;\" d=\"M 4.453125 -1.296875 C 4.453125 -1.375 4.40625 -1.40625 4.34375 -1.40625 C 4.25 -1.40625 4.234375 -1.359375 4.203125 -1.296875 C 3.921875 -0.390625 3.1875 -0.125 2.734375 -0.125 C 2.265625 -0.125 1.15625 -0.4375 1.15625 -2.328125 L 1.15625 -2.546875 L 4.1875 -2.546875 C 4.4375 -2.546875 4.453125 -2.546875 4.453125 -2.75 C 4.453125 -3.859375 3.859375 -4.890625 2.546875 -4.890625 C 1.296875 -4.890625 0.328125 -3.75 0.328125 -2.40625 C 0.328125 -0.953125 1.453125 0.109375 2.65625 0.109375 C 3.96875 0.109375 4.453125 -1.078125 4.453125 -1.296875 Z M 3.78125 -2.75 L 1.171875 -2.75 C 1.265625 -4.46875 2.21875 -4.671875 2.53125 -4.671875 C 3.703125 -4.671875 3.765625 -3.125 3.78125 -2.75 Z M 3.78125 -2.75 \"/>\n",
       "</symbol>\n",
       "<symbol overflow=\"visible\" id=\"glyph-1588310830543946-3-5\">\n",
       "<path style=\"stroke:none;\" d=\"M 5.1875 -0.96875 L 5.1875 -1.59375 L 4.953125 -1.59375 L 4.953125 -0.96875 C 4.953125 -0.34375 4.6875 -0.265625 4.53125 -0.265625 C 4.125 -0.265625 4.125 -0.84375 4.125 -1 L 4.125 -2.921875 C 4.125 -3.515625 4.125 -3.953125 3.640625 -4.375 C 3.25 -4.734375 2.765625 -4.890625 2.28125 -4.890625 C 1.375 -4.890625 0.6875 -4.296875 0.6875 -3.578125 C 0.6875 -3.265625 0.890625 -3.109375 1.15625 -3.109375 C 1.40625 -3.109375 1.59375 -3.296875 1.59375 -3.5625 C 1.59375 -4.015625 1.203125 -4.015625 1.046875 -4.015625 C 1.296875 -4.46875 1.8125 -4.671875 2.25 -4.671875 C 2.765625 -4.671875 3.40625 -4.25 3.40625 -3.265625 L 3.40625 -2.828125 C 1.203125 -2.796875 0.375 -1.875 0.375 -1.03125 C 0.375 -0.171875 1.375 0.109375 2.046875 0.109375 C 2.765625 0.109375 3.265625 -0.328125 3.46875 -0.859375 C 3.515625 -0.34375 3.859375 0.0625 4.328125 0.0625 C 4.5625 0.0625 5.1875 -0.09375 5.1875 -0.96875 Z M 3.40625 -1.546875 C 3.40625 -0.46875 2.609375 -0.109375 2.140625 -0.109375 C 1.59375 -0.109375 1.15625 -0.5 1.15625 -1.03125 C 1.15625 -2.46875 3.015625 -2.609375 3.40625 -2.625 Z M 3.40625 -1.546875 \"/>\n",
       "</symbol>\n",
       "<symbol overflow=\"visible\" id=\"glyph-1588310830543946-3-6\">\n",
       "<path style=\"stroke:none;\" d=\"M 5.640625 0 L 5.640625 -0.3125 C 4.890625 -0.3125 4.8125 -0.390625 4.8125 -0.9375 L 4.8125 -7.59375 L 3.28125 -7.484375 L 3.28125 -7.15625 C 4.03125 -7.15625 4.125 -7.09375 4.125 -6.546875 L 4.125 -4.125 C 3.890625 -4.453125 3.421875 -4.828125 2.75 -4.828125 C 1.484375 -4.828125 0.390625 -3.75 0.390625 -2.359375 C 0.390625 -0.96875 1.421875 0.109375 2.625 0.109375 C 3.46875 0.109375 3.9375 -0.4375 4.09375 -0.640625 L 4.09375 0.109375 Z M 4.09375 -1.28125 C 4.09375 -1.078125 4.09375 -1.046875 3.9375 -0.8125 C 3.6875 -0.421875 3.234375 -0.109375 2.6875 -0.109375 C 2.40625 -0.109375 1.21875 -0.21875 1.21875 -2.34375 C 1.21875 -3.125 1.34375 -3.578125 1.59375 -3.9375 C 1.8125 -4.265625 2.25 -4.609375 2.796875 -4.609375 C 3.46875 -4.609375 3.859375 -4.125 3.96875 -3.9375 C 4.09375 -3.75 4.09375 -3.734375 4.09375 -3.53125 Z M 4.09375 -1.28125 \"/>\n",
       "</symbol>\n",
       "<symbol overflow=\"visible\" id=\"glyph-1588310830543946-3-7\">\n",
       "<path style=\"stroke:none;\" d=\"M 3.859375 -1.390625 C 3.859375 -1.984375 3.5 -2.328125 3.390625 -2.4375 C 3 -2.765625 2.703125 -2.84375 1.984375 -2.96875 C 1.65625 -3.03125 0.859375 -3.1875 0.859375 -3.84375 C 0.859375 -4.1875 1.078125 -4.6875 2.0625 -4.6875 C 3.265625 -4.6875 3.328125 -3.671875 3.359375 -3.328125 C 3.359375 -3.234375 3.4375 -3.234375 3.46875 -3.234375 C 3.59375 -3.234375 3.59375 -3.296875 3.59375 -3.5 L 3.59375 -4.640625 C 3.59375 -4.828125 3.59375 -4.890625 3.484375 -4.890625 C 3.390625 -4.890625 3.1875 -4.640625 3.109375 -4.546875 C 2.765625 -4.8125 2.4375 -4.890625 2.078125 -4.890625 C 0.75 -4.890625 0.359375 -4.15625 0.359375 -3.5625 C 0.359375 -3.4375 0.359375 -3.0625 0.78125 -2.671875 C 1.125 -2.359375 1.5 -2.296875 2 -2.1875 C 2.609375 -2.0625 2.75 -2.03125 3.015625 -1.8125 C 3.21875 -1.65625 3.359375 -1.40625 3.359375 -1.109375 C 3.359375 -0.640625 3.09375 -0.109375 2.125 -0.109375 C 1.40625 -0.109375 0.875 -0.53125 0.640625 -1.625 C 0.59375 -1.8125 0.578125 -1.84375 0.578125 -1.84375 C 0.5625 -1.890625 0.515625 -1.890625 0.484375 -1.890625 C 0.359375 -1.890625 0.359375 -1.828125 0.359375 -1.625 L 0.359375 -0.140625 C 0.359375 0.0625 0.359375 0.109375 0.46875 0.109375 C 0.53125 0.109375 0.53125 0.09375 0.71875 -0.125 C 0.78125 -0.203125 0.78125 -0.234375 0.9375 -0.40625 C 1.359375 0.109375 1.953125 0.109375 2.140625 0.109375 C 3.28125 0.109375 3.859375 -0.53125 3.859375 -1.390625 Z M 3.859375 -1.390625 \"/>\n",
       "</symbol>\n",
       "<symbol overflow=\"visible\" id=\"glyph-1588310830543946-4-0\">\n",
       "<path style=\"stroke:none;\" d=\"\"/>\n",
       "</symbol>\n",
       "<symbol overflow=\"visible\" id=\"glyph-1588310830543946-4-1\">\n",
       "<path style=\"stroke:none;\" d=\"M 7.359375 0 L 7.359375 -0.265625 L 7.1875 -0.265625 C 6.5625 -0.265625 6.546875 -0.34375 6.546875 -0.640625 L 6.546875 -4.796875 C 6.546875 -5.09375 6.5625 -5.171875 7.1875 -5.171875 L 7.359375 -5.171875 L 7.359375 -5.4375 L 6.015625 -5.4375 C 5.796875 -5.4375 5.78125 -5.421875 5.71875 -5.28125 L 3.875 -0.75 L 2.03125 -5.265625 C 1.953125 -5.421875 1.953125 -5.4375 1.734375 -5.4375 L 0.390625 -5.4375 L 0.390625 -5.171875 L 0.5625 -5.171875 C 1.171875 -5.171875 1.1875 -5.09375 1.1875 -4.796875 L 1.1875 -0.859375 C 1.1875 -0.640625 1.1875 -0.265625 0.390625 -0.265625 L 0.390625 0 C 0.75 -0.03125 1.125 -0.03125 1.328125 -0.03125 C 1.53125 -0.03125 1.90625 -0.03125 2.265625 0 L 2.265625 -0.265625 C 1.46875 -0.265625 1.46875 -0.640625 1.46875 -0.859375 L 1.46875 -5.09375 L 3.484375 -0.1875 C 3.53125 -0.09375 3.5625 0 3.671875 0 C 3.78125 0 3.8125 -0.09375 3.859375 -0.1875 L 5.890625 -5.15625 L 5.890625 -0.640625 C 5.890625 -0.34375 5.875 -0.265625 5.265625 -0.265625 L 5.09375 -0.265625 L 5.09375 0 L 6.21875 -0.03125 Z M 7.359375 0 \"/>\n",
       "</symbol>\n",
       "<symbol overflow=\"visible\" id=\"glyph-1588310830543946-4-2\">\n",
       "<path style=\"stroke:none;\" d=\"M 3.515625 -0.953125 C 3.515625 -0.984375 3.484375 -1.0625 3.390625 -1.0625 C 3.296875 -1.0625 3.28125 -1.015625 3.265625 -0.96875 C 2.984375 -0.1875 2.296875 -0.171875 2.15625 -0.171875 C 1.796875 -0.171875 1.421875 -0.328125 1.1875 -0.703125 C 0.953125 -1.0625 0.953125 -1.578125 0.953125 -1.8125 L 3.296875 -1.8125 C 3.46875 -1.8125 3.515625 -1.8125 3.515625 -2 C 3.515625 -2.703125 3.125 -3.546875 2 -3.546875 C 1.015625 -3.546875 0.234375 -2.734375 0.234375 -1.75 C 0.234375 -0.71875 1.09375 0.078125 2.109375 0.078125 C 3.109375 0.078125 3.515625 -0.765625 3.515625 -0.953125 Z M 2.96875 -2.03125 L 0.953125 -2.03125 C 1.03125 -3.140625 1.703125 -3.328125 2 -3.328125 C 2.9375 -3.328125 2.96875 -2.203125 2.96875 -2.03125 Z M 2.96875 -2.03125 \"/>\n",
       "</symbol>\n",
       "<symbol overflow=\"visible\" id=\"glyph-1588310830543946-4-3\">\n",
       "<path style=\"stroke:none;\" d=\"M 4.09375 -0.71875 L 4.09375 -1.15625 L 3.84375 -1.15625 L 3.84375 -0.71875 C 3.84375 -0.390625 3.734375 -0.265625 3.5625 -0.265625 C 3.265625 -0.265625 3.265625 -0.625 3.265625 -0.71875 L 3.265625 -2.375 C 3.265625 -3.15625 2.515625 -3.546875 1.78125 -3.546875 C 1.125 -3.546875 0.53125 -3.296875 0.53125 -2.765625 C 0.53125 -2.53125 0.703125 -2.390625 0.90625 -2.390625 C 1.125 -2.390625 1.28125 -2.546875 1.28125 -2.765625 C 1.28125 -2.953125 1.15625 -3.09375 0.984375 -3.125 C 1.28125 -3.328125 1.71875 -3.328125 1.765625 -3.328125 C 2.21875 -3.328125 2.65625 -3.015625 2.65625 -2.359375 L 2.65625 -2.125 C 2.203125 -2.09375 1.671875 -2.078125 1.109375 -1.84375 C 0.40625 -1.53125 0.265625 -1.078125 0.265625 -0.8125 C 0.265625 -0.125 1.078125 0.078125 1.625 0.078125 C 2.203125 0.078125 2.5625 -0.25 2.734375 -0.5625 C 2.78125 -0.265625 2.984375 0.046875 3.34375 0.046875 C 3.421875 0.046875 4.09375 0.015625 4.09375 -0.71875 Z M 2.65625 -1.125 C 2.65625 -0.34375 2.015625 -0.140625 1.6875 -0.140625 C 1.28125 -0.140625 0.921875 -0.421875 0.921875 -0.8125 C 0.921875 -1.328125 1.421875 -1.875 2.65625 -1.90625 Z M 2.65625 -1.125 \"/>\n",
       "</symbol>\n",
       "<symbol overflow=\"visible\" id=\"glyph-1588310830543946-4-4\">\n",
       "<path style=\"stroke:none;\" d=\"M 4.484375 0 L 4.484375 -0.265625 C 3.96875 -0.265625 3.875 -0.265625 3.875 -0.625 L 3.875 -2.421875 C 3.875 -3.078125 3.5625 -3.515625 2.734375 -3.515625 C 1.9375 -3.515625 1.578125 -2.9375 1.484375 -2.75 L 1.484375 -3.515625 L 0.328125 -3.421875 L 0.328125 -3.15625 C 0.875 -3.15625 0.9375 -3.109375 0.9375 -2.71875 L 0.9375 -0.625 C 0.9375 -0.265625 0.84375 -0.265625 0.328125 -0.265625 L 0.328125 0 C 0.671875 -0.03125 1.015625 -0.03125 1.234375 -0.03125 C 1.46875 -0.03125 1.796875 -0.03125 2.140625 0 L 2.140625 -0.265625 C 1.640625 -0.265625 1.53125 -0.265625 1.53125 -0.625 L 1.53125 -2.0625 C 1.53125 -2.90625 2.171875 -3.296875 2.65625 -3.296875 C 3.140625 -3.296875 3.265625 -2.953125 3.265625 -2.453125 L 3.265625 -0.625 C 3.265625 -0.265625 3.171875 -0.265625 2.65625 -0.265625 L 2.65625 0 C 3 -0.03125 3.359375 -0.03125 3.5625 -0.03125 C 3.796875 -0.03125 4.140625 -0.03125 4.484375 0 Z M 4.484375 0 \"/>\n",
       "</symbol>\n",
       "<symbol overflow=\"visible\" id=\"glyph-1588310830543946-4-5\">\n",
       "<path style=\"stroke:none;\" d=\"M 5.984375 -2.671875 C 5.984375 -4.203125 4.828125 -5.4375 3.390625 -5.4375 L 0.359375 -5.4375 L 0.359375 -5.171875 L 0.546875 -5.171875 C 1.15625 -5.171875 1.171875 -5.09375 1.171875 -4.796875 L 1.171875 -0.640625 C 1.171875 -0.34375 1.15625 -0.265625 0.546875 -0.265625 L 0.359375 -0.265625 L 0.359375 0 L 3.390625 0 C 4.828125 0 5.984375 -1.1875 5.984375 -2.671875 Z M 5.171875 -2.671875 C 5.171875 -2.265625 5.171875 -1.484375 4.671875 -0.90625 C 4.40625 -0.578125 3.890625 -0.265625 3.171875 -0.265625 L 2.265625 -0.265625 C 1.890625 -0.265625 1.875 -0.3125 1.875 -0.59375 L 1.875 -4.859375 C 1.875 -5.125 1.890625 -5.171875 2.265625 -5.171875 L 3.171875 -5.171875 C 3.796875 -5.171875 4.3125 -4.921875 4.671875 -4.53125 C 5.171875 -3.921875 5.171875 -3.0625 5.171875 -2.671875 Z M 5.171875 -2.671875 \"/>\n",
       "</symbol>\n",
       "<symbol overflow=\"visible\" id=\"glyph-1588310830543946-4-6\">\n",
       "<path style=\"stroke:none;\" d=\"M 4.484375 0 L 4.484375 -0.265625 C 3.9375 -0.265625 3.875 -0.3125 3.875 -0.703125 L 3.875 -3.515625 L 2.65625 -3.421875 L 2.65625 -3.15625 C 3.203125 -3.15625 3.265625 -3.109375 3.265625 -2.71875 L 3.265625 -1.328125 C 3.265625 -0.640625 2.859375 -0.140625 2.25 -0.140625 C 1.5625 -0.140625 1.53125 -0.484375 1.53125 -0.890625 L 1.53125 -3.515625 L 0.328125 -3.421875 L 0.328125 -3.15625 C 0.9375 -3.15625 0.9375 -3.140625 0.9375 -2.4375 L 0.9375 -1.234375 C 0.9375 -0.65625 0.9375 0.078125 2.203125 0.078125 C 2.953125 0.078125 3.25 -0.5 3.28125 -0.5625 L 3.296875 -0.5625 L 3.296875 0.078125 Z M 4.484375 0 \"/>\n",
       "</symbol>\n",
       "<symbol overflow=\"visible\" id=\"glyph-1588310830543946-4-7\">\n",
       "<path style=\"stroke:none;\" d=\"M 3.0625 -3.015625 C 3.0625 -3.296875 2.8125 -3.515625 2.453125 -3.515625 C 1.9375 -3.515625 1.578125 -3.125 1.421875 -2.671875 L 1.40625 -2.671875 L 1.40625 -3.515625 L 0.28125 -3.421875 L 0.28125 -3.15625 C 0.828125 -3.15625 0.890625 -3.109375 0.890625 -2.71875 L 0.890625 -0.625 C 0.890625 -0.265625 0.78125 -0.265625 0.28125 -0.265625 L 0.28125 0 C 0.59375 -0.03125 1.03125 -0.03125 1.21875 -0.03125 C 1.6875 -0.03125 1.703125 -0.03125 2.21875 0 L 2.21875 -0.265625 L 2.0625 -0.265625 C 1.484375 -0.265625 1.46875 -0.34375 1.46875 -0.640625 L 1.46875 -1.8125 C 1.46875 -2.421875 1.71875 -3.28125 2.484375 -3.296875 C 2.4375 -3.265625 2.34375 -3.203125 2.34375 -3.015625 C 2.34375 -2.765625 2.546875 -2.65625 2.703125 -2.65625 C 2.890625 -2.65625 3.0625 -2.78125 3.0625 -3.015625 Z M 3.0625 -3.015625 \"/>\n",
       "</symbol>\n",
       "<symbol overflow=\"visible\" id=\"glyph-1588310830543946-4-8\">\n",
       "<path style=\"stroke:none;\" d=\"M 2.8125 -1 L 2.8125 -1.4375 L 2.5625 -1.4375 L 2.5625 -1.015625 C 2.5625 -0.46875 2.3125 -0.171875 2.015625 -0.171875 C 1.484375 -0.171875 1.484375 -0.859375 1.484375 -0.984375 L 1.484375 -3.171875 L 2.671875 -3.171875 L 2.671875 -3.4375 L 1.484375 -3.4375 L 1.484375 -4.90625 L 1.234375 -4.90625 C 1.234375 -4.171875 0.90625 -3.421875 0.15625 -3.390625 L 0.15625 -3.171875 L 0.875 -3.171875 L 0.875 -1 C 0.875 -0.0625 1.59375 0.078125 1.953125 0.078125 C 2.5 0.078125 2.8125 -0.390625 2.8125 -1 Z M 2.8125 -1 \"/>\n",
       "</symbol>\n",
       "<symbol overflow=\"visible\" id=\"glyph-1588310830543946-4-9\">\n",
       "<path style=\"stroke:none;\" d=\"M 2.078125 0 L 2.078125 -0.265625 C 1.546875 -0.265625 1.515625 -0.296875 1.515625 -0.609375 L 1.515625 -3.515625 L 0.359375 -3.421875 L 0.359375 -3.15625 C 0.875 -3.15625 0.9375 -3.109375 0.9375 -2.71875 L 0.9375 -0.625 C 0.9375 -0.265625 0.84375 -0.265625 0.328125 -0.265625 L 0.328125 0 C 0.640625 -0.03125 1.09375 -0.03125 1.21875 -0.03125 C 1.3125 -0.03125 1.796875 -0.03125 2.078125 0 Z M 1.625 -4.796875 C 1.625 -5.0625 1.40625 -5.25 1.171875 -5.25 C 0.953125 -5.25 0.734375 -5.0625 0.734375 -4.796875 C 0.734375 -4.5625 0.921875 -4.359375 1.171875 -4.359375 C 1.421875 -4.359375 1.625 -4.5625 1.625 -4.796875 Z M 1.625 -4.796875 \"/>\n",
       "</symbol>\n",
       "<symbol overflow=\"visible\" id=\"glyph-1588310830543946-4-10\">\n",
       "<path style=\"stroke:none;\" d=\"M 3.984375 -1.703125 C 3.984375 -2.6875 3.15625 -3.546875 2.109375 -3.546875 C 1.0625 -3.546875 0.234375 -2.6875 0.234375 -1.703125 C 0.234375 -0.703125 1.09375 0.078125 2.109375 0.078125 C 3.140625 0.078125 3.984375 -0.703125 3.984375 -1.703125 Z M 3.28125 -1.765625 C 3.28125 -1.40625 3.265625 -0.96875 3.03125 -0.625 C 2.828125 -0.3125 2.46875 -0.171875 2.109375 -0.171875 C 1.6875 -0.171875 1.34375 -0.375 1.171875 -0.65625 C 0.96875 -0.984375 0.953125 -1.375 0.953125 -1.765625 C 0.953125 -2.078125 0.953125 -2.546875 1.1875 -2.890625 C 1.40625 -3.171875 1.734375 -3.328125 2.109375 -3.328125 C 2.53125 -3.328125 2.875 -3.125 3.046875 -2.859375 C 3.265625 -2.515625 3.28125 -2.09375 3.28125 -1.765625 Z M 3.28125 -1.765625 \"/>\n",
       "</symbol>\n",
       "<symbol overflow=\"visible\" id=\"glyph-1588310830543946-4-11\">\n",
       "<path style=\"stroke:none;\" d=\"M 6.109375 -1.984375 C 6.109375 -2.171875 5.921875 -2.171875 5.8125 -2.171875 L 3.46875 -2.171875 L 3.46875 -4.53125 C 3.46875 -4.640625 3.46875 -4.8125 3.296875 -4.8125 C 3.109375 -4.8125 3.109375 -4.640625 3.109375 -4.53125 L 3.109375 -2.171875 L 0.75 -2.171875 C 0.640625 -2.171875 0.46875 -2.171875 0.46875 -1.984375 C 0.46875 -1.8125 0.640625 -1.8125 0.75 -1.8125 L 3.109375 -1.8125 L 3.109375 0.546875 C 3.109375 0.65625 3.109375 0.828125 3.296875 0.828125 C 3.46875 0.828125 3.46875 0.65625 3.46875 0.546875 L 3.46875 -1.8125 L 5.8125 -1.8125 C 5.921875 -1.8125 6.109375 -1.8125 6.109375 -1.984375 Z M 6.109375 -1.984375 \"/>\n",
       "</symbol>\n",
       "<symbol overflow=\"visible\" id=\"glyph-1588310830543946-4-12\">\n",
       "<path style=\"stroke:none;\" d=\"M 5.640625 -1.859375 C 5.640625 -1.9375 5.640625 -2.015625 5.5 -2.015625 C 5.421875 -2.015625 5.390625 -1.96875 5.390625 -1.890625 C 5.328125 -0.671875 4.328125 -0.09375 3.484375 -0.09375 C 2.8125 -0.09375 1.296875 -0.515625 1.296875 -2.71875 C 1.296875 -4.875 2.734375 -5.34375 3.484375 -5.34375 C 4.234375 -5.34375 5.15625 -4.8125 5.375 -3.4375 C 5.375 -3.375 5.390625 -3.328125 5.5 -3.328125 C 5.640625 -3.328125 5.640625 -3.375 5.640625 -3.53125 L 5.640625 -5.40625 C 5.640625 -5.53125 5.640625 -5.609375 5.53125 -5.609375 C 5.46875 -5.609375 5.46875 -5.609375 5.390625 -5.5 L 4.984375 -4.90625 C 4.703125 -5.21875 4.171875 -5.609375 3.40625 -5.609375 C 1.8125 -5.609375 0.46875 -4.328125 0.46875 -2.71875 C 0.46875 -1.109375 1.796875 0.171875 3.421875 0.171875 C 4.75 0.171875 5.640625 -0.890625 5.640625 -1.859375 Z M 5.640625 -1.859375 \"/>\n",
       "</symbol>\n",
       "<symbol overflow=\"visible\" id=\"glyph-1588310830543946-4-13\">\n",
       "<path style=\"stroke:none;\" d=\"M 2.734375 0 L 2.734375 -0.265625 L 2.546875 -0.265625 C 1.90625 -0.265625 1.890625 -0.34375 1.890625 -0.640625 L 1.890625 -4.796875 C 1.890625 -5.09375 1.90625 -5.171875 2.546875 -5.171875 L 2.734375 -5.171875 L 2.734375 -5.4375 L 1.515625 -5.421875 L 0.3125 -5.4375 L 0.3125 -5.171875 L 0.5 -5.171875 C 1.125 -5.171875 1.15625 -5.09375 1.15625 -4.796875 L 1.15625 -0.640625 C 1.15625 -0.34375 1.125 -0.265625 0.5 -0.265625 L 0.3125 -0.265625 L 0.3125 0 L 1.515625 -0.03125 Z M 2.734375 0 \"/>\n",
       "</symbol>\n",
       "</g>\n",
       "<clipPath id=\"clip-1588310830543946-1\">\n",
       "  <path d=\"M 0 0 L 416.71875 0 L 416.71875 274.644531 L 0 274.644531 Z M 0 0 \"/>\n",
       "</clipPath>\n",
       "</defs>\n",
       "<g id=\"surface1\">\n",
       "<g clip-path=\"url(#clip-1588310830543946-1)\" clip-rule=\"nonzero\">\n",
       "<path style=\" stroke:none;fill-rule:nonzero;fill:rgb(100%,100%,100%);fill-opacity:1;\" d=\"M 0 274.644531 L 418.28125 274.644531 L 418.28125 -1.03125 L 0 -1.03125 Z M 0 274.644531 \"/>\n",
       "<path style=\" stroke:none;fill-rule:nonzero;fill:rgb(100%,100%,100%);fill-opacity:1;\" d=\"M 0 274.648438 L 0 0 L 416.722656 0 L 416.722656 274.648438 Z M 0 274.648438 \"/>\n",
       "</g>\n",
       "<path style=\" stroke:none;fill-rule:nonzero;fill:rgb(100%,100%,100%);fill-opacity:1;\" d=\"M 30.421875 242.289062 L 411.929688 242.289062 L 411.929688 4.789062 L 30.421875 4.789062 Z M 30.421875 242.289062 \"/>\n",
       "<path style=\"fill:none;stroke-width:0.49814;stroke-linecap:butt;stroke-linejoin:miter;stroke:rgb(0%,0%,0%);stroke-opacity:0.1;stroke-miterlimit:10;\" d=\"M -0.00034375 0.0019375 L -0.00034375 237.501937 M 71.972313 0.0019375 L 71.972313 237.501937 M 143.968406 0.0019375 L 143.968406 237.501937 M 215.952781 0.0019375 L 215.952781 237.501937 M 287.929344 0.0019375 L 287.929344 237.501937 M 359.913719 0.0019375 L 359.913719 237.501937 \" transform=\"matrix(1,0,0,-1,41.223,242.291)\"/>\n",
       "<path style=\"fill:none;stroke-width:0.49814;stroke-linecap:butt;stroke-linejoin:miter;stroke:rgb(0%,0%,0%);stroke-opacity:0.1;stroke-miterlimit:10;\" d=\"M -10.801125 13.595687 L 370.706687 13.595687 M -10.801125 83.056625 L 370.706687 83.056625 M -10.801125 152.517562 L 370.706687 152.517562 M -10.801125 221.9785 L 370.706687 221.9785 \" transform=\"matrix(1,0,0,-1,41.223,242.291)\"/>\n",
       "<path style=\"fill:none;stroke-width:0.19925;stroke-linecap:butt;stroke-linejoin:miter;stroke:rgb(0%,0%,0%);stroke-opacity:1;stroke-miterlimit:10;\" d=\"M -0.00034375 0.0019375 L -0.00034375 4.251937 M 71.972313 0.0019375 L 71.972313 4.251937 M 143.968406 0.0019375 L 143.968406 4.251937 M 215.952781 0.0019375 L 215.952781 4.251937 M 287.929344 0.0019375 L 287.929344 4.251937 M 359.913719 0.0019375 L 359.913719 4.251937 \" transform=\"matrix(1,0,0,-1,41.223,242.291)\"/>\n",
       "<path style=\"fill:none;stroke-width:0.19925;stroke-linecap:butt;stroke-linejoin:miter;stroke:rgb(0%,0%,0%);stroke-opacity:1;stroke-miterlimit:10;\" d=\"M -10.801125 13.595687 L -6.562844 13.595687 M -10.801125 83.056625 L -6.562844 83.056625 M -10.801125 152.517562 L -6.562844 152.517562 M -10.801125 221.9785 L -6.562844 221.9785 \" transform=\"matrix(1,0,0,-1,41.223,242.291)\"/>\n",
       "<path style=\"fill:none;stroke-width:0.99628;stroke-linecap:butt;stroke-linejoin:miter;stroke:rgb(0%,0%,0%);stroke-opacity:1;stroke-miterlimit:10;\" d=\"M -10.801125 0.0019375 L 370.706687 0.0019375 \" transform=\"matrix(1,0,0,-1,41.223,242.291)\"/>\n",
       "<path style=\"fill:none;stroke-width:0.99628;stroke-linecap:butt;stroke-linejoin:miter;stroke:rgb(0%,0%,0%);stroke-opacity:1;stroke-miterlimit:10;\" d=\"M -10.801125 0.0019375 L -10.801125 237.501937 \" transform=\"matrix(1,0,0,-1,41.223,242.291)\"/>\n",
       "<g style=\"fill:rgb(0%,0%,0%);fill-opacity:1;\">\n",
       "  <use xlink:href=\"#glyph-1588310830543946-0-1\" x=\"37.031\" y=\"252.476\"/>\n",
       "</g>\n",
       "<g style=\"fill:rgb(0%,0%,0%);fill-opacity:1;\">\n",
       "  <use xlink:href=\"#glyph-1588310830543946-1-1\" x=\"41.265\" y=\"249.663\"/>\n",
       "</g>\n",
       "<g style=\"fill:rgb(0%,0%,0%);fill-opacity:1;\">\n",
       "  <use xlink:href=\"#glyph-1588310830543946-0-1\" x=\"109.004\" y=\"252.476\"/>\n",
       "</g>\n",
       "<g style=\"fill:rgb(0%,0%,0%);fill-opacity:1;\">\n",
       "  <use xlink:href=\"#glyph-1588310830543946-1-2\" x=\"113.238\" y=\"249.663\"/>\n",
       "</g>\n",
       "<g style=\"fill:rgb(0%,0%,0%);fill-opacity:1;\">\n",
       "  <use xlink:href=\"#glyph-1588310830543946-0-1\" x=\"180.996\" y=\"252.476\"/>\n",
       "</g>\n",
       "<g style=\"fill:rgb(0%,0%,0%);fill-opacity:1;\">\n",
       "  <use xlink:href=\"#glyph-1588310830543946-1-3\" x=\"185.231\" y=\"249.663\"/>\n",
       "</g>\n",
       "<g style=\"fill:rgb(0%,0%,0%);fill-opacity:1;\">\n",
       "  <use xlink:href=\"#glyph-1588310830543946-0-1\" x=\"252.979\" y=\"252.476\"/>\n",
       "</g>\n",
       "<g style=\"fill:rgb(0%,0%,0%);fill-opacity:1;\">\n",
       "  <use xlink:href=\"#glyph-1588310830543946-1-4\" x=\"257.214\" y=\"249.663\"/>\n",
       "</g>\n",
       "<g style=\"fill:rgb(0%,0%,0%);fill-opacity:1;\">\n",
       "  <use xlink:href=\"#glyph-1588310830543946-0-1\" x=\"324.957\" y=\"252.476\"/>\n",
       "</g>\n",
       "<g style=\"fill:rgb(0%,0%,0%);fill-opacity:1;\">\n",
       "  <use xlink:href=\"#glyph-1588310830543946-1-5\" x=\"329.191\" y=\"249.663\"/>\n",
       "</g>\n",
       "<g style=\"fill:rgb(0%,0%,0%);fill-opacity:1;\">\n",
       "  <use xlink:href=\"#glyph-1588310830543946-0-1\" x=\"396.939\" y=\"252.476\"/>\n",
       "</g>\n",
       "<g style=\"fill:rgb(0%,0%,0%);fill-opacity:1;\">\n",
       "  <use xlink:href=\"#glyph-1588310830543946-1-6\" x=\"401.173\" y=\"249.663\"/>\n",
       "</g>\n",
       "<g style=\"fill:rgb(0%,0%,0%);fill-opacity:1;\">\n",
       "  <use xlink:href=\"#glyph-1588310830543946-0-2\" x=\"7.614\" y=\"231.262\"/>\n",
       "</g>\n",
       "<g style=\"fill:rgb(0%,0%,0%);fill-opacity:1;\">\n",
       "  <use xlink:href=\"#glyph-1588310830543946-2-1\" x=\"11.849\" y=\"231.262\"/>\n",
       "</g>\n",
       "<g style=\"fill:rgb(0%,0%,0%);fill-opacity:1;\">\n",
       "  <use xlink:href=\"#glyph-1588310830543946-0-2\" x=\"14.201\" y=\"231.262\"/>\n",
       "  <use xlink:href=\"#glyph-1588310830543946-0-2\" x=\"18.435519\" y=\"231.262\"/>\n",
       "  <use xlink:href=\"#glyph-1588310830543946-0-2\" x=\"22.670039\" y=\"231.262\"/>\n",
       "</g>\n",
       "<g style=\"fill:rgb(0%,0%,0%);fill-opacity:1;\">\n",
       "  <use xlink:href=\"#glyph-1588310830543946-0-2\" x=\"7.614\" y=\"161.803\"/>\n",
       "</g>\n",
       "<g style=\"fill:rgb(0%,0%,0%);fill-opacity:1;\">\n",
       "  <use xlink:href=\"#glyph-1588310830543946-2-1\" x=\"11.849\" y=\"161.803\"/>\n",
       "</g>\n",
       "<g style=\"fill:rgb(0%,0%,0%);fill-opacity:1;\">\n",
       "  <use xlink:href=\"#glyph-1588310830543946-0-2\" x=\"14.201\" y=\"161.803\"/>\n",
       "  <use xlink:href=\"#glyph-1588310830543946-0-2\" x=\"18.435519\" y=\"161.803\"/>\n",
       "  <use xlink:href=\"#glyph-1588310830543946-0-3\" x=\"22.670039\" y=\"161.803\"/>\n",
       "</g>\n",
       "<g style=\"fill:rgb(0%,0%,0%);fill-opacity:1;\">\n",
       "  <use xlink:href=\"#glyph-1588310830543946-0-2\" x=\"7.614\" y=\"92.344\"/>\n",
       "</g>\n",
       "<g style=\"fill:rgb(0%,0%,0%);fill-opacity:1;\">\n",
       "  <use xlink:href=\"#glyph-1588310830543946-2-1\" x=\"11.849\" y=\"92.344\"/>\n",
       "</g>\n",
       "<g style=\"fill:rgb(0%,0%,0%);fill-opacity:1;\">\n",
       "  <use xlink:href=\"#glyph-1588310830543946-0-2\" x=\"14.201\" y=\"92.344\"/>\n",
       "  <use xlink:href=\"#glyph-1588310830543946-0-4\" x=\"18.435519\" y=\"92.344\"/>\n",
       "  <use xlink:href=\"#glyph-1588310830543946-0-2\" x=\"22.670039\" y=\"92.344\"/>\n",
       "</g>\n",
       "<g style=\"fill:rgb(0%,0%,0%);fill-opacity:1;\">\n",
       "  <use xlink:href=\"#glyph-1588310830543946-0-2\" x=\"7.614\" y=\"22.885\"/>\n",
       "</g>\n",
       "<g style=\"fill:rgb(0%,0%,0%);fill-opacity:1;\">\n",
       "  <use xlink:href=\"#glyph-1588310830543946-2-1\" x=\"11.849\" y=\"22.885\"/>\n",
       "</g>\n",
       "<g style=\"fill:rgb(0%,0%,0%);fill-opacity:1;\">\n",
       "  <use xlink:href=\"#glyph-1588310830543946-0-2\" x=\"14.201\" y=\"22.885\"/>\n",
       "  <use xlink:href=\"#glyph-1588310830543946-0-4\" x=\"18.435519\" y=\"22.885\"/>\n",
       "  <use xlink:href=\"#glyph-1588310830543946-0-3\" x=\"22.670039\" y=\"22.885\"/>\n",
       "</g>\n",
       "<path style=\"fill:none;stroke-width:0.99628;stroke-linecap:butt;stroke-linejoin:miter;stroke:rgb(0%,60.559082%,97.869873%);stroke-opacity:0.6;stroke-miterlimit:10;\" d=\"M -0.00034375 10.064437 L -0.00034375 23.388656 \" transform=\"matrix(1,0,0,-1,41.223,242.291)\"/>\n",
       "<path style=\"fill:none;stroke-width:0.99628;stroke-linecap:butt;stroke-linejoin:miter;stroke:rgb(0%,60.559082%,97.869873%);stroke-opacity:0.6;stroke-miterlimit:10;\" d=\"M 71.972313 6.720687 L 71.972313 99.083969 \" transform=\"matrix(1,0,0,-1,41.223,242.291)\"/>\n",
       "<path style=\"fill:none;stroke-width:0.99628;stroke-linecap:butt;stroke-linejoin:miter;stroke:rgb(0%,60.559082%,97.869873%);stroke-opacity:0.6;stroke-miterlimit:10;\" d=\"M 143.968406 32.080062 L 143.968406 52.298812 \" transform=\"matrix(1,0,0,-1,41.223,242.291)\"/>\n",
       "<path style=\"fill:none;stroke-width:0.99628;stroke-linecap:butt;stroke-linejoin:miter;stroke:rgb(0%,60.559082%,97.869873%);stroke-opacity:0.6;stroke-miterlimit:10;\" d=\"M 215.952781 42.208969 L 215.952781 60.201156 \" transform=\"matrix(1,0,0,-1,41.223,242.291)\"/>\n",
       "<path style=\"fill:none;stroke-width:0.99628;stroke-linecap:butt;stroke-linejoin:miter;stroke:rgb(0%,60.559082%,97.869873%);stroke-opacity:0.6;stroke-miterlimit:10;\" d=\"M 287.929344 46.787094 L 287.929344 123.69725 \" transform=\"matrix(1,0,0,-1,41.223,242.291)\"/>\n",
       "<path style=\"fill:none;stroke-width:0.99628;stroke-linecap:butt;stroke-linejoin:miter;stroke:rgb(0%,60.559082%,97.869873%);stroke-opacity:0.6;stroke-miterlimit:10;\" d=\"M 359.913719 104.798812 L 359.913719 230.779281 \" transform=\"matrix(1,0,0,-1,41.223,242.291)\"/>\n",
       "<path style=\"fill-rule:nonzero;fill:rgb(0%,60.559082%,97.869873%);fill-opacity:0.6;stroke-width:0.74721;stroke-linecap:butt;stroke-linejoin:miter;stroke:rgb(0%,0%,0%);stroke-opacity:0.6;stroke-miterlimit:10;\" d=\"M 2.987938 16.724594 C 2.987938 18.376937 1.652 19.716781 -0.00034375 19.716781 C -1.648781 19.716781 -2.988625 18.376937 -2.988625 16.724594 C -2.988625 15.076156 -1.648781 13.736312 -0.00034375 13.736312 C 1.652 13.736312 2.987938 15.076156 2.987938 16.724594 Z M 2.987938 16.724594 \" transform=\"matrix(1,0,0,-1,41.223,242.291)\"/>\n",
       "<path style=\"fill-rule:nonzero;fill:rgb(0%,60.559082%,97.869873%);fill-opacity:0.6;stroke-width:0.74721;stroke-linecap:butt;stroke-linejoin:miter;stroke:rgb(0%,0%,0%);stroke-opacity:0.6;stroke-miterlimit:10;\" d=\"M 74.9645 52.904281 C 74.9645 54.552719 73.624656 55.892562 71.972313 55.892562 C 70.323875 55.892562 68.984031 54.552719 68.984031 52.904281 C 68.984031 51.251937 70.323875 49.916 71.972313 49.916 C 73.624656 49.916 74.9645 51.251937 74.9645 52.904281 Z M 74.9645 52.904281 \" transform=\"matrix(1,0,0,-1,41.223,242.291)\"/>\n",
       "<path style=\"fill-rule:nonzero;fill:rgb(0%,60.559082%,97.869873%);fill-opacity:0.6;stroke-width:0.74721;stroke-linecap:butt;stroke-linejoin:miter;stroke:rgb(0%,0%,0%);stroke-opacity:0.6;stroke-miterlimit:10;\" d=\"M 146.956687 42.189437 C 146.956687 43.841781 145.616844 45.177719 143.968406 45.177719 C 142.316062 45.177719 140.980125 43.841781 140.980125 42.189437 C 140.980125 40.541 142.316062 39.201156 143.968406 39.201156 C 145.616844 39.201156 146.956687 40.541 146.956687 42.189437 Z M 146.956687 42.189437 \" transform=\"matrix(1,0,0,-1,41.223,242.291)\"/>\n",
       "<path style=\"fill-rule:nonzero;fill:rgb(0%,60.559082%,97.869873%);fill-opacity:0.6;stroke-width:0.74721;stroke-linecap:butt;stroke-linejoin:miter;stroke:rgb(0%,0%,0%);stroke-opacity:0.6;stroke-miterlimit:10;\" d=\"M 218.941062 51.205062 C 218.941062 52.857406 217.601219 54.193344 215.952781 54.193344 C 214.300437 54.193344 212.9645 52.857406 212.9645 51.205062 C 212.9645 49.556625 214.300437 48.216781 215.952781 48.216781 C 217.601219 48.216781 218.941062 49.556625 218.941062 51.205062 Z M 218.941062 51.205062 \" transform=\"matrix(1,0,0,-1,41.223,242.291)\"/>\n",
       "<path style=\"fill-rule:nonzero;fill:rgb(0%,60.559082%,97.869873%);fill-opacity:0.6;stroke-width:0.74721;stroke-linecap:butt;stroke-linejoin:miter;stroke:rgb(0%,0%,0%);stroke-opacity:0.6;stroke-miterlimit:10;\" d=\"M 290.917625 85.240219 C 290.917625 86.892562 289.581687 88.2285 287.929344 88.2285 C 286.280906 88.2285 284.941062 86.892562 284.941062 85.240219 C 284.941062 83.591781 286.280906 82.251937 287.929344 82.251937 C 289.581687 82.251937 290.917625 83.591781 290.917625 85.240219 Z M 290.917625 85.240219 \" transform=\"matrix(1,0,0,-1,41.223,242.291)\"/>\n",
       "<path style=\"fill-rule:nonzero;fill:rgb(0%,60.559082%,97.869873%);fill-opacity:0.6;stroke-width:0.74721;stroke-linecap:butt;stroke-linejoin:miter;stroke:rgb(0%,0%,0%);stroke-opacity:0.6;stroke-miterlimit:10;\" d=\"M 362.902 167.791 C 362.902 169.439437 361.562156 170.779281 359.913719 170.779281 C 358.261375 170.779281 356.925437 169.439437 356.925437 167.791 C 356.925437 166.138656 358.261375 164.802719 359.913719 164.802719 C 361.562156 164.802719 362.902 166.138656 362.902 167.791 Z M 362.902 167.791 \" transform=\"matrix(1,0,0,-1,41.223,242.291)\"/>\n",
       "<path style=\"fill:none;stroke-width:0.74721;stroke-linecap:butt;stroke-linejoin:miter;stroke:rgb(0%,0%,0%);stroke-opacity:0.6;stroke-miterlimit:10;\" d=\"M 2.987938 10.064437 L -2.988625 10.064437 \" transform=\"matrix(1,0,0,-1,41.223,242.291)\"/>\n",
       "<path style=\"fill:none;stroke-width:0.74721;stroke-linecap:butt;stroke-linejoin:miter;stroke:rgb(0%,0%,0%);stroke-opacity:0.6;stroke-miterlimit:10;\" d=\"M 2.987938 23.388656 L -2.988625 23.388656 \" transform=\"matrix(1,0,0,-1,41.223,242.291)\"/>\n",
       "<path style=\"fill:none;stroke-width:0.74721;stroke-linecap:butt;stroke-linejoin:miter;stroke:rgb(0%,0%,0%);stroke-opacity:0.6;stroke-miterlimit:10;\" d=\"M 74.9645 6.720687 L 68.984031 6.720687 \" transform=\"matrix(1,0,0,-1,41.223,242.291)\"/>\n",
       "<path style=\"fill:none;stroke-width:0.74721;stroke-linecap:butt;stroke-linejoin:miter;stroke:rgb(0%,0%,0%);stroke-opacity:0.6;stroke-miterlimit:10;\" d=\"M 74.9645 99.083969 L 68.984031 99.083969 \" transform=\"matrix(1,0,0,-1,41.223,242.291)\"/>\n",
       "<path style=\"fill:none;stroke-width:0.74721;stroke-linecap:butt;stroke-linejoin:miter;stroke:rgb(0%,0%,0%);stroke-opacity:0.6;stroke-miterlimit:10;\" d=\"M 146.956687 32.080062 L 140.980125 32.080062 \" transform=\"matrix(1,0,0,-1,41.223,242.291)\"/>\n",
       "<path style=\"fill:none;stroke-width:0.74721;stroke-linecap:butt;stroke-linejoin:miter;stroke:rgb(0%,0%,0%);stroke-opacity:0.6;stroke-miterlimit:10;\" d=\"M 146.956687 52.298812 L 140.980125 52.298812 \" transform=\"matrix(1,0,0,-1,41.223,242.291)\"/>\n",
       "<path style=\"fill:none;stroke-width:0.74721;stroke-linecap:butt;stroke-linejoin:miter;stroke:rgb(0%,0%,0%);stroke-opacity:0.6;stroke-miterlimit:10;\" d=\"M 218.941062 42.208969 L 212.9645 42.208969 \" transform=\"matrix(1,0,0,-1,41.223,242.291)\"/>\n",
       "<path style=\"fill:none;stroke-width:0.74721;stroke-linecap:butt;stroke-linejoin:miter;stroke:rgb(0%,0%,0%);stroke-opacity:0.6;stroke-miterlimit:10;\" d=\"M 218.941062 60.201156 L 212.9645 60.201156 \" transform=\"matrix(1,0,0,-1,41.223,242.291)\"/>\n",
       "<path style=\"fill:none;stroke-width:0.74721;stroke-linecap:butt;stroke-linejoin:miter;stroke:rgb(0%,0%,0%);stroke-opacity:0.6;stroke-miterlimit:10;\" d=\"M 290.917625 46.787094 L 284.941062 46.787094 \" transform=\"matrix(1,0,0,-1,41.223,242.291)\"/>\n",
       "<path style=\"fill:none;stroke-width:0.74721;stroke-linecap:butt;stroke-linejoin:miter;stroke:rgb(0%,0%,0%);stroke-opacity:0.6;stroke-miterlimit:10;\" d=\"M 290.917625 123.69725 L 284.941062 123.69725 \" transform=\"matrix(1,0,0,-1,41.223,242.291)\"/>\n",
       "<path style=\"fill:none;stroke-width:0.74721;stroke-linecap:butt;stroke-linejoin:miter;stroke:rgb(0%,0%,0%);stroke-opacity:0.6;stroke-miterlimit:10;\" d=\"M 362.902 104.798812 L 356.925437 104.798812 \" transform=\"matrix(1,0,0,-1,41.223,242.291)\"/>\n",
       "<path style=\"fill:none;stroke-width:0.74721;stroke-linecap:butt;stroke-linejoin:miter;stroke:rgb(0%,0%,0%);stroke-opacity:0.6;stroke-miterlimit:10;\" d=\"M 362.902 230.779281 L 356.925437 230.779281 \" transform=\"matrix(1,0,0,-1,41.223,242.291)\"/>\n",
       "<g style=\"fill:rgb(0%,0%,0%);fill-opacity:1;\">\n",
       "  <use xlink:href=\"#glyph-1588310830543946-3-1\" x=\"202.068\" y=\"266.922\"/>\n",
       "  <use xlink:href=\"#glyph-1588310830543946-3-2\" x=\"209.815942\" y=\"266.922\"/>\n",
       "  <use xlink:href=\"#glyph-1588310830543946-3-3\" x=\"215.777584\" y=\"266.922\"/>\n",
       "  <use xlink:href=\"#glyph-1588310830543946-3-4\" x=\"219.952925\" y=\"266.922\"/>\n",
       "  <use xlink:href=\"#glyph-1588310830543946-3-5\" x=\"224.720046\" y=\"266.922\"/>\n",
       "  <use xlink:href=\"#glyph-1588310830543946-3-6\" x=\"230.089907\" y=\"266.922\"/>\n",
       "  <use xlink:href=\"#glyph-1588310830543946-3-7\" x=\"236.051549\" y=\"266.922\"/>\n",
       "</g>\n",
       "<path style=\"fill-rule:nonzero;fill:rgb(100%,100%,100%);fill-opacity:1;stroke-width:0.99628;stroke-linecap:butt;stroke-linejoin:miter;stroke:rgb(0%,0%,0%);stroke-opacity:1;stroke-miterlimit:10;\" d=\"M 268.698875 217.177719 L 362.577781 217.177719 L 362.577781 232.251937 L 268.698875 232.251937 Z M 268.698875 217.177719 \" transform=\"matrix(1,0,0,-1,41.223,242.291)\"/>\n",
       "<path style=\"fill-rule:nonzero;fill:rgb(0%,60.559082%,97.869873%);fill-opacity:0.6;stroke-width:0.74721;stroke-linecap:butt;stroke-linejoin:miter;stroke:rgb(0%,0%,0%);stroke-opacity:0.6;stroke-miterlimit:10;\" d=\"M 11.491812 -0.000125 C 11.491812 1.652219 10.155875 2.988156 8.503531 2.988156 C 6.855094 2.988156 5.51525 1.652219 5.51525 -0.000125 C 5.51525 -1.652469 6.855094 -2.988406 8.503531 -2.988406 C 10.155875 -2.988406 11.491812 -1.652469 11.491812 -0.000125 Z M 11.491812 -0.000125 \" transform=\"matrix(1,0,0,-1,307.391,17.578)\"/>\n",
       "<g style=\"fill:rgb(0%,0%,0%);fill-opacity:1;\">\n",
       "  <use xlink:href=\"#glyph-1588310830543946-4-1\" x=\"320.876\" y=\"19.637\"/>\n",
       "  <use xlink:href=\"#glyph-1588310830543946-4-2\" x=\"328.630917\" y=\"19.637\"/>\n",
       "  <use xlink:href=\"#glyph-1588310830543946-4-3\" x=\"332.392809\" y=\"19.637\"/>\n",
       "  <use xlink:href=\"#glyph-1588310830543946-4-4\" x=\"336.624937\" y=\"19.637\"/>\n",
       "</g>\n",
       "<g style=\"fill:rgb(0%,0%,0%);fill-opacity:1;\">\n",
       "  <use xlink:href=\"#glyph-1588310830543946-4-5\" x=\"344.148721\" y=\"19.637\"/>\n",
       "  <use xlink:href=\"#glyph-1588310830543946-4-6\" x=\"350.61248\" y=\"19.637\"/>\n",
       "  <use xlink:href=\"#glyph-1588310830543946-4-7\" x=\"355.314845\" y=\"19.637\"/>\n",
       "  <use xlink:href=\"#glyph-1588310830543946-4-3\" x=\"358.614471\" y=\"19.637\"/>\n",
       "  <use xlink:href=\"#glyph-1588310830543946-4-8\" x=\"362.846599\" y=\"19.637\"/>\n",
       "  <use xlink:href=\"#glyph-1588310830543946-4-9\" x=\"366.138255\" y=\"19.637\"/>\n",
       "  <use xlink:href=\"#glyph-1588310830543946-4-10\" x=\"368.489437\" y=\"19.637\"/>\n",
       "  <use xlink:href=\"#glyph-1588310830543946-4-4\" x=\"372.721566\" y=\"19.637\"/>\n",
       "</g>\n",
       "<g style=\"fill:rgb(0%,0%,0%);fill-opacity:1;\">\n",
       "  <use xlink:href=\"#glyph-1588310830543946-4-11\" x=\"380.245349\" y=\"19.637\"/>\n",
       "</g>\n",
       "<g style=\"fill:rgb(0%,0%,0%);fill-opacity:1;\">\n",
       "  <use xlink:href=\"#glyph-1588310830543946-4-12\" x=\"389.650079\" y=\"19.637\"/>\n",
       "  <use xlink:href=\"#glyph-1588310830543946-4-13\" x=\"395.763154\" y=\"19.637\"/>\n",
       "</g>\n",
       "</g>\n",
       "</svg>\n",
       "\n"
      ]
     },
     "execution_count": 26,
     "metadata": {},
     "output_type": "execute_result"
    }
   ],
   "source": [
    "plot_results(parsed_results.threads,\n",
    "    parsed_results.mean_duration,\n",
    "    \"pi\",\n",
    "    \"Mean Duration + CI\",\n",
    "    yerror = parsed_results.ci_duration,\n",
    "    max_thread_power = 11)"
   ]
  },
  {
   "cell_type": "code",
   "execution_count": null,
   "metadata": {},
   "outputs": [],
   "source": [
    "plot_results(parsed_results.threads,\n",
    "    parsed_results.mean_estimate,\n",
    "    \"pi\",\n",
    "    \"Mean Estimate + CI\",\n",
    "    hline = [pi for i in 1:nrow(parsed_results)],\n",
    "    yerror = parsed_results.ci_estimate,\n",
    "    max_thread_power = 11)"
   ]
  }
 ],
 "metadata": {
  "kernelspec": {
   "display_name": "Julia 1.4.1",
   "language": "julia",
   "name": "julia-1.4"
  },
  "language_info": {
   "file_extension": ".jl",
   "mimetype": "application/julia",
   "name": "julia",
   "version": "1.4.1"
  }
 },
 "nbformat": 4,
 "nbformat_minor": 2
}
